{
 "cells": [
  {
   "cell_type": "markdown",
   "metadata": {},
   "source": [
    "# 正则表达式re\n",
    "\n",
    "- 正则表达式是一个特殊的字符序列，它能帮助你方便的检查一个字符串是否与某种模式匹配。\n",
    "\n",
    "- re 模块使 Python 语言拥有全部的正则表达式功能。\n",
    "\n",
    "- compile 函数根据一个模式字符串和可选的标志参数生成一个正则表达式对象。该对象拥有一系列方法用于正则表达式匹配和替换。\n",
    "\n",
    "- re 模块也提供了与这些方法功能完全一致的函数，这些函数使用一个模式字符串做为它们的第一个参数。\n",
    "\n",
    "参考菜鸟教程：http://www.runoob.com/python3/python3-reg-expressions.html"
   ]
  },
  {
   "cell_type": "markdown",
   "metadata": {},
   "source": [
    "## re.match函数\n",
    "\n",
    "- re.match 尝试从字符串的起始位置匹配一个模式，匹配成功re.match方法返回一个匹配的对象，否则返回None。\n",
    "\n",
    "- 函数语法：\n",
    "    \n",
    "        re.match(pattern, string, flags=0)\n",
    "    \n",
    "- 函数参数说明：\n",
    "        参数\t   描述\n",
    "\n",
    "        pattern\t 匹配的正则表达式\n",
    "\n",
    "        string\t 要匹配的字符串。\n",
    "\n",
    "        flags\t 标志位，用于控制正则表达式的匹配方式，如：是否区分大小写，多行匹配等等。参见：正则表达式修饰符 - 可选标志\n",
    "\n",
    "- 可以使用group(num) 或 groups() 匹配对象函数来获取匹配表达式。\n",
    "\n",
    "        匹配对象方法\t   描述\n",
    "\n",
    "        group(num=0)\t匹配的整个表达式的字符串，group() 可以一次输入多个组号，在这种情况下它将返回一个包含那些组所对应值的元组。\n",
    "\n",
    "        groups()\t   返回一个包含所有小组字符串的元组，从 1 到 所含的小组号。\n"
   ]
  },
  {
   "cell_type": "code",
   "execution_count": 3,
   "metadata": {},
   "outputs": [
    {
     "name": "stdout",
     "output_type": "stream",
     "text": [
      "<_sre.SRE_Match object; span=(0, 3), match='www'>\n",
      "(0, 3)\n",
      "None\n"
     ]
    }
   ],
   "source": [
    "# re.match()\n",
    "import re\n",
    "\n",
    "print(re.match('www', 'www.runoob.com'))  # 在起始位置匹配   # <_sre.SRE_Match object; span=(0, 3), match='www'>\n",
    "print(re.match('www', 'www.runoob.com').span())  # (0, 3)\n",
    "print(re.match('com', 'www.runoob.com'))  # 不在起始位置匹配  # None"
   ]
  },
  {
   "cell_type": "code",
   "execution_count": 4,
   "metadata": {},
   "outputs": [
    {
     "name": "stdout",
     "output_type": "stream",
     "text": [
      "matchObj.group() :  Cats are smarter than dogs\n",
      "matchObj.group(1) :  Cats\n",
      "matchObj.group(2) :  smarter\n"
     ]
    }
   ],
   "source": [
    "# group()\n",
    "# group([group1, ...]) -> str or tuple.\n",
    "# Return subgroup(s) of the match by indices or names.\n",
    "# For 0 returns the entire match.\n",
    "import re\n",
    "\n",
    "line = \"Cats are smarter than dogs\"\n",
    "\n",
    "# .* 表示任意匹配除换行符（\\n、\\r）之外的任何单个或多个字符\n",
    "matchObj = re.match( r'(.*) are (.*?) .*', line, re.M|re.I)  # re.M:多行匹配，影响 ^ 和 $ ;  re.I:使匹配对大小写不敏感.\n",
    "\n",
    "if matchObj:\n",
    "    print(\"matchObj.group() : \", matchObj.group())\n",
    "    print(\"matchObj.group(1) : \", matchObj.group(1))\n",
    "    print(\"matchObj.group(2) : \", matchObj.group(2))\n",
    "else:\n",
    "    print(\"No match!!\")"
   ]
  },
  {
   "cell_type": "code",
   "execution_count": 5,
   "metadata": {},
   "outputs": [
    {
     "name": "stdout",
     "output_type": "stream",
     "text": [
      "('Cats', 'smarter')\n"
     ]
    }
   ],
   "source": [
    "# groups():Return a tuple containing all the subgroups of the match, from 1.\n",
    "print(matchObj.groups())"
   ]
  },
  {
   "cell_type": "markdown",
   "metadata": {},
   "source": [
    "## re.search方法\n",
    "\n",
    "- re.search 扫描整个字符串并返回第一个成功的匹配。匹配成功re.search方法返回一个匹配的对象，否则返回None。\n",
    "\n",
    "- 函数语法：\n",
    "\n",
    "        re.search(pattern, string, flags=0)\n",
    "        \n",
    "- 可以使用group(num) 或 groups() 匹配对象函数来获取匹配表达式。"
   ]
  },
  {
   "cell_type": "code",
   "execution_count": 6,
   "metadata": {},
   "outputs": [
    {
     "name": "stdout",
     "output_type": "stream",
     "text": [
      "(0, 3)\n",
      "(11, 14)\n"
     ]
    }
   ],
   "source": [
    "# re.search()\n",
    "import re\n",
    " \n",
    "print(re.search('www', 'www.runoob.com').span())  # 在起始位置匹配\n",
    "print(re.search('com', 'www.runoob.com').span())  # 不在起始位置匹配"
   ]
  },
  {
   "cell_type": "code",
   "execution_count": 7,
   "metadata": {},
   "outputs": [
    {
     "name": "stdout",
     "output_type": "stream",
     "text": [
      "searchObj.group() :  Cats are smarter than dogs\n",
      "searchObj.group(1) :  Cats\n",
      "searchObj.group(2) :  smarter\n"
     ]
    }
   ],
   "source": [
    "# group()  \\ groups()\n",
    "import re\n",
    " \n",
    "line = \"Cats are smarter than dogs\"\n",
    " \n",
    "searchObj = re.search( r'(.*) are (.*?) .*', line, re.M|re.I)\n",
    "\n",
    "if searchObj:\n",
    "    print (\"searchObj.group() : \", searchObj.group())\n",
    "    print (\"searchObj.group(1) : \", searchObj.group(1))\n",
    "    print (\"searchObj.group(2) : \", searchObj.group(2))\n",
    "else:\n",
    "    print (\"Nothing found!!\")"
   ]
  },
  {
   "cell_type": "code",
   "execution_count": 8,
   "metadata": {},
   "outputs": [
    {
     "name": "stdout",
     "output_type": "stream",
     "text": [
      "('Cats', 'smarter')\n"
     ]
    }
   ],
   "source": [
    "# groups()\n",
    "print(searchObj.groups())"
   ]
  },
  {
   "cell_type": "markdown",
   "metadata": {},
   "source": [
    "## re.match与re.search的区别\n",
    "\n",
    "1、re.match只匹配字符串的开始，如果字符串开始不符合正则表达式，则匹配失败，函数返回None；\n",
    " \n",
    "2、而re.search匹配整个字符串，直到找到一个匹配。"
   ]
  },
  {
   "cell_type": "code",
   "execution_count": 9,
   "metadata": {},
   "outputs": [
    {
     "name": "stdout",
     "output_type": "stream",
     "text": [
      "No match!!\n",
      "search --> matchObj.group() :  dogs\n"
     ]
    }
   ],
   "source": [
    "import re\n",
    "line = \"Cats are smarter than dogs\";\n",
    "\n",
    "matchObj = re.match( r'dogs', line, re.M|re.I)\n",
    "if matchObj:\n",
    "    print(\"match --> matchObj.group() : \", matchObj.group())\n",
    "else:\n",
    "    print(\"No match!!\")\n",
    "\n",
    "\n",
    "matchObj = re.search( r'dogs', line, re.M|re.I)\n",
    "if matchObj:\n",
    "    print(\"search --> matchObj.group() : \", matchObj.group())\n",
    "else:\n",
    "    print(\"No match!!\")"
   ]
  },
  {
   "cell_type": "markdown",
   "metadata": {},
   "source": [
    "## 检索和替换\n",
    "\n",
    "- Python 的re模块提供了re.sub用于替换字符串中的匹配项。\n",
    "\n",
    "- 语法：\n",
    "\n",
    "        re.sub(pattern, repl, string, count=0)\n",
    "        \n",
    "    参数：\n",
    "    \n",
    "    pattern : 正则中的模式字符串。\n",
    "    \n",
    "    repl : 替换的字符串，也可为一个函数。\n",
    "    \n",
    "    string : 要被查找替换的原始字符串。\n",
    "    \n",
    "    count : 模式匹配后替换的最大次数，默认 0 表示替换所有的匹配。"
   ]
  },
  {
   "cell_type": "code",
   "execution_count": 10,
   "metadata": {},
   "outputs": [
    {
     "name": "stdout",
     "output_type": "stream",
     "text": [
      "电话号码 :  2004-959-559 \n",
      "电话号码 :  2004959559\n"
     ]
    }
   ],
   "source": [
    "# repl 参数是 字符串\n",
    "\n",
    "import re\n",
    " \n",
    "phone = \"2004-959-559 # 这是一个电话号码\"\n",
    " \n",
    "# 删除注释\n",
    "num = re.sub(r'#.*$', \"\", phone)\n",
    "print (\"电话号码 : \", num)\n",
    " \n",
    "# 移除非数字的内容\n",
    "num = re.sub(r'\\D', \"\", phone)\n",
    "print (\"电话号码 : \", num)"
   ]
  },
  {
   "cell_type": "code",
   "execution_count": 11,
   "metadata": {},
   "outputs": [
    {
     "name": "stdout",
     "output_type": "stream",
     "text": [
      "A46G8HFD1134\n"
     ]
    }
   ],
   "source": [
    "# repl 参数是 函数\n",
    "\n",
    "import re\n",
    " \n",
    "# 将匹配的数字乘于 2\n",
    "def double(matched):\n",
    "    value = int(matched.group('value'))\n",
    "    return str(value * 2)\n",
    " \n",
    "s = 'A23G4HFD567'\n",
    "print(re.sub('(?P<value>\\d+)', double, s))"
   ]
  },
  {
   "cell_type": "markdown",
   "metadata": {},
   "source": [
    "## compile 函数\n",
    "\n",
    "- compile 函数用于编译正则表达式，生成一个正则表达式（ Pattern ）对象，供 match() 和 search() 这两个函数使用。\n",
    "\n",
    "- 语法格式为：\n",
    "\n",
    "        re.compile(pattern[, flags])\n",
    "        \n",
    "    参数：\n",
    "    \n",
    "    pattern : 一个字符串形式的正则表达式\n",
    "    \n",
    "    flags 可选，表示匹配模式，比如忽略大小写，多行模式等，具体参数为：\n",
    "    \n",
    "        re.I 忽略大小写\n",
    "\n",
    "        re.L 表示特殊字符集 \\w, \\W, \\b, \\B, \\s, \\S 依赖于当前环境\n",
    "\n",
    "        re.M 多行模式\n",
    "\n",
    "        re.S 即为' . '并且包括换行符在内的任意字符（' . '不包括换行符）\n",
    "\n",
    "        re.U 表示特殊字符集 \\w, \\W, \\b, \\B, \\d, \\D, \\s, \\S 依赖于 Unicode 字符属性数据库\n",
    "\n",
    "        re.X 为了增加可读性，忽略空格和' # '后面的注释"
   ]
  },
  {
   "cell_type": "code",
   "execution_count": 12,
   "metadata": {},
   "outputs": [
    {
     "name": "stdout",
     "output_type": "stream",
     "text": [
      "None\n",
      "None\n",
      "<_sre.SRE_Match object; span=(3, 5), match='12'>\n",
      "12\n",
      "3\n",
      "5\n",
      "(3, 5)\n"
     ]
    }
   ],
   "source": [
    "# 实例一\n",
    "import re\n",
    "\n",
    "pattern = re.compile(r'\\d+')                    # 用于匹配至少一个数字\n",
    "\n",
    "m = pattern.match('one12twothree34four')        # 查找头部，没有匹配\n",
    "print(m)\n",
    "\n",
    "m = pattern.match('one12twothree34four', 2, 10)  # 从'e'的位置开始匹配，没有匹配\n",
    "print(m)\n",
    "\n",
    "m = pattern.match('one12twothree34four', 3, 10)  # 从'1'的位置开始匹配，正好匹配\n",
    "print(m)                                         # 返回一个 Match 对象\n",
    "print(m.group(0))   # 可省略 0\n",
    "print(m.start(0))   # 可省略 0  # m.start():Return index of the start of the substring matched by group.\n",
    "print(m.end(0))     # 可省略 0  # m.end():Return index of the end of the substring matched by group. 【不包括end在内】\n",
    "print(m.span(0))    # 可省略 0  # m.span():For MatchObject m, return the 2-tuple (m.start(group), m.end(group)).  【遵循左闭右开】"
   ]
  },
  {
   "cell_type": "markdown",
   "metadata": {},
   "source": [
    "> 在上面，当匹配成功时返回一个 Match 对象，其中：\n",
    "\n",
    ">        group([group1, …]) 方法用于获得一个或多个分组匹配的字符串，当要获得整个匹配的子串时，可直接使用 group() 或 group(0)；\n",
    "\n",
    ">        start([group]) 方法用于获取分组匹配的子串在整个字符串中的起始位置（子串第一个字符的索引），参数默认值为 0；\n",
    "\n",
    ">        end([group]) 方法用于获取分组匹配的子串在整个字符串中的结束位置（子串最后一个字符的索引+1），参数默认值为 0；\n",
    "\n",
    ">        span([group]) 方法返回 (start(group), end(group))。"
   ]
  },
  {
   "cell_type": "code",
   "execution_count": 13,
   "metadata": {},
   "outputs": [
    {
     "name": "stdout",
     "output_type": "stream",
     "text": [
      "<_sre.SRE_Match object; span=(0, 11), match='Hello World'>\n",
      "Hello World\n",
      "(0, 11)\n",
      "Hello\n",
      "(0, 5)\n",
      "World\n",
      "(6, 11)\n",
      "('Hello', 'World')\n"
     ]
    },
    {
     "ename": "IndexError",
     "evalue": "no such group",
     "output_type": "error",
     "traceback": [
      "\u001b[1;31m---------------------------------------------------------------------------\u001b[0m",
      "\u001b[1;31mIndexError\u001b[0m                                Traceback (most recent call last)",
      "\u001b[1;32m<ipython-input-13-18ce7efef0ee>\u001b[0m in \u001b[0;36m<module>\u001b[1;34m()\u001b[0m\n\u001b[0;32m     18\u001b[0m \u001b[0mprint\u001b[0m\u001b[1;33m(\u001b[0m\u001b[0mm\u001b[0m\u001b[1;33m.\u001b[0m\u001b[0mgroups\u001b[0m\u001b[1;33m(\u001b[0m\u001b[1;33m)\u001b[0m\u001b[1;33m)\u001b[0m                            \u001b[1;31m# 等价于 (m.group(1), m.group(2), ...)\u001b[0m\u001b[1;33m\u001b[0m\u001b[1;33m\u001b[0m\u001b[0m\n\u001b[0;32m     19\u001b[0m \u001b[1;33m\u001b[0m\u001b[0m\n\u001b[1;32m---> 20\u001b[1;33m \u001b[0mprint\u001b[0m\u001b[1;33m(\u001b[0m\u001b[0mm\u001b[0m\u001b[1;33m.\u001b[0m\u001b[0mgroup\u001b[0m\u001b[1;33m(\u001b[0m\u001b[1;36m3\u001b[0m\u001b[1;33m)\u001b[0m\u001b[1;33m)\u001b[0m                            \u001b[1;31m# 不存在第三个分组\u001b[0m\u001b[1;33m\u001b[0m\u001b[1;33m\u001b[0m\u001b[0m\n\u001b[0m",
      "\u001b[1;31mIndexError\u001b[0m: no such group"
     ]
    }
   ],
   "source": [
    "# 实例二\n",
    "import re\n",
    "\n",
    "pattern = re.compile(r'([a-z]+) ([a-z]+)', re.I)   # re.I 表示忽略大小写\n",
    "\n",
    "m = pattern.match('Hello World Wide Web')\n",
    "print(m)                                           # 匹配成功，返回一个 Match 对象\n",
    "\n",
    "print(m.group(0))                            # 返回匹配成功的整个子串\n",
    "print(m.span(0))                             # 返回匹配成功的整个子串的索引\n",
    "\n",
    "print(m.group(1))                            # 返回第一个分组匹配成功的子串\n",
    "print(m.span(1))                             # 返回第一个分组匹配成功的子串的索引\n",
    "\n",
    "print(m.group(2))                            # 返回第二个分组匹配成功的子串\n",
    "print(m.span(2))                             # 返回第二个分组匹配成功的子串\n",
    "\n",
    "print(m.groups())                            # 等价于 (m.group(1), m.group(2), ...)\n",
    "\n",
    "print(m.group(3))                            # 不存在第三个分组，会报错：IndexError: no such group"
   ]
  },
  {
   "cell_type": "markdown",
   "metadata": {},
   "source": [
    "## findall\n",
    "\n",
    "- 在字符串中找到正则表达式所匹配的所有子串，并返回一个列表，如果没有找到匹配的，则返回空列表。\n",
    "\n",
    "注意： match 和 search 是匹配一次, findall 匹配所有。\n",
    "\n",
    "- 语法格式为：\n",
    "\n",
    "        findall(string[, pos[, endpos]])\n",
    "\n",
    "    参数：\n",
    "\n",
    "    string 待匹配的字符串。\n",
    "\n",
    "    pos 可选参数，指定字符串的起始位置，默认为 0。\n",
    "\n",
    "    endpos 可选参数，指定字符串的结束位置，默认为字符串的长度。【不包括endpos在内，即遵循左闭右开。】"
   ]
  },
  {
   "cell_type": "code",
   "execution_count": 14,
   "metadata": {},
   "outputs": [
    {
     "name": "stdout",
     "output_type": "stream",
     "text": [
      "['123', '456']\n",
      "['88', '12']\n"
     ]
    }
   ],
   "source": [
    "# findall()  实例：查找字符串中的所有数字：\n",
    "import re\n",
    "\n",
    "pattern = re.compile(r'\\d+')   # 查找数字\n",
    "result1 = pattern.findall('runoob 123 google 456')\n",
    "result2 = pattern.findall('run88oob123google456', 0, 10)\n",
    "\n",
    "print(result1)\n",
    "print(result2)"
   ]
  },
  {
   "cell_type": "markdown",
   "metadata": {},
   "source": [
    "## re.finditer\n",
    "\n",
    "- 和 findall 类似，在字符串中找到正则表达式所匹配的所有子串，并把它们作为一个迭代器返回。\n",
    "\n",
    "- 语法：\n",
    "\n",
    "        re.finditer(pattern, string, flags=0)\n",
    "        \n",
    "    参数\t   描述\n",
    "    \n",
    "    pattern\t 匹配的正则表达式\n",
    "    \n",
    "    string\t 要匹配的字符串。\n",
    "    \n",
    "    flags\t 标志位，用于控制正则表达式的匹配方式，如：是否区分大小写，多行匹配等等。参见：正则表达式修饰符 - 可选标志"
   ]
  },
  {
   "cell_type": "code",
   "execution_count": 15,
   "metadata": {},
   "outputs": [
    {
     "name": "stdout",
     "output_type": "stream",
     "text": [
      "<callable_iterator object at 0x000001C797A59198> <class 'callable_iterator'>\n",
      "<_sre.SRE_Match object; span=(0, 2), match='12'>\n",
      "12\n",
      "<_sre.SRE_Match object; span=(3, 5), match='32'>\n",
      "32\n",
      "<_sre.SRE_Match object; span=(7, 9), match='43'>\n",
      "43\n",
      "<_sre.SRE_Match object; span=(11, 12), match='3'>\n",
      "3\n"
     ]
    }
   ],
   "source": [
    "import re\n",
    " \n",
    "it = re.finditer(r\"\\d+\",\"12a32bc43jf3\") \n",
    "print(it,type(it))  # 把match对象放在迭代器内\n",
    "\n",
    "for match in it:\n",
    "    print(match)   # 返回一个match对象\n",
    "    print(match.group())"
   ]
  },
  {
   "cell_type": "markdown",
   "metadata": {},
   "source": [
    "## re.split\n",
    "\n",
    "- split 方法按照能够匹配的子串将字符串分割后返回列表，它的使用形式如下：\n",
    "\n",
    "        re.split(pattern, string[, maxsplit=0, flags=0])\n",
    "\n",
    "    参数：\n",
    "    \n",
    "    pattern\t    匹配的正则表达式\n",
    "   \n",
    "    string\t    要匹配的字符串。\n",
    "    \n",
    "    maxsplit\t 分隔次数，maxsplit=1 分隔一次，默认为 0，不限制次数。\n",
    "    \n",
    "    flags\t    标志位，用于控制正则表达式的匹配方式，如：是否区分大小写，多行匹配等等。参见：正则表达式修饰符 - 可选标志"
   ]
  },
  {
   "cell_type": "code",
   "execution_count": 16,
   "metadata": {},
   "outputs": [
    {
     "name": "stdout",
     "output_type": "stream",
     "text": [
      "['runoob', 'runoob', 'runoob', '']\n",
      "['', 'runoob, runoob, runoob.']\n",
      "['hello world']\n"
     ]
    },
    {
     "name": "stderr",
     "output_type": "stream",
     "text": [
      "C:\\Users\\DELL\\Anaconda3\\lib\\re.py:212: FutureWarning: split() requires a non-empty pattern match.\n",
      "  return _compile(pattern, flags).split(string, maxsplit)\n"
     ]
    }
   ],
   "source": [
    "import re\n",
    "\n",
    "print(re.split('\\W+', 'runoob, runoob, runoob.'))  # \\W 匹配非数字字母下划线\n",
    "print(re.split('\\W+', ' runoob, runoob, runoob.', 1))\n",
    "print(re.split('a*', 'hello world'))   # 对于一个找不到匹配的字符串而言，split 不会对其作出分割)"
   ]
  },
  {
   "cell_type": "markdown",
   "metadata": {},
   "source": [
    "## 正则表达式对象\n",
    "\n",
    "- ** re.RegexObject **\n",
    "\n",
    "    re.compile() 返回 RegexObject 对象。  \n",
    "    \n",
    "    \n",
    "- ** re.MatchObject **\n",
    "\n",
    "    group() 返回被 RE 匹配的字符串。\n",
    "    \n",
    "    - start() 返回匹配开始的位置\n",
    "    \n",
    "    - end() 返回匹配结束的位置\n",
    "    \n",
    "    - span() 返回一个元组包含匹配 (开始,结束) 的位置\n",
    "    "
   ]
  },
  {
   "cell_type": "markdown",
   "metadata": {},
   "source": [
    "## 正则表达式修饰符 - 可选标志\n",
    "\n",
    "- 正则表达式可以包含一些可选标志修饰符来控制匹配的模式。\n",
    "\n",
    "- 修饰符被指定为一个可选的标志。\n",
    "\n",
    "- 多个标志可以通过按位 OR(|) 它们来指定。如 re.I | re.M 被设置成 I 和 M 标志：\n",
    "\n",
    "        修饰符\t 描述\n",
    "\n",
    "        re.I\t使匹配对大小写不敏感\n",
    "\n",
    "        re.L\t做本地化识别（locale-aware）匹配\n",
    "\n",
    "        re.M\t多行匹配，影响 ^ 和 `$` \n",
    "\n",
    "        re.S\t使 . 匹配包括换行在内的所有字符\n",
    "\n",
    "        re.U\t根据Unicode字符集解析字符。这个标志影响 \\w, \\W, \\b, \\B.\n",
    "\n",
    "        re.X\t该标志通过给予你更灵活的格式以便你将正则表达式写得更易于理解。\n"
   ]
  },
  {
   "cell_type": "markdown",
   "metadata": {},
   "source": [
    "## 正则表达式模式\n",
    "\n",
    "- 模式字符串使用特殊的语法来表示一个正则表达式：\n",
    "\n",
    "- 字母和数字表示他们自身。一个正则表达式模式中的字母和数字匹配同样的字符串。\n",
    "\n",
    "- 多数字母和数字前加一个反斜杠时会拥有不同的含义。\n",
    "\n",
    "- 标点符号只有被转义时才匹配自身，否则它们表示特殊的含义。\n",
    "\n",
    "- 反斜杠本身需要使用反斜杠转义。\n",
    "\n",
    "- 由于正则表达式通常都包含反斜杠，所以你最好使用原始字符串来表示它们。模式元素(如 r'\\t'，等价于 \\\\t )匹配相应的特殊字符。"
   ]
  },
  {
   "cell_type": "markdown",
   "metadata": {},
   "source": [
    "**下表列出了正则表达式模式语法中的特殊元素。如果你使用模式的同时提供了可选的标志参数，某些模式元素的含义会改变。**"
   ]
  },
  {
   "cell_type": "code",
   "execution_count": null,
   "metadata": {
    "collapsed": true
   },
   "outputs": [],
   "source": [
    "'''\n",
    "\n",
    "^\t匹配字符串的开头\n",
    "$\t匹配字符串的末尾。\n",
    ".\t匹配任意字符，除了换行符，当re.DOTALL标记被指定时，则可以匹配包括换行符的任意字符。\n",
    "\n",
    "用*表示任意个字符（包括0个），用+表示至少一个字符，用?表示0个或1个字符.\n",
    "\n",
    "[...]\t用来表示一组字符,单独列出：[amk] 匹配 'a'，'m'或'k'\n",
    "[^...]\t不在[]中的字符：[^abc] 匹配除了a,b,c之外的字符。\n",
    "\n",
    "re*\t匹配0个或多个的表达式。\n",
    "re+\t匹配1个或多个的表达式。\n",
    "re?\t匹配0个或1个由前面的正则表达式定义的片段，非贪婪方式\n",
    "\n",
    "re{ n}\t匹配n个前面表达式。例如，\"o{2}\"不能匹配\"Bob\"中的\"o\"，但是能匹配\"food\"中的两个o。\n",
    "re{ n,}\t精确匹配n个前面表达式。例如，\"o{2,}\"不能匹配\"Bob\"中的\"o\"，但能匹配\"foooood\"中的所有o。\"o{1,}\"等价于\"o+\"。\"o{0,}\"则等价于\"o*\"。\n",
    "re{ n, m}\t匹配 n 到 m 次由前面的正则表达式定义的片段，贪婪方式\n",
    "\n",
    "a | b\t匹配a或b\n",
    "\n",
    "(re)\t匹配括号内的表达式，也表示一个组\n",
    "(?imx)\t正则表达式包含三种可选标志：i, m, 或 x 。只影响括号中的区域。\n",
    "(?-imx)\t正则表达式关闭 i, m, 或 x 可选标志。只影响括号中的区域。\n",
    "(?: re)\t类似 (...), 但是不表示一个组\n",
    "(?imx: re)\t在括号中使用i, m, 或 x 可选标志\n",
    "(?-imx: re)\t在括号中不使用i, m, 或 x 可选标志\n",
    "(?#...)\t注释.\n",
    "(?= re)\t前向肯定界定符。如果所含正则表达式，以 ... 表示，在当前位置成功匹配时成功，否则失败。但一旦所含表达式已经尝试，匹配引擎根本没有提高；模式的剩余部分还要尝试界定符的右边。\n",
    "(?! re)\t前向否定界定符。与肯定界定符相反；当所含表达式不能在字符串当前位置匹配时成功。\n",
    "(?> re)\t匹配的独立模式，省去回溯。\n",
    "\n",
    "\\w\t匹配数字字母下划线\n",
    "\\W\t匹配非数字字母下划线\n",
    "\\s\t匹配任意空白字符，等价于 [\\t\\n\\r\\f]。\n",
    "\\S\t匹配任意非空字符\n",
    "\\d\t匹配任意数字，等价于 [0-9]。\n",
    "\\D\t匹配任意非数字\n",
    "\\A\t匹配字符串开始\n",
    "\\Z\t匹配字符串结束，如果是存在换行，只匹配到换行前的结束字符串。\n",
    "\\z\t匹配字符串结束\n",
    "\\G\t匹配最后匹配完成的位置。\n",
    "\\b\t匹配一个单词边界，也就是指单词和空格间的位置。例如， 'er\\b' 可以匹配\"never\" 中的 'er'，但不能匹配 \"verb\" 中的 'er'。\n",
    "\\B\t匹配非单词边界。'er\\B' 能匹配 \"verb\" 中的 'er'，但不能匹配 \"never\" 中的 'er'。\n",
    "\\n, \\t, 等。\t匹配一个换行符。匹配一个制表符, 等\n",
    "\\1...\\9\t匹配第n个分组的内容。\n",
    "\\10\t匹配第n个分组的内容，如果它经匹配。否则指的是八进制字符码的表达式。\n",
    "\n",
    "'''"
   ]
  },
  {
   "cell_type": "code",
   "execution_count": null,
   "metadata": {
    "collapsed": true
   },
   "outputs": [],
   "source": [
    "'''字符匹配\n",
    "\n",
    "python\t匹配 \"python\".\n",
    "\n",
    "'''"
   ]
  },
  {
   "cell_type": "code",
   "execution_count": null,
   "metadata": {
    "collapsed": true
   },
   "outputs": [],
   "source": [
    "'''字符类\n",
    "\n",
    "[Pp]ython\t匹配 \"Python\" 或 \"python\"\n",
    "rub[ye]\t匹配 \"ruby\" 或 \"rube\"\n",
    "[aeiou]\t匹配中括号内的任意一个字母\n",
    "[0-9]\t匹配任何数字。类似于 [0123456789]\n",
    "[a-z]\t匹配任何小写字母\n",
    "[A-Z]\t匹配任何大写字母\n",
    "[a-zA-Z0-9]\t匹配任何字母及数字\n",
    "[^aeiou]\t除了aeiou字母以外的所有字符\n",
    "[^0-9]\t匹配除了数字外的字符\n",
    "\n",
    "'''"
   ]
  },
  {
   "cell_type": "code",
   "execution_count": null,
   "metadata": {
    "collapsed": true
   },
   "outputs": [],
   "source": [
    "'''特殊字符类\n",
    "\n",
    ".\t匹配除 \"\\n\" 之外的任何单个字符。要匹配包括 '\\n' 在内的任何字符，请使用象 '[.\\n]' 的模式。\n",
    "\\d\t匹配一个数字字符。等价于 [0-9]。\n",
    "\\D\t匹配一个非数字字符。等价于 [^0-9]。\n",
    "\\s\t匹配任何空白字符，包括空格、制表符、换页符等等。等价于 [ \\f\\n\\r\\t\\v]。\n",
    "\\S\t匹配任何非空白字符。等价于 [^ \\f\\n\\r\\t\\v]。\n",
    "\\w\t匹配包括下划线的任何单词字符。等价于'[A-Za-z0-9_]'。\n",
    "\\W\t匹配任何非单词字符。等价于 '[^A-Za-z0-9_]'。\n",
    "\n",
    "'''"
   ]
  },
  {
   "cell_type": "markdown",
   "metadata": {},
   "source": [
    "# os模块\n",
    "\n",
    "- os 模块提供了非常丰富的方法用来处理文件和目录。常用的方法如下表所示：\n",
    "\n",
    "参考链接：http://www.runoob.com/python3/python3-os-file-methods.html"
   ]
  },
  {
   "cell_type": "markdown",
   "metadata": {},
   "source": [
    "序号\t方法及描述\n",
    "\n",
    "1\tos.access(path, mode) 检验权限模式\n",
    "\n",
    "2\tos.chdir(path) 改变当前工作目录\n",
    "\n",
    "3\tos.chflags(path, flags) 设置路径的标记为数字标记。\n",
    "\n",
    "4\tos.chmod(path, mode) 更改权限\n",
    "\n",
    "5\tos.chown(path, uid, gid) 更改文件所有者\n",
    "\n",
    "6\tos.chroot(path) 改变当前进程的根目录\n",
    "\n",
    "7\tos.close(fd) 关闭文件描述符 fd\n",
    "\n",
    "8\tos.closerange(fd_low, fd_high) 关闭所有文件描述符，从 fd_low (包含) 到 fd_high (不包含), 错误会忽略\n",
    "\n",
    "9\tos.dup(fd) 复制文件描述符 fd\n",
    "\n",
    "10\tos.dup2(fd, fd2) 将一个文件描述符 fd 复制到另一个 fd2\n",
    "\n",
    "11\tos.fchdir(fd) 通过文件描述符改变当前工作目录\n",
    "\n",
    "12\tos.fchmod(fd, mode) 改变一个文件的访问权限，该文件由参数fd指定，参数mode是Unix下的文件访问权限。\n",
    "\n",
    "13\tos.fchown(fd, uid, gid) 修改一个文件的所有权，这个函数修改一个文件的用户ID和用户组ID，该文件由文件描述符fd指定。\n",
    "\n",
    "14\tos.fdatasync(fd) 强制将文件写入磁盘，该文件由文件描述符fd指定，但是不强制更新文件的状态信息。\n",
    "\n",
    "15\tos.fdopen(fd[, mode[, bufsize]]) 通过文件描述符 fd 创建一个文件对象，并返回这个文件对象\n",
    "\n",
    "16\tos.fpathconf(fd, name) 返回一个打开的文件的系统配置信息。name为检索的系统配置的值，它也许是一个定义系统值的字符串，这些名字在很多标准中指定（POSIX.1, Unix 95, Unix 98, 和其它）。\n",
    "\n",
    "17\tos.fstat(fd) 返回文件描述符fd的状态，像stat()。\n",
    "\n",
    "18\tos.fstatvfs(fd) 返回包含文件描述符fd的文件的文件系统的信息，像 statvfs()\n",
    "\n",
    "19\tos.fsync(fd) 强制将文件描述符为fd的文件写入硬盘。\n",
    "\n",
    "20\tos.ftruncate(fd, length) 裁剪文件描述符fd对应的文件, 所以它最大不能超过文件大小。\n",
    "\n",
    "21\tos.getcwd() 返回当前工作目录\n",
    "\n",
    "22\tos.getcwdu() 返回一个当前工作目录的Unicode对象\n",
    "\n",
    "23\tos.isatty(fd) 如果文件描述符fd是打开的，同时与tty(-like)设备相连，则返回true, 否则False。\n",
    "\n",
    "24\tos.lchflags(path, flags) 设置路径的标记为数字标记，类似 chflags()，但是没有软链接\n",
    "\n",
    "25\tos.lchmod(path, mode) 修改连接文件权限\n",
    "\n",
    "26\tos.lchown(path, uid, gid) 更改文件所有者，类似 chown，但是不追踪链接。\n",
    "\n",
    "27\tos.link(src, dst) 创建硬链接，名为参数 dst，指向参数 src\n",
    "\n",
    "28\tos.listdir(path) 返回path指定的文件夹包含的文件或文件夹的名字的列表。\n",
    "\n",
    "29\tos.lseek(fd, pos, how) 设置文件描述符 fd当前位置为pos, how方式修改: SEEK_SET 或者 0 设置从文件开始的计算的pos; SEEK_CUR或者 1 则从当前位置计算; os.SEEK_END或者2则从文件尾部开始. 在unix，Windows中有效\n",
    "\n",
    "30\tos.lstat(path) 像stat(),但是没有软链接\n",
    "\n",
    "31\tos.major(device) 从原始的设备号中提取设备major号码 (使用stat中的st_dev或者st_rdev field)。\n",
    "\n",
    "32\tos.makedev(major, minor) 以major和minor设备号组成一个原始设备号\n",
    "\n",
    "33\tos.makedirs(path[, mode])  递归文件夹创建函数。像mkdir(), 但创建的所有intermediate-level文件夹需要包含子文件夹。\n",
    "\n",
    "34\tos.minor(device) 从原始的设备号中提取设备minor号码 (使用stat中的st_dev或者st_rdev field )。\n",
    "\n",
    "35\tos.mkdir(path[, mode]) 以数字mode的mode创建一个名为path的文件夹.默认的 mode 是 0777 (八进制)。\n",
    "\n",
    "36\tos.mkfifo(path[, mode]) 创建命名管道，mode 为数字，默认为 0666 (八进制)\n",
    "\n",
    "37\tos.mknod(filename[, mode=0600, device]) 创建一个名为filename文件系统节点（文件，设备特别文件或者命名pipe）。\n",
    "\n",
    "38\tos.open(file, flags[, mode]) 打开一个文件，并且设置需要的打开选项，mode参数是可选的\n",
    "\n",
    "39\tos.openpty() 打开一个新的伪终端对。返回 pty 和 tty的文件描述符。\n",
    "\n",
    "40\tos.pathconf(path, name) 返回相关文件的系统配置信息。\n",
    "\n",
    "41\tos.pipe() 创建一个管道. 返回一对文件描述符(r, w) 分别为读和写\n",
    "\n",
    "42\tos.popen(command[, mode[, bufsize]]) 从一个 command 打开一个管道\n",
    "\n",
    "43\tos.read(fd, n) 从文件描述符 fd 中读取最多 n 个字节，返回包含读取字节的字符串，文件描述符 fd对应文件已达到结尾, 返回一个空字符串。\n",
    "\n",
    "44\tos.readlink(path) 返回软链接所指向的文件\n",
    "\n",
    "45\tos.remove(path) 删除路径为path的文件。如果path 是一个文件夹，将抛出OSError; 查看下面的rmdir()删除一个 directory。\n",
    "\n",
    "46\tos.removedirs(path) 递归删除目录。\n",
    "\n",
    "47\tos.rename(src, dst) 重命名文件或目录，从 src 到 dst\n",
    "\n",
    "48\tos.renames(old, new)  递归地对目录进行更名，也可以对文件进行更名。\n",
    "\n",
    "49\tos.rmdir(path) 删除path指定的空目录，如果目录非空，则抛出一个OSError异常。\n",
    "\n",
    "50\tos.stat(path) 获取path指定的路径的信息，功能等同于C API中的stat()系统调用。\n",
    "\n",
    "51\tos.stat_float_times([newvalue]) 决定stat_result是否以float对象显示时间戳\n",
    "\n",
    "52\tos.statvfs(path) 获取指定路径的文件系统统计信息\n",
    "\n",
    "53\tos.symlink(src, dst) 创建一个软链接\n",
    "\n",
    "54\tos.tcgetpgrp(fd) 返回与终端fd（一个由os.open()返回的打开的文件描述符）关联的进程组\n",
    "\n",
    "55\tos.tcsetpgrp(fd, pg) 设置与终端fd（一个由os.open()返回的打开的文件描述符）关联的进程组为pg。\n",
    "\n",
    "56\tos.tempnam([dir[, prefix]]) Python3 中已删除。返回唯一的路径名用于创建临时文件。\n",
    "\n",
    "57\tos.tmpfile() Python3 中已删除。返回一个打开的模式为(w+b)的文件对象 .这文件对象没有文件夹入口，没有文件描述符，将会自动删除。\n",
    "\n",
    "58\tos.tmpnam() Python3 中已删除。为创建一个临时文件返回一个唯一的路径\n",
    "\n",
    "59\tos.ttyname(fd) 返回一个字符串，它表示与文件描述符fd 关联的终端设备。如果fd 没有与终端设备关联，则引发一个异常。\n",
    "\n",
    "60\tos.unlink(path) 删除文件路径\n",
    "\n",
    "61\tos.utime(path, times) 返回指定的path文件的访问和修改的时间。\n",
    "\n",
    "62\tos.walk(top[, topdown=True[, onerror=None[, followlinks=False]]]) 输出在文件夹中的文件名通过在树中游走，向上或者向下。\n",
    "\n",
    "63\tos.write(fd, str) 写入字符串到文件描述符 fd中. 返回实际写入的字符串长度\n",
    "\n",
    "64\tos.path 模块  获取文件的属性信息。"
   ]
  },
  {
   "cell_type": "markdown",
   "metadata": {},
   "source": [
    "# datetime模块\n",
    "\n",
    "- datetime是Python处理日期和时间的标准库。\n",
    "\n",
    "参考廖雪峰课程：https://www.liaoxuefeng.com/wiki/0014316089557264a6b348958f449949df42a6d3a2e542c000/001431937554888869fb52b812243dda6103214cd61d0c2000"
   ]
  },
  {
   "cell_type": "markdown",
   "metadata": {},
   "source": [
    "## 获取当前日期和时间\n",
    "\n",
    "- 注意到datetime是模块，datetime模块还包含一个datetime类，通过from datetime import datetime导入的才是datetime这个类。\n",
    "\n",
    "- 如果仅导入import datetime，则必须引用全名datetime.datetime。\n",
    "\n",
    "- datetime.now()返回当前日期和时间，其类型是datetime。"
   ]
  },
  {
   "cell_type": "code",
   "execution_count": 17,
   "metadata": {},
   "outputs": [
    {
     "name": "stdout",
     "output_type": "stream",
     "text": [
      "2019-01-30 16:39:18.588589\n",
      "<class 'datetime.datetime'>\n"
     ]
    }
   ],
   "source": [
    "from datetime import datetime\n",
    "now = datetime.now() # 获取当前datetime\n",
    "\n",
    "print(now)\n",
    "print(type(now))"
   ]
  },
  {
   "cell_type": "markdown",
   "metadata": {},
   "source": [
    "## 获取指定日期和时间\n",
    "\n",
    "- 要指定某个日期和时间，我们直接用参数构造一个datetime：\n",
    "\n",
    "        datetime(year, month, day[, hour[, minute[, second[, microsecond[,tzinfo]]]]])"
   ]
  },
  {
   "cell_type": "code",
   "execution_count": 19,
   "metadata": {},
   "outputs": [
    {
     "name": "stdout",
     "output_type": "stream",
     "text": [
      "2015-04-19 12:20:00\n",
      "<class 'datetime.datetime'>\n"
     ]
    }
   ],
   "source": [
    "from datetime import datetime\n",
    "dt1 = datetime(2015, 4, 19, 12, 20) # 用指定日期时间创建datetime\n",
    "print(dt1)\n",
    "print(type(dt1))"
   ]
  },
  {
   "cell_type": "markdown",
   "metadata": {},
   "source": [
    "## datetime转换为timestamp\n",
    "\n",
    "- 在计算机中，时间实际上是用数字表示的。我们把1970年1月1日 00:00:00 UTC+00:00时区的时刻称为epoch time，记为0（1970年以前的时间timestamp为负数），当前时间就是相对于epoch time的秒数，称为timestamp。\n",
    "\n",
    "- **把一个datetime类型转换为timestamp只需要简单调用timestamp()方法。**\n",
    "\n",
    "\n",
    "- 可以认为：  timestamp = 0 = 1970-1-1 00:00:00 UTC+0:00\n",
    "        \n",
    "- 对应的北京时间是： timestamp = 0 = 1970-1-1 08:00:00 UTC+8:00\n",
    "\n",
    "\n",
    "- 可见timestamp的值与时区毫无关系，因为timestamp一旦确定，其UTC时间就确定了，转换到任意时区的时间也是完全确定的，这就是为什么计算机存储的当前时间是以timestamp表示的，因为全球各地的计算机在任意时刻的timestamp都是完全相同的（假定时间已校准）。"
   ]
  },
  {
   "cell_type": "code",
   "execution_count": 27,
   "metadata": {},
   "outputs": [
    {
     "name": "stdout",
     "output_type": "stream",
     "text": [
      "2015-04-19 12:20:00\n",
      "1429417200.0\n",
      "<class 'float'>\n"
     ]
    }
   ],
   "source": [
    "from datetime import datetime\n",
    "dt1 = datetime(2015, 4, 19, 12, 20)  # 用指定日期时间创建datetime\n",
    "print(dt1)\n",
    "\n",
    "print(dt1.timestamp())  # 把datetime转换为timestamp\n",
    "print(type(dt1.timestamp()))  # 注意Python的timestamp是一个浮点数。如果有小数位，小数位表示毫秒数。"
   ]
  },
  {
   "cell_type": "markdown",
   "metadata": {},
   "source": [
    "## timestamp转换为datetime\n",
    "\n",
    "- **要把timestamp转换为datetime，使用datetime提供的fromtimestamp()方法。**"
   ]
  },
  {
   "cell_type": "code",
   "execution_count": 28,
   "metadata": {},
   "outputs": [
    {
     "name": "stdout",
     "output_type": "stream",
     "text": [
      "2015-04-19 12:20:00\n"
     ]
    }
   ],
   "source": [
    "from datetime import datetime\n",
    "t = 1429417200.0\n",
    "print(datetime.fromtimestamp(t))"
   ]
  },
  {
   "cell_type": "markdown",
   "metadata": {},
   "source": [
    ">  - 注意到timestamp是一个浮点数，它没有时区的概念，而datetime是有时区的。上述转换是在timestamp和本地时间做转换。\n",
    "\n",
    ">  - 本地时间是指当前操作系统设定的时区。"
   ]
  },
  {
   "cell_type": "code",
   "execution_count": 30,
   "metadata": {},
   "outputs": [
    {
     "name": "stdout",
     "output_type": "stream",
     "text": [
      "2015-04-19 12:20:00\n",
      "2015-04-19 04:20:00\n"
     ]
    }
   ],
   "source": [
    "# timestamp也可以直接被转换到UTC标准时区的时间：\n",
    "from datetime import datetime\n",
    "t = 1429417200.0\n",
    "\n",
    "print(datetime.fromtimestamp(t))  # 本地时间\n",
    "\n",
    "print(datetime.utcfromtimestamp(t))  # UTC时间"
   ]
  },
  {
   "cell_type": "markdown",
   "metadata": {},
   "source": [
    "## str转换为datetime\n",
    "\n",
    "- 转换方法是通过 **datetime.strptime()** 实现，需要一个日期和时间的格式化字符串。"
   ]
  },
  {
   "cell_type": "code",
   "execution_count": 31,
   "metadata": {},
   "outputs": [
    {
     "name": "stdout",
     "output_type": "stream",
     "text": [
      "2015-06-01 18:19:59\n",
      "<class 'datetime.datetime'>\n"
     ]
    }
   ],
   "source": [
    "from datetime import datetime\n",
    "cday = datetime.strptime('2015-6-1 18:19:59', '%Y-%m-%d %H:%M:%S')  # 字符串'%Y-%m-%d %H:%M:%S'规定了日期和时间部分的格式。注意转换后的datetime是没有时区信息的。\n",
    "print(cday)\n",
    "print(type(cday))"
   ]
  },
  {
   "cell_type": "markdown",
   "metadata": {},
   "source": [
    "> 日期和时间格式化：参考文档：https://docs.python.org/3/library/datetime.html#strftime-strptime-behavior\n",
    "\n",
    ">     Directive\t      Meaning\t                          Example\n",
    "\n",
    ">     %a\tWeekday as locale’s abbreviated name.   Sun, Mon, …, Sat (en_US);So, Mo, …, Sa (de_DE)\n",
    "\n",
    ">     %A\tWeekday as locale’s full name.        Sunday, Monday, …, Saturday (en_US);Sonntag, Montag, …, Samstag (de_DE)\n",
    "\n",
    ">     %w\tWeekday as a decimal number, where 0 is Sunday and 6 is Saturday.   0, 1, …, 6\n",
    "\n",
    ">     %d\tDay of the month as a zero-padded decimal number.     01, 02, …, 31\n",
    "\n",
    ">     %b\tMonth as locale’s abbreviated name.     Jan, Feb, …, Dec (en_US); Jan, Feb, …, Dez (de_DE)\n",
    "\n",
    ">     %B\tMonth as locale’s full name.          January, February, …, December (en_US); Januar, Februar, …, Dezember (de_DE)\n",
    "\n",
    ">     %m\tMonth as a zero-padded decimal number.\t   01, 02, …, 12\n",
    "\n",
    ">     %y\tYear without century as a zero-padded decimal number.\t 00, 01, …, 99\n",
    "\n",
    ">     %Y\tYear with century as a decimal number.\t   0001, 0002, …, 2013, 2014, …, 9998, 9999\n",
    "\n",
    ">     %H\tHour (24-hour clock) as a zero-padded decimal number.\t00, 01, …, 23\n",
    "\n",
    ">     %I\tHour (12-hour clock) as a zero-padded decimal number.\t01, 02, …, 12\n",
    "\n",
    ">     %p\tLocale’s equivalent of either AM or PM.\t    AM, PM (en_US);  am, pm (de_DE)\n",
    "\n",
    ">     %M\tMinute as a zero-padded decimal number.\t    00, 01, …, 59\n",
    "\n",
    ">     %S\tSecond as a zero-padded decimal number.\t    00, 01, …, 59\n",
    "\n",
    ">     %f\tMicrosecond as a decimal number, zero-padded on the left.\t000000, 000001, …, 999999\n",
    "\n",
    ">     %z\tUTC offset in the form ±HHMM[SS[.ffffff]] (empty string if the object is naive).  (empty), +0000, -0400, +1030, +063415, -030712.345216\n",
    "\n",
    ">     %Z\tTime zone name (empty string if the object is naive).\t(empty), UTC, EST, CST\n",
    "\n",
    ">     %j\tDay of the year as a zero-padded decimal number.\t001, 002, …, 366\n",
    "\n",
    ">     %U\tWeek number of the year (Sunday as the first day of the week) as a zero padded decimal number. All days in a new year preceding the first Sunday are considered to be in week 0.\t00, 01, …, 53\n",
    "\n",
    ">     %W\tWeek number of the year (Monday as the first day of the week) as a decimal number. All days in a new year preceding the first Monday are considered to be in week 0.\t00, 01, …, 53\n",
    "\n",
    ">     %c\tLocale’s appropriate date and time representation.\t  Tue Aug 16 21:30:00 1988 (en_US); Di 16 Aug 21:30:00 1988 (de_DE)\n",
    "\n",
    ">     %x\tLocale’s appropriate date representation.\t  08/16/88 (None);  08/16/1988 (en_US);  16.08.1988 (de_DE)\n",
    "\n",
    ">     %X\tLocale’s appropriate time representation.\t  21:30:00 (en_US);  21:30:00 (de_DE)\n",
    "\n",
    ">     %%\tA literal '%' character.\t              %"
   ]
  },
  {
   "cell_type": "markdown",
   "metadata": {},
   "source": [
    "## datetime转换为str\n",
    "\n",
    "- 如果已经有了datetime对象，要把它格式化为字符串显示给用户，就需要转换为str，转换方法是通过 **strftime()** 实现的，同样需要一个日期和时间的格式化字符串。"
   ]
  },
  {
   "cell_type": "code",
   "execution_count": 32,
   "metadata": {},
   "outputs": [
    {
     "name": "stdout",
     "output_type": "stream",
     "text": [
      "2019-01-30 17:09:30.714500\n",
      "Wed, Jan 30 17:09\n"
     ]
    }
   ],
   "source": [
    "from datetime import datetime\n",
    "\n",
    "dt_now = datetime.now()\n",
    "print(dt_now)\n",
    "\n",
    "print(dt_now.strftime('%a, %b %d %H:%M'))"
   ]
  },
  {
   "cell_type": "markdown",
   "metadata": {},
   "source": [
    "## datetime加减\n",
    "\n",
    "- 对日期和时间进行加减实际上就是把datetime往后或往前计算，得到新的datetime。加减可以直接用+和-运算符，不过需要导入 **timedelta** 这个类。"
   ]
  },
  {
   "cell_type": "code",
   "execution_count": 35,
   "metadata": {},
   "outputs": [
    {
     "name": "stdout",
     "output_type": "stream",
     "text": [
      "2019-01-30 17:13:36.414890\n",
      "2019-01-31 17:13:36.414890\n",
      "2019-01-30 22:13:36.414890\n",
      "2019-01-29 17:13:36.414890\n",
      "2019-02-01 22:13:36.414890\n"
     ]
    }
   ],
   "source": [
    "from datetime import datetime,timedelta\n",
    "\n",
    "dt_now = datetime.now()\n",
    "print(dt_now)\n",
    "\n",
    "print(dt_now + timedelta(1))  # timedelta() 默认days是第一个参数\n",
    "print(dt_now + timedelta(hours=5))\n",
    "print(dt_now - timedelta(days=1))\n",
    "print(dt_now + timedelta(days=2, hours=5))"
   ]
  },
  {
   "cell_type": "markdown",
   "metadata": {},
   "source": [
    "## 本地时间转换为UTC时间\n",
    "\n",
    "- 本地时间是指系统设定时区的时间，例如北京时间是UTC+8:00时区的时间，而UTC时间指UTC+0:00时区的时间。\n",
    "\n",
    "- 一个datetime类型有一个时区属性tzinfo，但是默认为None，所以无法区分这个datetime到底是哪个时区，除非强行给datetime设置一个时区。"
   ]
  },
  {
   "cell_type": "code",
   "execution_count": 37,
   "metadata": {},
   "outputs": [
    {
     "name": "stdout",
     "output_type": "stream",
     "text": [
      "UTC+08:00\n",
      "2019-01-30 17:16:23.006607\n",
      "2019-01-30 17:16:23.006607+08:00\n"
     ]
    }
   ],
   "source": [
    "from datetime import datetime, timedelta, timezone\n",
    "\n",
    "tz_utc_8 = timezone(timedelta(hours=8))   # 创建时区UTC+8:00\n",
    "print(tz_utc_8)\n",
    "\n",
    "dt_now =datetime.now()\n",
    "print(dt_now)\n",
    "\n",
    "dt_utc_8 = dt_now.replace(tzinfo=tz_utc_8)  # 强制设置为UTC+8:00\n",
    "print(dt_utc_8)"
   ]
  },
  {
   "cell_type": "markdown",
   "metadata": {},
   "source": [
    "> - 如果系统时区恰好是UTC+8:00，那么上述代码就是正确的，否则，不能强制设置为UTC+8:00时区。"
   ]
  },
  {
   "cell_type": "markdown",
   "metadata": {},
   "source": [
    "## 时区转换\n",
    "\n",
    "- 先通过 **utcnow()** 拿到当前的UTC时间，再转换为任意时区的时间，通过 **astimezone()** 转化时区。"
   ]
  },
  {
   "cell_type": "code",
   "execution_count": 38,
   "metadata": {},
   "outputs": [
    {
     "name": "stdout",
     "output_type": "stream",
     "text": [
      "2019-01-30 09:20:51.730983+00:00\n",
      "2019-01-30 17:20:51.730983+08:00\n",
      "2019-01-30 18:20:51.730983+09:00\n",
      "2019-01-30 18:20:51.730983+09:00\n"
     ]
    }
   ],
   "source": [
    "# 拿到UTC时间，并强制设置时区为UTC+0:00:\n",
    "utc_dt = datetime.utcnow().replace(tzinfo=timezone.utc)\n",
    "print(utc_dt)\n",
    "\n",
    "# astimezone()将转换时区为北京时间:\n",
    "bj_dt = utc_dt.astimezone(timezone(timedelta(hours=8)))\n",
    "print(bj_dt)\n",
    "\n",
    "# astimezone()将转换时区为东京时间:\n",
    "tokyo_dt = utc_dt.astimezone(timezone(timedelta(hours=9)))\n",
    "print(tokyo_dt)\n",
    "\n",
    "# astimezone()将bj_dt转换时区为东京时间:\n",
    "tokyo_dt2 = bj_dt.astimezone(timezone(timedelta(hours=9)))\n",
    "print(tokyo_dt2)"
   ]
  },
  {
   "cell_type": "markdown",
   "metadata": {},
   "source": [
    ">  - 时区转换的关键在于，拿到一个datetime时，要获知其正确的时区，然后强制设置时区，作为基准时间。\n",
    "\n",
    ">  - 利用带时区的datetime，通过astimezone()方法，可以转换到任意时区。"
   ]
  },
  {
   "cell_type": "markdown",
   "metadata": {},
   "source": [
    " **- 小结 -** \n",
    " \n",
    " **- datetime 表示的时间需要时区信息才能确定一个特定的时间，否则只能视为本地时间。**\n",
    "\n",
    " **- 如果要存储 datetime ，最佳方法是将其转换为 timestamp 再存储，因为 timestamp 的值与时区完全无关。**"
   ]
  },
  {
   "cell_type": "markdown",
   "metadata": {},
   "source": [
    "# http请求\n",
    "\n",
    "- urllib提供了一系列用于操作URL的功能。\n",
    "\n",
    "参考廖雪峰课程：https://www.liaoxuefeng.com/wiki/0014316089557264a6b348958f449949df42a6d3a2e542c000/001432688314740a0aed473a39f47b09c8c7274c9ab6aee000\n",
    "\n",
    "参考博客内容：https://www.jianshu.com/p/9a9dd097d282"
   ]
  },
  {
   "cell_type": "markdown",
   "metadata": {},
   "source": [
    "## python urllib包\n",
    "\n",
    "python内置了urllib包来处理http请求，主要是一下几个模块：\n",
    "\n",
    "    urllib.error\n",
    "    处理异常模块\n",
    "\n",
    "    urllib.parse\n",
    "    解析url模块\n",
    "\n",
    "    urllib.request\n",
    "    请求url模块\n",
    "\n",
    "    urllib.response\n",
    "    响应模块\n",
    "\n",
    "    urllib.robotparser\n",
    "    解析 robots.txt文件\n",
    "\n",
    "    主要方法\n",
    "\n",
    "    - urlopen(url, data=None, [timeout, ]`*`, cafile=None, capath=None, cadefault=False, context=None)打开url或者对象"
   ]
  },
  {
   "cell_type": "markdown",
   "metadata": {},
   "source": [
    "## get请求"
   ]
  },
  {
   "cell_type": "code",
   "execution_count": 41,
   "metadata": {},
   "outputs": [
    {
     "data": {
      "text/plain": [
       "590460"
      ]
     },
     "execution_count": 41,
     "metadata": {},
     "output_type": "execute_result"
    }
   ],
   "source": [
    "import urllib\n",
    "# import urllib2 # python3中没有 urllib2 用urllib.request替代\n",
    "\n",
    "# get请求\n",
    "resu = urllib.request.urlopen('https://hao.360.cn', data=None, timeout=10)\n",
    "data = resu.read().decode()\n",
    "\n",
    "#打开文件\n",
    "fo = open('test.txt','a+',encoding = 'utf-8') # 打开文件 这里网络数据流的编码需要和写入的文件编码一致\n",
    "fo.write(data)   # 写入文件\n",
    "fo.close()       # 关闭文件"
   ]
  },
  {
   "cell_type": "code",
   "execution_count": 45,
   "metadata": {},
   "outputs": [
    {
     "name": "stdout",
     "output_type": "stream",
     "text": [
      "{\"status\":\"2\",\"message\":\"快递公司网络异常，请稍后查询.\"}\n"
     ]
    },
    {
     "data": {
      "text/plain": [
       "'{\"status\":\"2\",\"message\":\"快递公司网络异常，请稍后查询.\"}'"
      ]
     },
     "execution_count": 45,
     "metadata": {},
     "output_type": "execute_result"
    }
   ],
   "source": [
    "# 如果get的请求携带参数需要通过url方式传值\n",
    "import urllib\n",
    "import json\n",
    "\n",
    "def getExpressInfo(num):\n",
    "    \"\"\"\n",
    "    通过快递单号获取快递详情方法\n",
    "    :param num: Numbers 快递单号\n",
    "    :return: mixed      快递详细\n",
    "    \"\"\"\n",
    "    # get请求\n",
    "    url = 'http://www.kuaidi100.com/autonumber/autoComNum?text=' + num # get请求通过url传值\n",
    "    basicInfo = urllib.request.urlopen(url, data=None, timeout=10) # python3应该可以通过检测data是否携带参数来判断是get请求还是post请求\n",
    "    data = json.loads(basicInfo.read().decode()) #解析返回对象获取\n",
    "\n",
    "    comInfo = data['auto'][0]['comCode'] # 获取快递公司信息\n",
    "\n",
    "    # 通过公司名称和快递单号请求快速100的API\n",
    "    url2 = 'http://api.kuaidi100.com/api?id=be2205c7c55b54eb&com=' + comInfo + '&nu=' + num\n",
    "    result = urllib.request.urlopen(url2, data=None, timeout=10)\n",
    "    expressInfo = result.read().decode()\n",
    "\n",
    "    print(expressInfo)\n",
    "    #返回快递信息\n",
    "    return(expressInfo)\n",
    "\n",
    "\n",
    "num = '3396776919306' # 快递单号\n",
    "\n",
    "#调用快递信息方法\n",
    "getExpressInfo(num)"
   ]
  },
  {
   "cell_type": "markdown",
   "metadata": {},
   "source": [
    "## post请求"
   ]
  },
  {
   "cell_type": "code",
   "execution_count": 46,
   "metadata": {
    "scrolled": true
   },
   "outputs": [
    {
     "name": "stdout",
     "output_type": "stream",
     "text": [
      "<!DOCTYPE html>\n",
      "    <html lang=\"en\" prefix=\"og: http://ogp.me/ns#\">\n",
      "      <head>\n",
      "        \n",
      "  <meta charSet=\"utf-8\">\n",
      "  <link rel=\"canonical\" href=\"https://www.dictionary.com/\">\n",
      "  <title>Dictionary.com | Meanings and Definitions of Words at Dictionary.com</title>\n",
      "  <meta name=\"description\" content=\"Dictionary.com is the world’s leading online source for English definitions, synonyms, word origins and etymologies, audio pronunciations, example sentences, slang phrases, idioms, word games, legal and medical terms, Word of the Day and more. For over 20 years, Dictionary.com has been helping millions of people improve their use of the English language with its free digital services.\">\n",
      "  \n",
      "  \n",
      "  <meta property=\"og:title\" content=\"Dictionary.com - The world’s favorite online dictionary!\">\n",
      "  <meta property=\"og:image\" content=\"https://www.dictionary.com/hp-assets/dcom_favicon-1bff2f1b49c077ed504e55c3649f2a4b.png\">\n",
      "  <meta property=\"og:type\" content=\"Website\">\n",
      "  <meta property=\"og:url\" content=\"https://www.dictionary.com/\">\n",
      "  <meta property=\"og:description\" content=\"Dictionary.com is the world’s leading online source for English definitions, synonyms, word origins and etymologies, audio pronunciations, example sentences, slang phrases, idioms, word games, legal and medical terms, Word of the Day and more. For over 20 years, Dictionary.com has been helping millions of people improve their use of the English language with its free digital services.\">\n",
      "  <meta property=\"og:site_name\" content=\"Dictionary.com\">\n",
      "  <meta name=\"twitter:description\" content=\"{Dictionary.com is the world’s leading online source for English definitions, synonyms, word origins and etymologies, audio pronunciations, example sentences, slang phrases, idioms, word games, legal and medical terms, Word of the Day and more. For over 20 years, Dictionary.com has been helping millions of people improve their use of the English language with its free digital services.}\" />\n",
      "  <meta name=\"twitter:card\" content=\"summary\" />\n",
      "  <meta name=\"twitter:site\" content=\"@dictionarycom\" />\n",
      "  <meta name=\"twitter:domain\" content=\"https://www.dictionary.com/\" />\n",
      "\n",
      "  <link rel=\"icon\" type=\"image/png\" href=\"https://www.dictionary.com/hp-assets/dcom_favicon-1bff2f1b49c077ed504e55c3649f2a4b.png\">\n",
      "  <meta\n",
      "  name=\"google-site-verification\"\n",
      "  content=CW6ZjP5DwCOJ8EiGWZuA54-ScKUf9H8kWiXsiX3Nadg\n",
      "/>\n",
      "\n",
      "  <link rel=\"preload\" href=\"https://www.dictionary.com/hp-assets/dictionary-font-c864a1ca3bc4a1c7aef16dbbf189ccc1.woff\" as=\"font\" type=\"font/woff\" crossorigin=\"anonymous\">\n",
      "  <meta name=\"viewport\" content=\"width=device-width, initial-scale=1.0\">\n",
      "        <script defer src=\"https://www.dictionary.com/hp-assets/vendor1-b9cac563.js\"></script>\n",
      "                    <script defer src=\"https://www.dictionary.com/hp-assets/vendor2-37a585f8.js\"></script>\n",
      "                    <script defer src=\"https://www.dictionary.com/hp-assets/client-9b3d6507.js\"></script>\n",
      "        <!-- Ad integration with callback begins here, must be in head, expects page type to get appropriate configs -->\n",
      "        <script type=\"text/javascript\" src=\"https://ads.pubmatic.com/AdServer/js/pwt/103207/1171/pwt.js\"></script>\n",
      "    <script type=\"text/javascript\">\n",
      "      window.performance.mark('adStackStart');\n",
      "      var page = 'dcom_hp';\n",
      "      window.dataLayer = window.dataLayer || [];\n",
      "      window.OWT.registerExternalBidders();\n",
      "      window.performance.mark('gptLoadStart');\n",
      "    </script>\n",
      "    <script async=\"async\" src=\"https://www.googletagservices.com/tag/js/gpt.js\" onload=\"(function() {\n",
      "        window.performance.mark('gptLoadEnd');\n",
      "        window.performance.measure('gptLoad', 'gptLoadStart', 'gptLoadEnd');\n",
      "        var timing = window.performance.getEntriesByName('gptLoad')[0].duration;\n",
      "        window.dataLayer.push({\n",
      "          event: 'gptLoad',\n",
      "          page: page,\n",
      "          timing: timing\n",
      "        });\n",
      "      })()\">\n",
      "    </script>\n",
      "    <script type=\"text/javascript\">\n",
      "      adboiler: {\n",
      "          \n",
      "          var page = 'dcom_hp';\n",
      "          var isEU = false;\n",
      "          /**---------- Page level ad targeting configs ----------*/\n",
      "          var pageTargeting = {\"tx1\":\"homepage\",\"tx2\":\"homepage\",\"ptype\":\"homepage\",\"ld\":\"0\",\"spe\":\"n\",\"kw\":\"\",\"loc\":\"US\",\"rpv\":\"37\",\"evince\":\"ad\",\"mup\":\"1171\"};\n",
      "          pageTargeting.dow = new Date().getDay().toString();\n",
      "          var slotConfigs = [{\"placement\":\"dcomHomeTop-728x90\",\"code\":\"/23219321/iac.dict.dictry.dw/sitecorehomepage/homepage/homepage\",\"ad_uuid\":\"728x90_top\",\"sizes\":[[728,90]],\"targeting\":{\"pos\":\"top\",\"pos2\":\"728x90_1\"}},{\"placement\":\"dcomHomeTop-300x250\",\"code\":\"/23219321/iac.dict.dictry.dw/sitecorehomepage/homepage/homepage\",\"ad_uuid\":\"300x250_top\",\"sizes\":[[300,250]],\"targeting\":{\"pos\":\"top\",\"pos2\":\"300x250_1\"}},{\"placement\":\"dcomHomeBot-728x90\",\"code\":\"/23219321/iac.dict.dictry.dw/sitecorehomepage/homepage/homepage\",\"ad_uuid\":\"728x90_bot\",\"sizes\":[[728,90]],\"targeting\":{\"pos\":\"bot\",\"pos2\":\"728x90_2\"}}];\n",
      "          var lazySlotConfigs = [];\n",
      "          /**---------- Targeting runtime setup ----------*/\n",
      "          pageTargeting.ref = window.document.referrer.search(\n",
      "            \"dictionary.com|thesaurus.com|reference.com\"\n",
      "          ) > -1 ? \"organic\" : \"direct\";\n",
      "          pageTargeting.lang = window.navigator.userLanguage || window.navigator.language;\n",
      "          pageTargeting.pv = typeof SCCookie !== \"undefined\" ? SCCookie.getPageViewCount() + \"\" : \"\";\n",
      "          /**---------- Pubmatic wrapper and GPT Tag with Callback begins here ----------*/\n",
      "          var apstagSlots = [{\"slotID\":\"dcomHomeTop-728x90\",\"sizes\":[[728,90]]},{\"slotID\":\"dcomHomeTop-300x250\",\"sizes\":[[300,250]]},{\"slotID\":\"dcomHomeBot-728x90\",\"sizes\":[[728,90]]}];\n",
      "          var googletag = googletag || {};\n",
      "          googletag.cmd = googletag.cmd || [];\n",
      "          var adSlots = adSlots || {\n",
      "            slots: {},\n",
      "            lazySlots: {}\n",
      "          };\n",
      "          var setupDFP = function() {\n",
      "            console.log(\"Setup DFP\");\n",
      "            /**---------- Set page level targeting for DFP ----------*/\n",
      "            (function(googletag) {\n",
      "  googletag = googletag || window.googletag;\n",
      "  for (var pageTarget in pageTargeting) {\n",
      "    if (pageTargeting.hasOwnProperty(pageTarget)) {\n",
      "      (function(key, value) {\n",
      "        googletag.cmd.push(function() {\n",
      "          googletag.pubads().setTargeting(key, value);\n",
      "        });\n",
      "      })(pageTarget, pageTargeting[pageTarget]);\n",
      "    }\n",
      "  }\n",
      "})(googletag);\n",
      "            /**---------- Set ad slot level targeting for DFP ----------*/\n",
      "            if (typeof slotConfigs === \"object\") {\n",
      "              (function(googletag) {\n",
      "  var adSlotRenderPeriods = {};\n",
      "  googletag = googletag || window.googletag;\n",
      "  slotConfigs.forEach(function(slot) {\n",
      "    googletag.cmd.push(function() {\n",
      "      adSlots.slots[slot.placement] = googletag\n",
      "        .defineSlot(slot.code, slot.sizes, slot.placement)\n",
      "        .addService(googletag.pubads());\n",
      "      googletag.pubads().addEventListener('slotRenderEnded', function(event) {\n",
      "        if (event.slot === adSlots.slots[slot.placement]) {\n",
      "          adSlotRenderPeriods[slot.placement] = Date.now();\n",
      "        }\n",
      "      });\n",
      "      googletag.pubads().addEventListener('slotOnload', function(event) {\n",
      "        if (event.slot === adSlots.slots[slot.placement]) {\n",
      "          window.dataLayer.push({\n",
      "            event: 'gptSlotRenderPeriod',\n",
      "            page: page,\n",
      "            slotId: slot.placement,\n",
      "            code: slot.code,\n",
      "            position: slot.targeting.pos,\n",
      "            position2: slot.targeting.pos2,\n",
      "            time: Date.now() - adSlotRenderPeriods[slot.placement],\n",
      "          });\n",
      "        }\n",
      "      });\n",
      "      googletag\n",
      "        .pubads()\n",
      "        .addEventListener('impressionViewable', function(event) {\n",
      "          if (event.slot === adSlots.slots[slot.placement]) {\n",
      "            window.dataLayer.push({\n",
      "              event: 'gptImpressionViewable',\n",
      "              page: page,\n",
      "              slotId: slot.placement,\n",
      "              code: slot.code,\n",
      "              position: slot.targeting.pos,\n",
      "              position2: slot.targeting.pos2,\n",
      "            });\n",
      "          }\n",
      "        });\n",
      "      for (var target in slot.targeting) {\n",
      "        if (slot.targeting.hasOwnProperty(target)) {\n",
      "          adSlots.slots[slot.placement].setTargeting(\n",
      "            target,\n",
      "            slot.targeting[target]\n",
      "          );\n",
      "        }\n",
      "      }\n",
      "      adSlots.slots[slot.placement].setTargeting('adrefresh', 'n');\n",
      "    });\n",
      "  });\n",
      "})(googletag);\n",
      "            }\n",
      "            /**---------- Push gpt ad slots to DFP ----------*/\n",
      "            (function(googletag) {\n",
      "  googletag = googletag || window.googletag;\n",
      "  googletag.cmd.push(function() {\n",
      "    googletag.pubads().enableSingleRequest();\n",
      "    googletag.pubads().disableInitialLoad();\n",
      "    googletag.enableServices();\n",
      "    window.dfpReady = true;\n",
      "  });\n",
      "})(googletag);\n",
      "          }\n",
      "          var allSlotConfigs = (slotConfigs || []).concat(lazySlotConfigs);\n",
      "          /**---------- Rtf integration ----------*/\n",
      "    var rtfValues;\n",
      "    var rtfConfig = {\"adlerGeo\":\"ROWLO\",\"detectedDevice\":\"Desktop\",\"rtfApiEndpoint\":\"https://irene.dictionary.com/v1\",\"site\":\"dcom\"};\n",
      "    function setRtfInstrumentationKV(localSlotConfigs, status, error) {\n",
      "  localSlotConfigs.forEach(function(slotConfig) {\n",
      "    slotConfig.targeting.adler_status = status;\n",
      "    if (error) {\n",
      "      slotConfig.targeting.adler_error = error;\n",
      "    }\n",
      "  });\n",
      "};\n",
      "    function getRtfParams(localSlotConfigs) {\n",
      "  var r = {};\n",
      "  const geo = rtfConfig.adlerGeo || '';\n",
      "  if (geo === '') {\n",
      "    setRtfInstrumentationKV(localSlotConfigs, 'nogeo', 'nogeo');\n",
      "  }\n",
      "  localSlotConfigs.forEach(function(slotConfig) {\n",
      "    r[slotConfig.ad_uuid] = {\n",
      "      site: rtfConfig.site,\n",
      "      geo: geo,\n",
      "      platform: rtfConfig.detectedDevice,\n",
      "      sizes: slotConfig.sizes,\n",
      "      position: slotConfig.targeting.pos,\n",
      "    };\n",
      "  });\n",
      "\n",
      "  return r;\n",
      "};\n",
      "    function rtfFallback(localSlotConfigs, shouldSetupDFP, event) {\n",
      "  setRtfInstrumentationKV(localSlotConfigs, event.type);\n",
      "  if (shouldSetupDFP) {\n",
      "    setupDFP();\n",
      "  }\n",
      "};\n",
      "    function injectRtfValues(localSlotConfigs) {\n",
      "  if (rtfValues) {\n",
      "    localSlotConfigs.forEach(function(slotConfig) {\n",
      "      if (!rtfValues[slotConfig.ad_uuid]) {\n",
      "        slotConfig.targeting.adler_status = 'nofloor';\n",
      "      } else {\n",
      "        slotConfig.targeting.adler = rtfValues[slotConfig.ad_uuid].adler;\n",
      "        slotConfig.targeting.adler_a = rtfValues[slotConfig.ad_uuid].adler_a;\n",
      "        slotConfig.targeting.adler_b = rtfValues[slotConfig.ad_uuid].adler_b;\n",
      "        slotConfig.targeting.adler_status = 'ok';\n",
      "      }\n",
      "    });\n",
      "  }\n",
      "};\n",
      "    function setRtfValues(rtfAjaxCall, localSlotConfigs) {\n",
      "  try {\n",
      "    rtfValues = JSON.parse(rtfAjaxCall.responseText);\n",
      "  } catch (err) {\n",
      "    setRtfInstrumentationKV(localSlotConfigs, 'parse', err.message);\n",
      "  }\n",
      "  injectRtfValues(localSlotConfigs);\n",
      "};\n",
      "    function rtfCallback(rtfAjaxCall, localSlotConfigs, shouldSetupDFP) {\n",
      "  setRtfValues(rtfAjaxCall, localSlotConfigs);\n",
      "  if (shouldSetupDFP) {\n",
      "    setupDFP();\n",
      "  }\n",
      "};\n",
      "    (function callRTF(localSlotConfigs, shouldSetupDFP) {\n",
      "  var rtfReq = new XMLHttpRequest();\n",
      "  rtfReq.addEventListener(\n",
      "    'load',\n",
      "    rtfCallback.bind(null, rtfReq, localSlotConfigs, shouldSetupDFP)\n",
      "  );\n",
      "  rtfReq.addEventListener(\n",
      "    'timeout',\n",
      "    rtfFallback.bind(null, localSlotConfigs, shouldSetupDFP)\n",
      "  );\n",
      "  rtfReq.addEventListener(\n",
      "    'error',\n",
      "    rtfFallback.bind(null, localSlotConfigs, shouldSetupDFP)\n",
      "  );\n",
      "  rtfReq.open('POST', rtfConfig.rtfApiEndpoint, true);\n",
      "  rtfReq.timeout = 1000;\n",
      "  rtfReq.send(JSON.stringify(getRtfParams(localSlotConfigs)));\n",
      "})(allSlotConfigs, true);\n",
      "    /**---------- End of Rtf integration ----------*/\n",
      "            /**---- A9 ----*/\n",
      "            (function(a9, a, p, s, t, A, g) {\n",
      "  if (a[a9]) return;\n",
      "  function q(c, r) {\n",
      "    a[a9]._Q.push([c, r]);\n",
      "  }\n",
      "  a[a9] = {\n",
      "    init: function() {\n",
      "      q('i', arguments);\n",
      "    },\n",
      "    fetchBids: function() {\n",
      "      q('f', arguments);\n",
      "    },\n",
      "    setDisplayBids: function() {},\n",
      "    _Q: [],\n",
      "  };\n",
      "  A = p.createElement(s);\n",
      "  A.async = !0;\n",
      "  A.src = t;\n",
      "  g = p.getElementsByTagName(s)[0];\n",
      "  g.parentNode.insertBefore(A, g);\n",
      "})(\"apstag\", window, document, \"script\", \"https://c.amazon-adsystem.com/aax2/apstag.js\");\n",
      "            /**----- Initialize apstag (A9) -----*/\n",
      "            apstag.init({\n",
      "              pubID: '3067',\n",
      "              adServer: 'googletag',\n",
      "              bidTimeout: 1000\n",
      "            });\n",
      "            var setGPTPersonalization = function(\n",
      "  personalized,\n",
      "  slotsToRefresh,\n",
      "  googletag\n",
      ") {\n",
      "  googletag = googletag || window.googletag;\n",
      "  googletag.cmd.push(function() {\n",
      "    if (!window.dfpReady) {\n",
      "      console.log('Awaiting DFP setup.');\n",
      "      setTimeout(setGPTPersonalization, 100, personalized);\n",
      "    } else {\n",
      "      console.log('Doing personalization/refresh');\n",
      "      if (personalized) {\n",
      "        googletag.pubads().setRequestNonPersonalizedAds(0);\n",
      "      } else {\n",
      "        googletag.pubads().setRequestNonPersonalizedAds(1);\n",
      "      }\n",
      "      googletag.pubads().refresh();\n",
      "\n",
      "      window.performance.mark('adStackEnd');\n",
      "      window.performance.measure('adStack', 'adStackStart', 'adStackEnd');\n",
      "      window.performance.clearMarks();\n",
      "      window.performance.clearMeasures();\n",
      "    }\n",
      "  });\n",
      "};\n",
      "            var apstagFetchBidsCallback = function(bids) {\n",
      "  /*\n",
      "  Callback method that triggers the first DFP request for googletag's\n",
      "  disableInitialLoad integration after bids have been set\n",
      "  */\n",
      "  googletag = googletag || window.googletag;\n",
      "  googletag.cmd.push(function() {\n",
      "    apstag.setDisplayBids();\n",
      "    window.OWT.notifyExternalBiddingComplete();\n",
      "    var slotsToRefresh = Object.keys(adSlots.slots).map(function(key) {\n",
      "      return adSlots.slots[key];\n",
      "    });\n",
      "    /*\n",
      "      Determine IAB consent if necessary, and trigger GPT ad refresh\n",
      "      if consent is provided.\n",
      "    */\n",
      "    if (isEU) {\n",
      "      try {\n",
      "        if (typeof __cmp === 'function') {\n",
      "          __cmp('getVendorConsents', {}, function(c) {\n",
      "            var consent = false;\n",
      "            if (typeof c.purposeConsents === 'array') {\n",
      "              consent = c.purposeConsents.includes('3:true');\n",
      "            } else if (typeof c.purposeConsents === 'object') {\n",
      "              consent = c.purposeConsents[3];\n",
      "            }\n",
      "            if (consent !== false && consent !== true) consent = false;\n",
      "            // request personalized ads\n",
      "            setGPTPersonalization(consent, slotsToRefresh);\n",
      "          });\n",
      "        } else {\n",
      "          setGPTPersonalization(false, slotsToRefresh);\n",
      "        }\n",
      "      } catch (error) {\n",
      "        console.error('personalization: ', error);\n",
      "        setGPTPersonalization(false, slotsToRefresh);\n",
      "      }\n",
      "    } else {\n",
      "      setGPTPersonalization(true, slotsToRefresh);\n",
      "    }\n",
      "  });\n",
      "};\n",
      "            try {\n",
      "              apstag.fetchBids({\n",
      "                slots: apstagSlots\n",
      "              }, apstagFetchBidsCallback);\n",
      "            } catch (e) {\n",
      "              apstagFetchBidsCallback();\n",
      "            }\n",
      "          }\n",
      "      </script>\n",
      "        <!-- Pubmatic wrapper and GPT Tag ends here -->\n",
      "        <!-- Google Analytics GTM dataLayer starts here -->\n",
      "        \n",
      "      <script type='text/javascript'>\n",
      "        window.dataLayer = window.dataLayer || [];\n",
      "        dataLayer.push({\n",
      "          event: 'pageview',\n",
      "          device: 'Desktop',\n",
      "          pageName: 'dict-home',\n",
      "          LDid: '0',\n",
      "          sessionId: null,\n",
      "          browserId: null,\n",
      "        });\n",
      "      </script>\n",
      "      <script>\n",
      "      (function(w, d, s, l, i) {\n",
      "        w[l] = w[l] || [];\n",
      "        w[l].push({ 'gtm.start': new Date().getTime(), event: 'gtm.js' });\n",
      "        var f = d.getElementsByTagName(s)[0],\n",
      "          j = d.createElement(s),\n",
      "          dl = l != 'dataLayer' ? '&l=' + l : '';\n",
      "        j.async = true;\n",
      "        j.src = '//www.googletagmanager.com/gtm.js?id=' + i + dl;\n",
      "        f.parentNode.insertBefore(j, f);\n",
      "      })(window, document, 'script', 'dataLayer', 'GTM-TXC5GP');\n",
      "      </script>\n",
      "\n",
      "        <!-- Google Analytics GTM dataLayer ends here -->\n",
      "        \n",
      "        \n",
      "<script type=\"application/ld+json\">{\n",
      "    \"@context\": \"https://schema.org\",\n",
      "    \"@type\": \"WebSite\",\n",
      "    \"url\": \"https://www.dictionary.com/\",\n",
      "    \"potentialAction\": {\n",
      "        \"@type\": \"SearchAction\",\n",
      "        \"target\": \"https://www.dictionary.com/browse/{search_term_string}\",\n",
      "        \"query-input\": \"required name=search_term_string\"\n",
      "    }\n",
      "  }</script>\n",
      "      </head>\n",
      "      <body class=\"init\">\n",
      "        <!-- Google Analytics GTM iframe starts here -->\n",
      "        \n",
      "      <noscript>\n",
      "        <iframe\n",
      "          src=\"//www.googletagmanager.com/ns.html?id=GTM-TXC5GP\"\n",
      "          height=\"0\"\n",
      "          width=\"0\"\n",
      "          style=\"display:none;visibility:hidden\"\n",
      "        ></iframe>\n",
      "      </noscript>\n",
      "    \n",
      "        <!-- Google Analytics GTM iframe ends here -->\n",
      "        <div id=\"root\"><style data-emotion-css=\"iyca8g 16ph52j 1whmlf8\">@-webkit-keyframes animation-iyca8g{from{top:-500px;opacity:0;}to{top:0;opacity:1;}}@keyframes animation-iyca8g{from{top:-500px;opacity:0;}to{top:0;opacity:1;}}@font-face{font-family:'dictionary-fonticon';src:url(https://www.thesaurus.com/hp-assets/dictionary-font-2f8f4dd423d79b60f7bc58ddcc429053.eot) format('embedded-opentype'),url(https://www.thesaurus.com/hp-assets/dictionary-font-c864a1ca3bc4a1c7aef16dbbf189ccc1.woff) format('woff'),url(https://www.thesaurus.com/hp-assets/dictionary-font-0acb1acf427a046a793cc3942f13589e.ttf) format('truetype'),url(https://www.thesaurus.com/hp-assets/dictionary-font-2ae54d9d76a12012ae17e2dd85d293e9.svg#dictionary-font) format('svg');}html{line-height:1.15;-ms-text-size-adjust:100%;-webkit-text-size-adjust:100%;}body{margin:0;}article,aside,footer,header,nav,section{display:block;}h1{font-size:2em;margin:0.67em 0;}figcaption,figure,main{display:block;}figure{margin:1em 40px;}hr{box-sizing:content-box;height:0;overflow:visible;}pre{font-family:monospace,monospace;font-size:1em;}a{background-color:transparent;-webkit-text-decoration-skip:objects;}abbr[title]{border-bottom:none;-webkit-text-decoration:underline;text-decoration:underline;-webkit-text-decoration:underline dotted;text-decoration:underline dotted;}b,strong{font-weight:inherit;}b,strong{font-weight:bolder;}code,kbd,samp{font-family:monospace,monospace;font-size:1em;}dfn{font-style:italic;}mark{background-color:#ff0;color:#000;}small{font-size:80%;}sub,sup{font-size:75%;line-height:0;position:relative;vertical-align:baseline;}sub{bottom:-0.25em;}sup{top:-0.5em;}audio,video{display:inline-block;}audio:not([controls]){display:none;height:0;}img{border-style:none;}svg:not(:root){overflow:hidden;}button,input,optgroup,select,textarea{font-family:sans-serif;font-size:100%;line-height:1.15;margin:0;}button,input{overflow:visible;}button,select{text-transform:none;}button,html [type=\"button\"],[type=\"reset\"],[type=\"submit\"]{-webkit-appearance:button;}button::-moz-focus-inner,[type=\"button\"]::-moz-focus-inner,[type=\"reset\"]::-moz-focus-inner,[type=\"submit\"]::-moz-focus-inner{border-style:none;padding:0;}button:-moz-focusring,[type=\"button\"]:-moz-focusring,[type=\"reset\"]:-moz-focusring,[type=\"submit\"]:-moz-focusring{outline:1px dotted ButtonText;}fieldset{padding:0.35em 0.75em 0.625em;}legend{box-sizing:border-box;color:inherit;display:table;max-width:100%;padding:0;white-space:normal;}progress{display:inline-block;vertical-align:baseline;}textarea{overflow:auto;}[type=\"checkbox\"],[type=\"radio\"]{box-sizing:border-box;padding:0;}[type=\"number\"]::-webkit-inner-spin-button,[type=\"number\"]::-webkit-outer-spin-button{height:auto;}[type=\"search\"]{-webkit-appearance:textfield;outline-offset:-2px;}[type=\"search\"]::-webkit-search-cancel-button,[type=\"search\"]::-webkit-search-decoration{-webkit-appearance:none;}::-webkit-file-upload-button{-webkit-appearance:button;font:inherit;}details,menu{display:block;}summary{display:list-item;}canvas{display:inline-block;}template{display:none;}[hidden]{display:none;}::-moz-selection{background:#b3d4fc;text-shadow:none;}::selection{background:#b3d4fc;text-shadow:none;}@media print{*,*::before,*::after{background:transparent !important;color:#000000 !important;box-shadow:none !important;text-shadow:none !important;}a,a:visited{-webkit-text-decoration:underline;text-decoration:underline;}a[href]::after{content:' (' attr(href) ')';}abbr[title]::after{content:' (' attr(title) ')';}a[href^='#']::after,a[href^='javascript:']::after{content:'';}pre,blockquote{border:1px solid #878787;page-break-inside:avoid;}thead{display:table-header-group;}tr,img{page-break-inside:avoid;}img{max-width:100% !important;}p,h2,h3{orphans:3;widows:3;}h2,h3{page-break-after:avoid;}}html{box-sizing:border-box;}*,*::before,*::after{box-sizing:inherit;}*::before,*::after{-webkit-font-smoothing:antialiased;-moz-osx-font-smoothing:grayscale;}body{background-color:#f5f4f4;overflow-x:hidden;}@font-face{font-family:'dictionary-fonticon';src:url(https://www.dictionary.com/hp-assets/dictionary-font-2f8f4dd423d79b60f7bc58ddcc429053.eot) format('embedded-opentype'),url(https://www.dictionary.com/hp-assets/dictionary-font-c864a1ca3bc4a1c7aef16dbbf189ccc1.woff) format('woff'),url(https://www.dictionary.com/hp-assets/dictionary-font-0acb1acf427a046a793cc3942f13589e.ttf) format('truetype'),url(https://www.dictionary.com/hp-assets/dictionary-font-2ae54d9d76a12012ae17e2dd85d293e9.svg#dictionary-font) format('svg');}html{line-height:1.15;-ms-text-size-adjust:100%;-webkit-text-size-adjust:100%;}body{margin:0;}article,aside,footer,header,nav,section{display:block;}h1{font-size:2em;margin:0.67em 0;}figcaption,figure,main{display:block;}figure{margin:1em 40px;}hr{box-sizing:content-box;height:0;overflow:visible;}pre{font-family:monospace,monospace;font-size:1em;}a{background-color:transparent;-webkit-text-decoration-skip:objects;}abbr[title]{border-bottom:none;-webkit-text-decoration:underline;text-decoration:underline;-webkit-text-decoration:underline dotted;text-decoration:underline dotted;}b,strong{font-weight:inherit;}b,strong{font-weight:bolder;}code,kbd,samp{font-family:monospace,monospace;font-size:1em;}dfn{font-style:italic;}mark{background-color:#ff0;color:#000;}small{font-size:80%;}sub,sup{font-size:75%;line-height:0;position:relative;vertical-align:baseline;}sub{bottom:-0.25em;}sup{top:-0.5em;}audio,video{display:inline-block;}audio:not([controls]){display:none;height:0;}img{border-style:none;}svg:not(:root){overflow:hidden;}button,input,optgroup,select,textarea{font-family:sans-serif;font-size:100%;line-height:1.15;margin:0;}button,input{overflow:visible;}button,select{text-transform:none;}button,html [type=\"button\"],[type=\"reset\"],[type=\"submit\"]{-webkit-appearance:button;}button::-moz-focus-inner,[type=\"button\"]::-moz-focus-inner,[type=\"reset\"]::-moz-focus-inner,[type=\"submit\"]::-moz-focus-inner{border-style:none;padding:0;}button:-moz-focusring,[type=\"button\"]:-moz-focusring,[type=\"reset\"]:-moz-focusring,[type=\"submit\"]:-moz-focusring{outline:1px dotted ButtonText;}fieldset{padding:0.35em 0.75em 0.625em;}legend{box-sizing:border-box;color:inherit;display:table;max-width:100%;padding:0;white-space:normal;}progress{display:inline-block;vertical-align:baseline;}textarea{overflow:auto;}[type=\"checkbox\"],[type=\"radio\"]{box-sizing:border-box;padding:0;}[type=\"number\"]::-webkit-inner-spin-button,[type=\"number\"]::-webkit-outer-spin-button{height:auto;}[type=\"search\"]{-webkit-appearance:textfield;outline-offset:-2px;}[type=\"search\"]::-webkit-search-cancel-button,[type=\"search\"]::-webkit-search-decoration{-webkit-appearance:none;}::-webkit-file-upload-button{-webkit-appearance:button;font:inherit;}details,menu{display:block;}summary{display:list-item;}canvas{display:inline-block;}template{display:none;}[hidden]{display:none;}::-moz-selection{background:#b3d4fc;text-shadow:none;}::selection{background:#b3d4fc;text-shadow:none;}@media print{*,*::before,*::after{background:transparent !important;color:#000000 !important;box-shadow:none !important;text-shadow:none !important;}a,a:visited{-webkit-text-decoration:underline;text-decoration:underline;}a[href]::after{content:' (' attr(href) ')';}abbr[title]::after{content:' (' attr(title) ')';}a[href^='#']::after,a[href^='javascript:']::after{content:'';}pre,blockquote{border:1px solid #878787;page-break-inside:avoid;}thead{display:table-header-group;}tr,img{page-break-inside:avoid;}img{max-width:100% !important;}p,h2,h3{orphans:3;widows:3;}h2,h3{page-break-after:avoid;}}html{box-sizing:border-box;}*,*::before,*::after{box-sizing:inherit;}*::before,*::after{-webkit-font-smoothing:antialiased;-moz-osx-font-smoothing:grayscale;}body{background-color:#f5f4f4;overflow-x:hidden;}</style><div data-reactroot=\"\"><style data-emotion-css=\"1xdhyk6\"></style><div class=\"css-1xdhyk6 eyeuakq1\"><style data-emotion-css=\"1wx05y5\">.css-1wx05y5{min-height:calc(100vh - 40px);-webkit-transform:translate3d( 0,0,0 );-ms-transform:translate3d( 0,0,0 );transform:translate3d( 0,0,0 );-webkit-transition:-webkit-transform 0.4s ease;-webkit-transition:transform 0.4s ease;transition:transform 0.4s ease;}@media only screen and (max-width:768px){.css-1wx05y5{min-height:calc(100vh - 81px);}}</style><div class=\"css-1wx05y5 eyeuakq2\"><header><nav aria-label=\"Site Navigation\"><style data-emotion-css=\"14qcrqt\">.css-14qcrqt{height:40px;overflow:hidden;}</style><div class=\"css-14qcrqt e1nknobk0\"><style data-emotion-css=\"rjglq\">.css-rjglq{background:#3c7bbe;display:inline-block;float:left;}</style><div class=\"css-rjglq e1mpvuks0\"><style data-emotion-css=\"cqn0r7\">.css-cqn0r7{position:absolute;display:none;top:0;left:0;height:100%;width:100%;background-color:rgba(0,0,0,0.6);z-index:4;}</style><div class=\"hamburger-overlay css-cqn0r7 e1mpvuks1\"></div><style data-emotion-css=\"151frnk\">.css-151frnk{position:absolute;top:0;left:-300px;width:300px;height:100%;background-color:#3c7bbe;}</style><nav aria-label=\"Hamburger Menu\" class=\"css-151frnk e1mpvuks3\"><style data-emotion-css=\"7wf88h\">.css-7wf88h{list-style-type:none;padding:15px 15px 7px;margin:0;}</style><ul class=\"css-7wf88h e1mpvuks5\"><style data-emotion-css=\"1qt48kw\">.css-1qt48kw{font-size:16px;font-style:italic;font-weight:bold;line-height:normal;font-family:Arial;border-top:1px solid #66cef6;font-stretch:normal;-webkit-letter-spacing:normal;-moz-letter-spacing:normal;-ms-letter-spacing:normal;letter-spacing:normal;color:#ffffff;-webkit-font-smoothing:antialiased;}.css-1qt48kw:first-child{border-top:0;}.css-1qt48kw:first-child > a{padding-top:0;}</style><li class=\"css-1qt48kw e1mpvuks4\"><style data-emotion-css=\"78n1nc\">.css-78n1nc{display:block;color:#f5f5f5;padding:18px 0;-webkit-text-decoration:none;text-decoration:none;}.css-78n1nc:hover{color:#66cef6;-webkit-text-decoration:none;text-decoration:none;cursor:pointer;}</style><a id=\"hamburgerMenuDictionarycom\" href=\"https://www.dictionary.com/\" data-linkid=\"lxabec\" class=\"css-78n1nc e1mpvuks2\">Dictionary.com</a></li><li class=\"css-1qt48kw e1mpvuks4\"><a id=\"hamburgerMenuThesauruscom\" href=\"https://www.thesaurus.com/\" data-linkid=\"c1drjk\" class=\"css-78n1nc e1mpvuks2\">Thesaurus.com</a></li><li class=\"css-1qt48kw e1mpvuks4\"><a id=\"hamburgerMenuEAZ\" href=\"https://www.dictionary.com/e/\" data-linkid=\"t6ehki\" class=\"css-78n1nc e1mpvuks2\">Everything After Z</a><style data-emotion-css=\"1kts8v6\">.css-1kts8v6{font-family:Arial;font-size:16px;font-weight:normal;line-height:normal;font-style:normal;font-stretch:normal;-webkit-letter-spacing:normal;-moz-letter-spacing:normal;-ms-letter-spacing:normal;letter-spacing:normal;color:#ffffff;list-style-type:none;padding:0 15px 7px;-webkit-font-smoothing:antialiased;}.css-1kts8v6 > li > a{padding:8px 0 14px;font-style:normal;-webkit-text-decoration:none;text-decoration:none;}</style><ul class=\"css-1kts8v6 e1mpvuks6\"><li><a id=\"hamburgerMenuWOTD\" href=\"https://www.dictionary.com/wordoftheday/\" data-linkid=\"1498ik\" class=\"css-78n1nc e1mpvuks2\">Word of the Day</a></li><li><a id=\"hamburgerMenuVideo\" href=\"https://www.dictionary.com/e/video/\" data-linkid=\"t6ehki\" class=\"css-78n1nc e1mpvuks2\">Video</a></li><li><a id=\"hamburgerMenuWordFacts\" href=\"https://www.dictionary.com/e/c/word-facts/\" data-linkid=\"t6ehki\" class=\"css-78n1nc e1mpvuks2\">Word Facts</a></li><li><a id=\"hamburgerMenuGrammar\" href=\"https://www.dictionary.com/e/grammar/\" data-linkid=\"t6ehki\" class=\"css-78n1nc e1mpvuks2\">Grammar</a></li><li><a id=\"hamburgerMenuCrosswordSolver\" href=\"https://www.dictionary.com/e/crosswordsolver/\" data-linkid=\"636f6c\" class=\"css-78n1nc e1mpvuks2\">Crossword Solver</a></li><li><a id=\"hamburgerMenuDailyCrossword\" href=\"https://www.dictionary.com/e/crossword/\" data-linkid=\"636f6c\" class=\"css-78n1nc e1mpvuks2\">Daily Crossword</a></li></ul></li><li class=\"css-1qt48kw e1mpvuks4\"><a id=\"hamburgerMenuATW\" href=\"https://www.dictionary.com/e/all-the-words/\" data-linkid=\"qnez9u\" class=\"css-78n1nc e1mpvuks2\">All The Words</a><ul class=\"css-1kts8v6 e1mpvuks6\"><li><a id=\"hamburgerMenuSlang\" href=\"https://www.dictionary.com/e/slang/\" data-linkid=\"qnez9u\" class=\"css-78n1nc e1mpvuks2\">Slang</a></li><li><a id=\"hamburgerMenuEmoji\" href=\"https://www.dictionary.com/e/emoji/\" data-linkid=\"bhng9k\" class=\"css-78n1nc e1mpvuks2\">Emoji</a></li><li><a id=\"hamburgerMenuGenderSexuality\" href=\"https://www.dictionary.com/e/gender-sexuality/\" data-linkid=\"1l40im\" class=\"css-78n1nc e1mpvuks2\">Gender &amp; Sexuality</a></li><li><a id=\"hamburgerMenuAcronym\" href=\"https://www.dictionary.com/e/acronyms/\" data-linkid=\"8quzrn\" class=\"css-78n1nc e1mpvuks2\">Acronyms</a></li></ul></li></ul></nav><style data-emotion-css=\"1tpwzaq\">.css-1tpwzaq{margin-left:0;font-family:dictionary-fonticon;color:inherit;width:40px;height:40px;cursor:pointer;padding:0;border:none;outline:none;position:relative;display:inline-block;-webkit-font-smoothing:antialiased;background-color:#fff;font-size:24px;line-height:1;z-index:5;}.css-1tpwzaq::before{content:'';}</style><button aria-label=\"Toggle Menu\" id=\"hamburgerButton-click\" class=\"css-1tpwzaq e1mpvuks7\"></button></div><style data-emotion-css=\"1w5d7r9\">.css-1w5d7r9{height:40px;margin:0;padding:0;}</style><ul class=\"css-1w5d7r9 e1nknobk1\"><style data-emotion-css=\"1fe7abr\">.css-1fe7abr{z-index:3;border-right:none;float:left;list-style-type:none;background-color:#f5f5f5;text-align:center;background-color:#3c7bbe;}.css-1fe7abr:last-child{border-right:1px solid #aaa;}</style><li class=\"css-1fe7abr ejn7swr1\"><style data-emotion-css=\"akr928\">.css-akr928{cursor:pointer;display:inline-block;padding:12px 26px;font:16px Helvetica,sans-serif;line-height:18px;font-style:italic;font-weight:bold;-webkit-text-decoration:none;text-decoration:none;color:#666;color:#fff;}@media (max-width:400px){.css-akr928{padding:11px 13px;font-size:14px;}}@media (max-width:318px){.css-akr928{font-size:12px;}}</style><a href=\"https://www.Dictionary.com\" id=\"\" data-linkid=\"tqks0v\" role=\"link\" class=\"css-akr928 ejn7swr0\">Dictionary.com</a></li><style data-emotion-css=\"1yyv0n6\">.css-1yyv0n6{z-index:3;border-right:none;float:left;list-style-type:none;background-color:#f5f5f5;text-align:center;}.css-1yyv0n6:last-child{border-right:1px solid #aaa;}.css-1yyv0n6:hover{background-color:#e2e2e2;}</style><li class=\"css-1yyv0n6 ejn7swr2\"><style data-emotion-css=\"1npfjc8\">.css-1npfjc8{cursor:pointer;display:inline-block;padding:12px 26px;font:16px Helvetica,sans-serif;line-height:18px;font-style:italic;font-weight:bold;-webkit-text-decoration:none;text-decoration:none;color:#666;}@media (max-width:400px){.css-1npfjc8{padding:11px 13px;font-size:14px;}}@media (max-width:318px){.css-1npfjc8{font-size:12px;}}</style><a href=\"https://www.Thesaurus.com\" id=\"\" data-linkid=\"qxnxzj\" class=\"css-1npfjc8 ejn7swr0\">Thesaurus.com</a></li></ul><style data-emotion-css=\"zd7l5y\">.css-zd7l5y{float:right;padding:1px 14px 1px 22px;margin:8px 0;border-right:1px solid #e2e2e2;line-height:22px;color:#555;font-size:11px;-webkit-text-decoration:none;text-decoration:none;font-weight:400;font-family:Open Sans,sans-serif;-webkit-transition:all 0.15s ease-in-out;transition:all 0.15s ease-in-out;}.css-zd7l5y > span{float:left;width:22px;height:22px;margin-right:8px;font-size:22px;-webkit-text-decoration:none;text-decoration:none;font-family:dictionary-fonticon;}.css-zd7l5y:hover{color:#6cb746;}</style><a href=\"https://www.dictionary.com/e/apps/\" font-family=\"dictionary-fonticon\" data-linkid=\"dbvvdc\" class=\"css-zd7l5y ebzzift0\"><style data-emotion-css=\"jna48b\">.css-jna48b::before{content:'';}</style><span class=\"css-jna48b ebzzift1\"></span><style data-emotion-css=\"sv8lr1\">.css-sv8lr1::before{content:'';}</style><span class=\"css-sv8lr1 ebzzift2\"></span>Try Our Apps</a></div></nav><style data-emotion-css=\"omrpao\">.css-omrpao{background:#3c7bbe;display:-webkit-box;display:-webkit-flex;display:-ms-flexbox;display:flex;-webkit-box-pack:left;-webkit-justify-content:left;-ms-flex-pack:left;justify-content:left;left:100px;}</style><div class=\"css-omrpao e1nfx3j01\"><style data-emotion-css=\"15nai5i\">.css-15nai5i{padding:15px 15px 18px;height:auto;display:-webkit-box;display:-webkit-flex;display:-ms-flexbox;display:flex;-webkit-flex-wrap:wrap;-ms-flex-wrap:wrap;flex-wrap:wrap;}@media (min-width:1200px){.css-15nai5i{width:1170px;margin-right:auto;margin-left:auto;}}@media (min-width:992px){.css-15nai5i{width:970px;margin-right:auto;margin-left:auto;}}</style><div class=\"css-15nai5i e1nfx3j02\"><a href=\"https://www.dictionary.com\" data-linkid=\"yg487x\"><style data-emotion-css=\"wwrygl\">.css-wwrygl{margin:0 20px 0 0;width:176px;height:40px;}</style><img src=\"https://www.dictionary.com/hp-assets/dictionary_logo_white-90c1e2eaf84c6abcb80d08d6eb0b6c60.svg\" alt=\"Dictionary.com\" class=\"css-wwrygl e1nfx3j00\"/></a><style data-emotion-css=\"1uhxkf6\">.css-1uhxkf6{padding:8px 2px;background-color:#f8f8f8;display:inline-block;float:left;box-sizing:border-box;position:relative;}</style><div class=\"css-1uhxkf6 e18h4a051\"><style data-emotion-css=\"1baulvz\">.css-1baulvz{display:inline-block;}</style><form action=\"#\" class=\"css-1baulvz e18h4a053\"><style data-emotion-css=\"qwsmke\">.css-qwsmke{float:left;cursor:pointer;}</style><div class=\"css-qwsmke ev3lshj0\"><style data-emotion-css=\"omgbl\">.css-omgbl{font-family:'dictionary-fonticon';speak:none;font-style:normal;font-weight:normal;font-variant:normal;text-transform:none;float:right;padding:1px 3px;color:#555;font-size:25px;line-height:28px;}.css-omgbl:after{content:'\\e613';}</style><span class=\"css-omgbl e2cjyp00\"></span><style data-emotion-css=\"1ynlh0h\">.css-1ynlh0h{float:right;min-width:92px;display:block;padding-left:8px;color:#555;font:14px Verdana;line-height:30px;}</style><span class=\"css-1ynlh0h ev3lshj1\">definitions</span></div><style data-emotion-css=\"1dv1kvn\">.css-1dv1kvn{border:0;-webkit-clip:rect(0 0 0 0);clip:rect(0 0 0 0);height:1px;margin:-1px;overflow:hidden;padding:0;position:absolute;width:1px;}</style><label for=\"q\" class=\"css-1dv1kvn e1t7bu8t0\">Search</label><style data-emotion-css=\"ji58t3\">.css-ji58t3{float:left;display:block;width:292px;height:30px;padding:0 8px;margin-right:1px;border:1px solid #e2e2e2;min-height:1px;line-height:18px;font-size:18px;color:#666;-webkit-transition:border-color,box-shadow 0.2s,0.2s ease-in-out,ease-in-out;transition:border-color,box-shadow 0.2s,0.2s ease-in-out,ease-in-out;}.css-ji58t3:hover,.css-ji58t3:focus{border-color:#55acee;outline:0;box-shadow:inset 0 1px 1px rgba(0,0,0,0.075),0 0 8px rgba(102,175,233,0.6);}@media (min-width:1200px){.css-ji58t3{width:422px;}}</style><input type=\"search\" title=\"Search\" autoComplete=\"off\" autoCapitalize=\"off\" autoCorrect=\"off\" name=\"override_query\" class=\"search-input css-ji58t3 e18h4a054\" id=\"searchbar_input\" value=\"\"/><style data-emotion-css=\"rv4ucl\">.css-rv4ucl{font-family:'dictionary-fonticon';speak:none;font-style:normal;font-weight:normal;font-variant:normal;text-transform:none;width:50px;height:30px;cursor:pointer;padding:0;border:0;outline:0;background-color:transparent;float:left;display:inline-block;padding:2px 8px;background:#f8f8f8;color:#3f729b;font-size:24px;color:#55acee;}.css-rv4ucl:before{content:'\\e614';}</style><button aria-label=\"Search\" type=\"submit\" id=\"search-submit\" class=\"css-rv4ucl e18h4a052\"></button><style data-emotion-css=\"1jzsm78\">.css-1jzsm78{margin:38px 0 0 -2px;width:100%;padding:0;background:#fff;z-index:2;cursor:pointer;list-style-type:none;box-shadow:0 2px 3px rgba(50,50,50,0.4);position:absolute;max-height:0px;-webkit-transition:max-height 100ms ease;transition:max-height 100ms ease;overflow:hidden;}</style><ul style=\"max-height:0\" class=\"css-1jzsm78 ep2tsc50\"><style data-emotion-css=\"afnsia\">.css-afnsia{border-top:1px solid #e2e2e2;padding:10px 8px;}.css-afnsia:hover{background:#f5f5f5;}</style><li class=\"css-afnsia e18h4a050\"><style data-emotion-css=\"iry8e\">.css-iry8e{display:block;-webkit-text-decoration:none;text-decoration:none;color:#555;font:14px Verdana,sans-serif;}</style><a data-linkid=\"205vpa\" class=\"css-iry8e ebjrtl60\">synonyms</a></li></ul></form></div></div></div></header><style data-emotion-css=\"1gabgth\">.css-1gabgth{margin:0 auto;padding:0 15px;min-height:1000px;max-width:1124px;width:auto;-webkit-font-smoothing:antialiased;-moz-osx-font-smoothing:grayscale;}</style><div class=\"css-1gabgth eyeuakq0\"><main><style data-emotion-css=\"m2ntvf\">.css-m2ntvf{margin:0 auto;text-align:center;}.css-m2ntvf.wide-ad{clear:both;padding:15px 0;}</style><aside id=\"dcomHomeTop-728x90\" class=\"wide-ad css-m2ntvf ew5gjhf0\"><script>if (window.googletag) {googletag.cmd.push(function() { googletag.display('dcomHomeTop-728x90'); });} else {console.error('googletag not defined, dcomHomeTop-728x90');}</script></aside><style data-emotion-css=\"1no6js6\">.css-1no6js6{display:-webkit-box;display:-webkit-flex;display:-ms-flexbox;display:flex;-webkit-flex-flow:row wrap;-ms-flex-flow:row wrap;flex-flow:row wrap;-webkit-box-pack:justify;-webkit-justify-content:space-between;-ms-flex-pack:justify;justify-content:space-between;margin:auto;}@media (min-width:700px) and (max-width:1023px){.css-1no6js6{width:684px;}}</style><div class=\"css-1no6js6 e11ug2dp0\"><style data-emotion-css=\"1wc2w3a\">.css-1wc2w3a{font-family:'Helvetica Neue',Helvetica,Arial,sans-serif;margin-bottom:20px;width:calc(33.33% - 8px);display:inline-block;}.css-1wc2w3a.cardIndex0,.css-1wc2w3a.cardIndex1{-webkit-order:0;-ms-flex-order:0;order:0;}.css-1wc2w3a.cardIndex2,.css-1wc2w3a.cardIndex3{-webkit-order:2;-ms-flex-order:2;order:2;}@media (max-width:1023px){.css-1wc2w3a{width:calc(50% - 8px);margin-bottom:12px;}}</style><article id=\"editorialContentItem0\" class=\"cardIndex0 css-1wc2w3a e4a94py0\"><style data-emotion-css=\"l6ej3s\">.css-l6ej3s{color:#4a4a4a;display:block;position:relative;-webkit-text-decoration:none;text-decoration:none;}</style><a href=\"https://www.dictionary.com/e/most-searched-words-2018/?param=hp\" data-linkid=\"9q3oel\" class=\"css-l6ej3s e4a94py1\"><header class=\"css-1xdhyk6 e4a94py2\"><style data-emotion-css=\"1y9t6nv\">.css-1y9t6nv{border:8px solid #ffffff;height:auto;width:100%;}</style><img src=\"//images.ctfassets.net/55tpbg0qcsp4/1VSwBQmmggOwukqGK0GiI0/808414eb40bf9078033993665abaafe8/1000x700-search.jpg?w=284&amp;h=240\" width=\"100%\" height=\"240px\" alt=\"The Year&#x27;s Top Word Trends\" class=\"css-1y9t6nv e4a94py5\"/><style data-emotion-css=\"1tpjb8e\">.css-1tpjb8e{-webkit-flex-direction:column;-ms-flex-direction:column;flex-direction:column;font-family:Arial,serif;-webkit-box-pack:center;-webkit-justify-content:center;-ms-flex-pack:center;justify-content:center;background:#ffffff;font-weight:400;margin:-48px auto 0;padding:12px;position:relative;text-align:center;width:calc(100% - 72px);z-index:2;display:-webkit-box;display:-webkit-flex;display:-ms-flexbox;display:flex;height:auto;min-height:77px;color:#4a4a4a;font-size:16px;line-height:61px;}@media (max-width:1023px){.css-1tpjb8e{line-height:initial;padding:25px 15px;}}@media (max-width:700px){.css-1tpjb8e{margin:-24px auto 0;width:calc(100% - 36px);padding:8px;}}</style><h2 class=\"css-1tpjb8e e4a94py3\"><style data-emotion-css=\"1bqoqcg\">.css-1bqoqcg{background:#ffffff;margin:0 auto;padding:0;height:auto;line-height:19px;}@media (max-width:700px){.css-1bqoqcg{font-size:14px;}}</style><span class=\"css-1bqoqcg e4a94py4\">The Year&#x27;s Top Word Trends</span></h2></header></a></article><article id=\"editorialContentItem1\" class=\"cardIndex1 css-1wc2w3a e4a94py0\"><a href=\"https://www.dictionary.com/e/electable/?param=HP\" data-linkid=\"xm43m7\" class=\"css-l6ej3s e4a94py1\"><header class=\"css-1xdhyk6 e4a94py2\"><img src=\"//images.ctfassets.net/55tpbg0qcsp4/2LeZIgMPoZt36AYVbuaDZT/4564f9466ecda5cbb0a976a7f8a77854/1000x700-what-makes-electable.jpg?w=284&amp;h=240\" width=\"100%\" height=\"240px\" alt=\"What Does It Mean To Be Electable?\" class=\"css-1y9t6nv e4a94py5\"/><h2 class=\"css-1tpjb8e e4a94py3\"><span class=\"css-1bqoqcg e4a94py4\">What Does It Mean To Be Electable?</span></h2></header></a></article><article id=\"editorialContentItem2\" class=\"cardIndex2 css-1wc2w3a e4a94py0\"><a href=\"https://www.dictionary.com/e/s/emoji-quotes/?param=HP\" data-linkid=\"bofuu0\" class=\"css-l6ej3s e4a94py1\"><header class=\"css-1xdhyk6 e4a94py2\"><img src=\"//images.ctfassets.net/55tpbg0qcsp4/4lkNvdcEb62AYAC0y6CQc4/27ccf91ff202a53f227d559dd54778aa/emoji_quotes3.jpg?w=284&amp;h=240\" width=\"100%\" height=\"240px\" alt=\"Can You Translate These Famous Phrases From Emoji?\" class=\"css-1y9t6nv e4a94py5\"/><h2 class=\"css-1tpjb8e e4a94py3\"><span class=\"css-1bqoqcg e4a94py4\">Can You Translate These Famous Phrases From Emoji?</span></h2></header></a></article><article id=\"editorialContentItem3\" class=\"cardIndex3 css-1wc2w3a e4a94py0\"><a href=\"https://www.dictionary.com/e/s/serial-comma/?param=HP\" data-linkid=\"ut8p0o\" class=\"css-l6ej3s e4a94py1\"><header class=\"css-1xdhyk6 e4a94py2\"><img src=\"//images.ctfassets.net/55tpbg0qcsp4/5TPCz8ZLkkeWMQGa4GCyQQ/b698d7b4d6296cefadd9d55b93dc0722/1000x700-oxford-comma-1.jpg?w=284&amp;h=240\" width=\"100%\" height=\"240px\" alt=\"Yes, You Do Need That Comma: Why We Love The Serial Comma\" class=\"css-1y9t6nv e4a94py5\"/><h2 class=\"css-1tpjb8e e4a94py3\"><span class=\"css-1bqoqcg e4a94py4\">Yes, You Do Need That Comma: Why We Love The Serial Comma</span></h2></header></a></article><style data-emotion-css=\"2o7dlr\">.css-2o7dlr{font-family:Arial,serif;margin-bottom:20px;width:calc(33.33% - 8px);-webkit-order:1;-ms-flex-order:1;order:1;}@media (max-width:1023px){.css-2o7dlr{width:calc(50% - 8px);-webkit-order:4;-ms-flex-order:4;order:4;}}@media (max-width:700px){.css-2o7dlr{-webkit-flex:0 0 100%;-ms-flex:0 0 100%;flex:0 0 100%;-webkit-order:3;-ms-flex-order:3;order:3;}}</style><article class=\"css-2o7dlr en2ypeq0\"><style data-emotion-css=\"x9na88\">.css-x9na88{background:#ffffff;font-family:Verdana;margin:6px auto 0;padding:48px 30px 45px;position:relative;text-align:center;max-width:300px;}@media (min-width:440px) and (max-width:700px){.css-x9na88{max-width:400px;}}</style><div id=\"contentWotdRoot\" class=\"css-x9na88 earqlhe0\"><style data-emotion-css=\"1dshy1s\">.css-1dshy1s{font-size:12px;margin-bottom:20px;margin-top:0;text-transform:initial;}</style><p class=\"css-1dshy1s earqlhe1\">January<!-- --> <!-- -->30<!-- -->, <!-- -->2019</p><style data-emotion-css=\"r7q7qr\">.css-r7q7qr{margin-bottom:5px;}</style><div class=\"css-r7q7qr earqlhe2\"><style data-emotion-css=\"hnb8ad\">.css-hnb8ad{color:#4a4a4a;display:inline-block;font-family:Verdana;font-size:22px;height:auto;margin-bottom:5px;padding-top:0;-webkit-text-decoration:none;text-decoration:none;font-size:22px;}.css-hnb8ad:hover{color:#3a76b6;-webkit-text-decoration:underline;text-decoration:underline;}</style><a href=\"https://www.dictionary.com/wordoftheday/\" data-linkid=\"nx1fkx\" id=\"wotdAudio-play\" class=\"css-hnb8ad earqlhe3\">bootstrap</a><style data-emotion-css=\"1hp9sf3\">.css-1hp9sf3{background:url(https://www.dictionary.com/hp-assets/audio-icon-9f870e286873fd50e8e479dc1915591f.svg) no-repeat;background-size:100%;border:none;cursor:pointer;display:inline-block;height:18px;float:none;margin-left:10px;margin-top:0;outline:none;position:relative;top:-3px;width:18px;vertical-align:middle;padding:0;}</style><button href=\"https://static.sfdict.com/audio/B05/B0504700.mp3\" id=\"contentWotdAudio\" class=\"css-1hp9sf3 earqlhe4\"></button></div><style data-emotion-css=\"1qxtz39\">.css-1qxtz39{font-size:12px;}</style><div class=\"css-1qxtz39 earqlhe5\"><style data-emotion-css=\"1mune0s\">.css-1mune0s{border-right:1px solid #4a4a4a;font-style:italic;margin-right:4px;padding-right:4px;}</style><span class=\"css-1mune0s earqlhe6\">verb</span><span><strong>boot</strong>-strap</span></div><style data-emotion-css=\"1rzwbjo\">.css-1rzwbjo{background:#979797;border:0;height:1px;margin:28px auto;width:80px;}@media (max-width:420px){.css-1rzwbjo{display:none;}}</style><hr class=\"css-1rzwbjo earqlhe7\"/><style data-emotion-css=\"1y7u78h\">.css-1y7u78h{font-size:12px;}@media (max-width:420px){.css-1y7u78h{display:none;}}</style><p class=\"css-1y7u78h earqlhe8\">SIGN UP FOR OUR NEWSLETTER</p><div><style data-emotion-css=\"1ffrdre\">.css-1ffrdre{background:#09bdff;border:0;border-radius:3px;color:#ffffff;cursor:pointer;padding:8px 20px;font-family:Arial,serif;text-transform:uppercase;}@media (max-width:420px){.css-1ffrdre{display:none;}}</style><div id=\"wotdModal-open\" class=\"css-1ffrdre e1tlgrv80\">Subscribe Now</div></div><style data-emotion-css=\"bpddd3\">.css-bpddd3{background:url(https://www.dictionary.com/hp-assets/lines-7351796d79772c8ab183dca29c136c2a.png);display:block;left:-42%;max-width:none;padding:5px 50px 5px 20px;position:absolute;-webkit-transform:rotate(-90deg);-ms-transform:rotate(-90deg);transform:rotate(-90deg);-webkit-transform-origin:center top;-ms-transform-origin:center top;transform-origin:center top;top:39%;width:auto;white-space:nowrap;}@media (min-width:440px) and (max-width:700px){.css-bpddd3{left:-32%;}}</style><div class=\"css-bpddd3 earqlhe9\"><span>WORD OF THE DAY</span></div><style data-emotion-css=\"1mo7a2z\">.css-1mo7a2z{background:#f5a622;left:-17px;padding:8px 10px 5px;position:absolute;top:-8px;}</style><div class=\"css-1mo7a2z earqlhe10\"><style data-emotion-css=\"1hngbcd\">.css-1hngbcd{background:url(https://www.dictionary.com/hp-assets/ico-form-0c9faa620a623b39446396bfe9184e5e.png) no-repeat;background-size:105%;display:inline-block;height:22px;width:16px;}</style><div class=\"css-1hngbcd earqlhe11\"></div></div></div></article><style data-emotion-css=\"1qfkfm1\">.css-1qfkfm1{-webkit-order:3;-ms-flex-order:3;order:3;width:calc(33.33% - 8px);}@media (max-width:1023px){.css-1qfkfm1{width:calc(50% - 8px);}}@media (max-width:700px){.css-1qfkfm1{-webkit-flex:0 0 100%;-ms-flex:0 0 100%;flex:0 0 100%;-webkit-order:4;-ms-flex-order:4;order:4;}}</style><article class=\"css-1qfkfm1 e11ug2dp1\"><aside id=\"dcomHomeTop-300x250\" class=\"css-m2ntvf ew5gjhf0\"><script>if (window.googletag) {googletag.cmd.push(function() { googletag.display('dcomHomeTop-300x250'); });} else {console.error('googletag not defined, dcomHomeTop-300x250');}</script></aside></article></div><div><section><style data-emotion-css=\"ewcb75\">.css-ewcb75{text-align:center;height:12.9px;font-size:20px;margin:10px 10px 25px;border-bottom:solid 0.5px #979797;font-family:Arial,serif;}@media (max-width:700px){.css-ewcb75{height:9px;font-size:14px;}}</style><h2 id=\"editorialContentRow0\" class=\"css-ewcb75 eqxmpb20\"><style data-emotion-css=\"y5o48f\">.css-y5o48f{z-index:2;background-color:#f5f4f4;padding-left:10px;padding-right:10px;font-family:'Helvetica Neue',Helvetica,Arial,sans-serif;color:#565656;text-transform:uppercase;font-weight:normal;}</style><span class=\"css-y5o48f eqxmpb21\">Study Help</span></h2><style data-emotion-css=\"19o5da2\">.css-19o5da2{display:-webkit-box;display:-webkit-flex;display:-ms-flexbox;display:flex;-webkit-flex-flow:row wrap;-ms-flex-flow:row wrap;flex-flow:row wrap;-webkit-box-pack:justify;-webkit-justify-content:space-between;-ms-flex-pack:justify;justify-content:space-between;}@media (max-width:700px){.css-19o5da2{-webkit-flex-direction:column;-ms-flex-direction:column;flex-direction:column;max-width:500px;margin:auto;}}</style><div class=\"css-19o5da2 e1be0rkq0\"><style data-emotion-css=\"1sr8h7s\">.css-1sr8h7s{font-family:'Helvetica Neue',Helvetica,Arial,sans-serif;margin-bottom:20px;width:calc(33.33% - 8px);display:inline-block;}.css-1sr8h7s.cardIndex0,.css-1sr8h7s.cardIndex1{-webkit-order:0;-ms-flex-order:0;order:0;}.css-1sr8h7s.cardIndex2,.css-1sr8h7s.cardIndex3{-webkit-order:2;-ms-flex-order:2;order:2;}@media (max-width:700px){.css-1sr8h7s{width:100%;min-height:106px;margin-bottom:12px;}}</style><article id=\"editorialContentItem00\" class=\"cardIndex0 css-1sr8h7s e4a94py0\"><a href=\"https://www.dictionary.com/e/video/two-nerdy-steps-to-take-to-improve-your-vocabulary/?param=HP\" data-linkid=\"rf12y7\" class=\"css-l6ej3s e4a94py1\"><style data-emotion-css=\"trd6dt\">@media (max-width:700px){.css-trd6dt{width:100%;min-height:106px;display:-webkit-box;display:-webkit-flex;display:-ms-flexbox;display:flex;-webkit-flex:1 0 auto;-ms-flex:1 0 auto;flex:1 0 auto;background-color:#ffffff;-webkit-box-pack:center;-webkit-justify-content:center;-ms-flex-pack:center;justify-content:center;}}</style><header class=\"css-trd6dt e4a94py2\"><style data-emotion-css=\"lvlzwj\">.css-lvlzwj{border:8px solid #ffffff;height:auto;width:100%;}@media (max-width:700px){.css-lvlzwj{border:8px solid #ffffff;max-width:144px;max-height:106px;-webkit-align-self:center;-ms-flex-item-align:center;align-self:center;}}</style><img src=\"//images.ctfassets.net/55tpbg0qcsp4/6qtNHciY7YiAYGoAu4cQEo/b95238cbe96214ed776df247069af14f/lay_vs_lie_1000x700.jpg?w=284&amp;h=240\" width=\"100%\" height=\"240px\" alt=\"2 Nerdy Steps to Improving Your Vocabulary\" class=\"css-lvlzwj e4a94py5\"/><style data-emotion-css=\"6kjijt\">.css-6kjijt{-webkit-flex-direction:column;-ms-flex-direction:column;flex-direction:column;font-family:Arial,serif;-webkit-box-pack:center;-webkit-justify-content:center;-ms-flex-pack:center;justify-content:center;background:#ffffff;font-weight:400;margin:-48px auto 0;padding:12px;position:relative;text-align:center;width:calc(100% - 72px);z-index:2;display:-webkit-box;display:-webkit-flex;display:-ms-flexbox;display:flex;height:auto;min-height:77px;color:#4a4a4a;font-size:16px;line-height:61px;}@media (max-width:1023px){.css-6kjijt{line-height:initial;padding:25px 15px;}}@media (max-width:700px){.css-6kjijt{margin:0;width:100%;display:-webkit-inline-box;display:-webkit-inline-flex;display:-ms-inline-flexbox;display:inline-flex;}}</style><h2 class=\"css-6kjijt e4a94py3\"><style data-emotion-css=\"tss7qt\">.css-tss7qt{background:#ffffff;margin:0 auto;padding:0;height:auto;line-height:19px;}@media (max-width:700px){.css-tss7qt{font-size:14px;margin:0;text-align:left;}}</style><span class=\"css-tss7qt e4a94py4\">2 Nerdy Steps to Improving Your Vocabulary</span></h2></header></a></article><article id=\"editorialContentItem01\" class=\"cardIndex0 css-1sr8h7s e4a94py0\"><a href=\"https://www.dictionary.com/e/s/5-important-historical-events-that-changed-language/?param=HP\" data-linkid=\"m1pomb\" class=\"css-l6ej3s e4a94py1\"><header class=\"css-trd6dt e4a94py2\"><img src=\"//images.ctfassets.net/55tpbg0qcsp4/14FO04IfJOCAMyiggaK20G/c177a71c6c4f23af3bc596a8767abb6d/historical-events7.jpg?w=284&amp;h=240\" width=\"100%\" height=\"240px\" alt=\"5 Historical Events That Changed Language Forever\" class=\"css-lvlzwj e4a94py5\"/><h2 class=\"css-6kjijt e4a94py3\"><span class=\"css-tss7qt e4a94py4\">5 Historical Events That Changed Language Forever</span></h2></header></a></article><article id=\"editorialContentItem02\" class=\"cardIndex0 css-1sr8h7s e4a94py0\"><a href=\"https://www.dictionary.com/e/video/pore-over-or-pour-over/?param=HP\" data-linkid=\"725mvc\" class=\"css-l6ej3s e4a94py1\"><header class=\"css-trd6dt e4a94py2\"><img src=\"//images.ctfassets.net/55tpbg0qcsp4/6al01SyEzCKeIUGIQAoUME/dab66c59d9f1d9e28f7eb000d91ec8a3/pore_over3.jpg?w=284&amp;h=240\" width=\"100%\" height=\"240px\" alt=\"Don&#x27;t Let These Commonly Confused Words Mess You Up\" class=\"css-lvlzwj e4a94py5\"/><h2 class=\"css-6kjijt e4a94py3\"><span class=\"css-tss7qt e4a94py4\">Don&#x27;t Let These Commonly Confused Words Mess You Up</span></h2></header></a></article></div></section><section><h2 id=\"editorialContentRow1\" class=\"css-ewcb75 eqxmpb20\"><span class=\"css-y5o48f eqxmpb21\">Weird Word Facts</span></h2><div class=\"css-19o5da2 e1be0rkq0\"><article id=\"editorialContentItem10\" class=\"cardIndex0 css-1sr8h7s e4a94py0\"><a href=\"https://www.dictionary.com/e/s/longest-english-words/?param=HP\" data-linkid=\"7y0lvk\" class=\"css-l6ej3s e4a94py1\"><header class=\"css-trd6dt e4a94py2\"><img src=\"//images.ctfassets.net/55tpbg0qcsp4/obI5ipgkKW6KoCu6kyggq/f37d37e05c1f102a4e0c9988f2299028/long_words3_1000x700.jpg?w=284&amp;h=240\" width=\"100%\" height=\"240px\" alt=\"The Looooongest Words in English\" class=\"css-lvlzwj e4a94py5\"/><h2 class=\"css-6kjijt e4a94py3\"><span class=\"css-tss7qt e4a94py4\">The Looooongest Words in English</span></h2></header></a></article><article id=\"editorialContentItem11\" class=\"cardIndex0 css-1sr8h7s e4a94py0\"><a href=\"https://www.dictionary.com/e/s/weird-words-crazy-urges-weve/?param=HP\" data-linkid=\"rt84a1\" class=\"css-l6ej3s e4a94py1\"><header class=\"css-trd6dt e4a94py2\"><img src=\"//images.ctfassets.net/55tpbg0qcsp4/5JYHYEvRiEMsSe0qscGI8s/cfe90f0ea0f85120e475a11a4cb1d164/cute_aggression_1000x700.jpg?w=284&amp;h=240\" width=\"100%\" height=\"240px\" alt=\"When a Cat is so Cute You Want to Bite its Face? There&#x27;s a Word for That.\" class=\"css-lvlzwj e4a94py5\"/><h2 class=\"css-6kjijt e4a94py3\"><span class=\"css-tss7qt e4a94py4\">When a Cat is so Cute You Want to Bite its Face? There&#x27;s a Word for That.</span></h2></header></a></article><article id=\"editorialContentItem12\" class=\"cardIndex0 css-1sr8h7s e4a94py0\"><a href=\"https://www.dictionary.com/e/s/words-that-have-turned/?param=HP\" data-linkid=\"rvh1zt\" class=\"css-l6ej3s e4a94py1\"><header class=\"css-trd6dt e4a94py2\"><img src=\"//images.ctfassets.net/55tpbg0qcsp4/3LRtSCKiHSI0qmICYSGeKk/db675d80f2556955dbb8a2ecfd5e59cf/opposites_fun23.jpg?w=284&amp;h=240\" width=\"100%\" height=\"240px\" alt=\"These Words Are Good and Bad at the Same Time.\" class=\"css-lvlzwj e4a94py5\"/><h2 class=\"css-6kjijt e4a94py3\"><span class=\"css-tss7qt e4a94py4\">These Words Are Good and Bad at the Same Time.</span></h2></header></a></article></div></section><section><h2 id=\"editorialContentRow2\" class=\"css-ewcb75 eqxmpb20\"><span class=\"css-y5o48f eqxmpb21\">Pop Culture</span></h2><div class=\"css-19o5da2 e1be0rkq0\"><article id=\"editorialContentItem20\" class=\"cardIndex0 css-1sr8h7s e4a94py0\"><a href=\"https://www.dictionary.com/e/s/atw-slideshow-acronyms/?param=HP\" data-linkid=\"gqei48\" class=\"css-l6ej3s e4a94py1\"><header class=\"css-trd6dt e4a94py2\"><img src=\"//images.ctfassets.net/55tpbg0qcsp4/61BpbsPJ1SGmGm48iUIyk0/08bbc67b43ce04c882753ef578919d31/1000x700-10acronyms_1.jpg?w=284&amp;h=240\" width=\"100%\" height=\"240px\" alt=\"10 Popular Acronyms That Will Make Your Life Easier\" class=\"css-lvlzwj e4a94py5\"/><h2 class=\"css-6kjijt e4a94py3\"><span class=\"css-tss7qt e4a94py4\">10 Popular Acronyms That Will Make Your Life Easier</span></h2></header></a></article><article id=\"editorialContentItem21\" class=\"cardIndex0 css-1sr8h7s e4a94py0\"><a href=\"https://www.dictionary.com/e/gender-sexuality/pansexual/?param=HP\" data-linkid=\"tguaw\" class=\"css-l6ej3s e4a94py1\"><header class=\"css-trd6dt e4a94py2\"><img src=\"//images.ctfassets.net/55tpbg0qcsp4/2BwgiiZIuMUmwoQoSQU040/da4614f78ad99814efc719aca2663a7f/atw_pansexual_1000x700.jpg?w=284&amp;h=240\" width=\"100%\" height=\"240px\" alt=\" How is Pansexuality Different from Bisexuality?\" class=\"css-lvlzwj e4a94py5\"/><h2 class=\"css-6kjijt e4a94py3\"><span class=\"css-tss7qt e4a94py4\"> How is Pansexuality Different from Bisexuality?</span></h2></header></a></article><article id=\"editorialContentItem22\" class=\"cardIndex0 css-1sr8h7s e4a94py0\"><a href=\"https://www.dictionary.com/e/pop-culture/glass-cliff/?param=HP\" data-linkid=\"6nt7nq\" class=\"css-l6ej3s e4a94py1\"><header class=\"css-trd6dt e4a94py2\"><img src=\"//images.ctfassets.net/55tpbg0qcsp4/15kN1OIGeIM2K6GcgeCW2w/3b8c6e79fa954d11ed75fd6d0fdd907f/atw_glass-ceiling_1000x700.jpg?w=284&amp;h=240\" width=\"100%\" height=\"240px\" alt=\"You&#x27;ve Heard of the Glass Ceiling, But What About the Glass Cliff?\" class=\"css-lvlzwj e4a94py5\"/><h2 class=\"css-6kjijt e4a94py3\"><span class=\"css-tss7qt e4a94py4\">You&#x27;ve Heard of the Glass Ceiling, But What About the Glass Cliff?</span></h2></header></a></article></div></section></div><aside id=\"dcomHomeBot-728x90\" class=\"wide-ad css-m2ntvf ew5gjhf0\"><script>if (window.googletag) {googletag.cmd.push(function() { googletag.display('dcomHomeBot-728x90'); });} else {console.error('googletag not defined, dcomHomeBot-728x90');}</script></aside><section><h2 id=\"browseAZTitle\" class=\"css-ewcb75 eqxmpb20\"><span class=\"css-y5o48f eqxmpb21\">Browse Dictionary</span></h2><style data-emotion-css=\"1j760g\">.css-1j760g{list-style:none;text-transform:uppercase;text-align:center;padding:0;display:-webkit-box;display:-webkit-flex;display:-ms-flexbox;display:flex;-webkit-flex-flow:row wrap;-ms-flex-flow:row wrap;flex-flow:row wrap;-webkit-box-pack:center;-webkit-justify-content:center;-ms-flex-pack:center;justify-content:center;margin:16px auto;}</style><ol data-linkid=\"74qg7q\" class=\"css-1j760g ex77a8l0\"><style data-emotion-css=\"3u8xlf\">.css-3u8xlf{width:30px;height:30px;line-height:30px;border-radius:50%;float:left;margin:5px 7px 0 0;font-family:Arial,serif;font-size:13.6px;text-align:center;}.css-3u8xlf:hover{font-size:16px;line-height:35px;width:35px;height:35px;margin:0 2px 0 -5px;cursor:pointer;}.css-3u8xlf.dcom{background:#5f92ca;}.css-3u8xlf.tcom{background:#f5a622;}</style><li id=\"browseAZItemHash\" class=\"dcom css-3u8xlf ex77a8l1\" data-item=\"#\"><style data-emotion-css=\"1yo52wr\">.css-1yo52wr{color:#ffffff;display:block;-webkit-text-decoration:none;text-decoration:none;}</style><a href=\"/list/0/1\" class=\"css-1yo52wr ex77a8l2\">#</a></li><li id=\"browseAZItema\" class=\"dcom css-3u8xlf ex77a8l1\" data-item=\"A\"><a href=\"/list/a/1\" class=\"css-1yo52wr ex77a8l2\">a</a></li><li id=\"browseAZItemb\" class=\"dcom css-3u8xlf ex77a8l1\" data-item=\"B\"><a href=\"/list/b/1\" class=\"css-1yo52wr ex77a8l2\">b</a></li><li id=\"browseAZItemc\" class=\"dcom css-3u8xlf ex77a8l1\" data-item=\"C\"><a href=\"/list/c/1\" class=\"css-1yo52wr ex77a8l2\">c</a></li><li id=\"browseAZItemd\" class=\"dcom css-3u8xlf ex77a8l1\" data-item=\"D\"><a href=\"/list/d/1\" class=\"css-1yo52wr ex77a8l2\">d</a></li><li id=\"browseAZIteme\" class=\"dcom css-3u8xlf ex77a8l1\" data-item=\"E\"><a href=\"/list/e/1\" class=\"css-1yo52wr ex77a8l2\">e</a></li><li id=\"browseAZItemf\" class=\"dcom css-3u8xlf ex77a8l1\" data-item=\"F\"><a href=\"/list/f/1\" class=\"css-1yo52wr ex77a8l2\">f</a></li><li id=\"browseAZItemg\" class=\"dcom css-3u8xlf ex77a8l1\" data-item=\"G\"><a href=\"/list/g/1\" class=\"css-1yo52wr ex77a8l2\">g</a></li><li id=\"browseAZItemh\" class=\"dcom css-3u8xlf ex77a8l1\" data-item=\"H\"><a href=\"/list/h/1\" class=\"css-1yo52wr ex77a8l2\">h</a></li><li id=\"browseAZItemi\" class=\"dcom css-3u8xlf ex77a8l1\" data-item=\"I\"><a href=\"/list/i/1\" class=\"css-1yo52wr ex77a8l2\">i</a></li><li id=\"browseAZItemj\" class=\"dcom css-3u8xlf ex77a8l1\" data-item=\"J\"><a href=\"/list/j/1\" class=\"css-1yo52wr ex77a8l2\">j</a></li><li id=\"browseAZItemk\" class=\"dcom css-3u8xlf ex77a8l1\" data-item=\"K\"><a href=\"/list/k/1\" class=\"css-1yo52wr ex77a8l2\">k</a></li><li id=\"browseAZIteml\" class=\"dcom css-3u8xlf ex77a8l1\" data-item=\"L\"><a href=\"/list/l/1\" class=\"css-1yo52wr ex77a8l2\">l</a></li><li id=\"browseAZItemm\" class=\"dcom css-3u8xlf ex77a8l1\" data-item=\"M\"><a href=\"/list/m/1\" class=\"css-1yo52wr ex77a8l2\">m</a></li><li id=\"browseAZItemn\" class=\"dcom css-3u8xlf ex77a8l1\" data-item=\"N\"><a href=\"/list/n/1\" class=\"css-1yo52wr ex77a8l2\">n</a></li><li id=\"browseAZItemo\" class=\"dcom css-3u8xlf ex77a8l1\" data-item=\"O\"><a href=\"/list/o/1\" class=\"css-1yo52wr ex77a8l2\">o</a></li><li id=\"browseAZItemp\" class=\"dcom css-3u8xlf ex77a8l1\" data-item=\"P\"><a href=\"/list/p/1\" class=\"css-1yo52wr ex77a8l2\">p</a></li><li id=\"browseAZItemq\" class=\"dcom css-3u8xlf ex77a8l1\" data-item=\"Q\"><a href=\"/list/q/1\" class=\"css-1yo52wr ex77a8l2\">q</a></li><li id=\"browseAZItemr\" class=\"dcom css-3u8xlf ex77a8l1\" data-item=\"R\"><a href=\"/list/r/1\" class=\"css-1yo52wr ex77a8l2\">r</a></li><li id=\"browseAZItems\" class=\"dcom css-3u8xlf ex77a8l1\" data-item=\"S\"><a href=\"/list/s/1\" class=\"css-1yo52wr ex77a8l2\">s</a></li><li id=\"browseAZItemt\" class=\"dcom css-3u8xlf ex77a8l1\" data-item=\"T\"><a href=\"/list/t/1\" class=\"css-1yo52wr ex77a8l2\">t</a></li><li id=\"browseAZItemu\" class=\"dcom css-3u8xlf ex77a8l1\" data-item=\"U\"><a href=\"/list/u/1\" class=\"css-1yo52wr ex77a8l2\">u</a></li><li id=\"browseAZItemv\" class=\"dcom css-3u8xlf ex77a8l1\" data-item=\"V\"><a href=\"/list/v/1\" class=\"css-1yo52wr ex77a8l2\">v</a></li><li id=\"browseAZItemw\" class=\"dcom css-3u8xlf ex77a8l1\" data-item=\"W\"><a href=\"/list/w/1\" class=\"css-1yo52wr ex77a8l2\">w</a></li><li id=\"browseAZItemx\" class=\"dcom css-3u8xlf ex77a8l1\" data-item=\"X\"><a href=\"/list/x/1\" class=\"css-1yo52wr ex77a8l2\">x</a></li><li id=\"browseAZItemy\" class=\"dcom css-3u8xlf ex77a8l1\" data-item=\"Y\"><a href=\"/list/y/1\" class=\"css-1yo52wr ex77a8l2\">y</a></li><li id=\"browseAZItemz\" class=\"dcom css-3u8xlf ex77a8l1\" data-item=\"Z\"><a href=\"/list/z/1\" class=\"css-1yo52wr ex77a8l2\">z</a></li></ol></section><style data-emotion-css=\"9zn6n6\">.css-9zn6n6{margin:0 auto 50px;display:-webkit-box;display:-webkit-flex;display:-ms-flexbox;display:flex;-webkit-flex-wrap:wrap;-ms-flex-wrap:wrap;flex-wrap:wrap;-webkit-box-pack:space-around;-webkit-justify-content:space-around;-ms-flex-pack:space-around;justify-content:space-around;min-height:25px;font-family:'Helvetica Neue',Helvetica,Arial,sans-serif;}@media (max-width:700px){.css-9zn6n6{-webkit-box-pack:center;-webkit-justify-content:center;-ms-flex-pack:center;justify-content:center;}}</style><div class=\"css-9zn6n6 e31vfen0\"><style data-emotion-css=\"1cenz53\">.css-1cenz53{padding:7px 0;text-align:center;color:#ffffff;background-color:#09bdff;text-transform:uppercase;-webkit-text-decoration:none;text-decoration:none;font-size:14px;min-width:128px;display:-webkit-box;display:-webkit-flex;display:-ms-flexbox;display:flex;-webkit-box-pack:center;-webkit-justify-content:center;-ms-flex-pack:center;justify-content:center;-webkit-flex-direction:column;-ms-flex-direction:column;flex-direction:column;-webkit-flex:0 0 calc(20% - 8px);-ms-flex:0 0 calc(20% - 8px);flex:0 0 calc(20% - 8px);}.css-1cenz53:hover{-webkit-transform:scale(1.1,1.1);-ms-transform:scale(1.1,1.1);transform:scale(1.1,1.1);box-shadow:0 1px 4px 0 rgba(0,0,0,0.24);}@media (max-width:700px){.css-1cenz53{-webkit-flex:0 0 calc(40% - 4px);-ms-flex:0 0 calc(40% - 4px);flex:0 0 calc(40% - 4px);margin:4px;padding:10px 0;}}</style><a href=\"https://www.dictionary.com/e/list/slang/1/\" class=\"css-1cenz53 e31vfen1\">slang</a><a href=\"https://www.dictionary.com/e/list/emoji/1/\" class=\"css-1cenz53 e31vfen1\">emoji</a><a href=\"https://www.dictionary.com/e/list/acronyms/1/\" class=\"css-1cenz53 e31vfen1\">acronyms</a><a href=\"https://www.dictionary.com/e/list/pop-culture/1/\" class=\"css-1cenz53 e31vfen1\">pop culture</a><a href=\"https://www.dictionary.com/e/list/more/1/\" class=\"css-1cenz53 e31vfen1\">more</a></div><style data-emotion-css=\"y0buo3\">.css-y0buo3{font-family:Verdana;text-align:center;margin:auto auto 20px;min-height:44px;height:auto;font-size:12px;line-height:1.57;color:#000000;padding:0 15px;}</style><section class=\"css-y0buo3 e1k16nnb0\"><h2 hidden=\"\">About Dictionary.com</h2><style data-emotion-css=\"8f8yu3\">.css-8f8yu3{font-size:inherit;font-weight:inherit;}</style><h3 class=\"css-8f8yu3 e1k16nnb1\">Dictionary.com is the world’s leading online source for English definitions, synonyms, word origins, audio pronunciations, example sentences, slang phrases, idioms, word games, legal and medical terms, Word of the Day and more. For over 20 years, Dictionary.com has been helping millions of people improve their use of the English language with its free digital services.</h3></section></main></div><style data-emotion-css=\"1uhlyjq\">.css-1uhlyjq{background-color:#444;height:40px;}@media only screen and (max-width:768px){.css-1uhlyjq{height:81px;}}</style><footer class=\"css-1uhlyjq esk3ouk0\"><style data-emotion-css=\"1bc2j56\">.css-1bc2j56{width:70%;margin:0 auto;color:#bbb;font-weight:100;font-family:'Helvetica';font-size:12px;line-height:40px;}@media only screen and (max-width:768px){.css-1bc2j56{padding-left:6px;line-height:30px;text-align:center;}}</style><div class=\"css-1bc2j56 esk3ouk1\"><style data-emotion-css=\"1modp0l\">.css-1modp0l{display:inline;margin:0;padding:0;}@media only screen and (min-width:768px){.css-1modp0l{float:right;}}</style><ul class=\"css-1modp0l esk3ouk2\"><style data-emotion-css=\"13s85fp\">.css-13s85fp{display:inline;position:relative;}</style><li class=\"css-13s85fp esk3ouk3\"><style data-emotion-css=\"1ell446\">.css-1ell446{color:#bbb;-webkit-text-decoration:none;text-decoration:none;padding-left:35px;}.css-1ell446:hover{color:#fff;-webkit-text-decoration:underline;text-decoration:underline;}@media only screen and (max-width:768px){.css-1ell446{padding:5px;display:inline-block;text-align:center;}}</style><a href=\"https://www.dictionary.com/e/about/\" data-linkid=\"gy27eg\" id=\"about-click\" class=\"css-1ell446 esk3ouk4\">About</a></li><li class=\"css-13s85fp esk3ouk3\"><a href=\"https://www.dictionary.com/e/terms/\" data-linkid=\"gy27eg\" id=\"termAndPrivacy-click\" class=\"css-1ell446 esk3ouk4\">Cookies, Terms, &amp; Privacy</a></li></ul><div>© <!-- -->2019<!-- --> Dictionary.com, LLC.</div></div></footer></div></div></div></div>\n",
      "        <script>window.ANALYTICS = {\"siteName\":\"dict\",\"trackURL\":\"https:\\u002F\\u002Ftrack.dictionary.com\\u002Fmain.gif\",\"dictionarySpanIdUrl\":\"https:\\u002F\\u002Fspanids.dictionary.com\\u002F\",\"thesaurusSpanIdUrl\":\"https:\\u002F\\u002Fspanids.thesaurus.com\\u002F\",\"pageName\":\"dict-home\",\"ab\":\"0\",\"platform\":\"Desktop\"};</script>\n",
      "        <script>window.ENV_VARS = {\"dev\":false,\"test\":false,\"prod\":true,\"DCOM_PROTOCOL\":\"https\",\"TCOM_PROTOCOL\":\"https\",\"DCOM_TRACKING_URL\":\"https:\\u002F\\u002Ftrack.dictionary.com\\u002Fmain.gif\",\"TCOM_TRACKING_URL\":\"https:\\u002F\\u002Ftrack.thesaurus.com\\u002Fmain.gif\",\"UPGRADE_INSECURE_REQUESTS\":true,\"TCOM_SPANID_URL\":\"https:\\u002F\\u002Fspanids.thesaurus.com\\u002F\",\"DCOM_SPANID_URL\":\"https:\\u002F\\u002Fspanids.dictionary.com\\u002F\",\"EDITORIAL_API_ENDPOINT\":\"https:\\u002F\\u002Feditorial-content-feed.dictionary.com\\u002Fdcomhp\",\"WOTD_API_ENDPOINT\":\"https:\\u002F\\u002Frestcdn.dictionary.com\\u002Fv2\\u002Fwordoftheday.json?api_key=KgprXEYKVnNSFSZ\",\"TCOM_PUBLIC_ASSETS_URL\":\"https:\\u002F\\u002Fwww.thesaurus.com\\u002Fhp-assets\",\"DCOM_PUBLIC_ASSETS_URL\":\"https:\\u002F\\u002Fwww.dictionary.com\\u002Fhp-assets\",\"SERVER_LOGGING_LEVEL\":\"error\",\"CLIENT_LOGGING_LEVEL\":\"error\",\"API_REQUEST_LOGGING_LEVEL\":\"info\",\"ALLOW_DISABLED_ADS\":\"false\",\"RTF_FEATURE_ENABLED\":\"true\",\"MUP_FEATURE_ENABLED\":\"true\"};</script>\n",
      "        <script>window.INITIAL_STATE = {\"routerReducer\":{\"location\":null},\"hamburgerMenu\":{\"isHamburgerMenuOpen\":false},\"editorialData\":{\"isFetching\":false,\"data\":{\"highlights\":[{\"title\":\"The Year's Top Word Trends\",\"url\":\"https:\\u002F\\u002Fwww.dictionary.com\\u002Fe\\u002Fmost-searched-words-2018\\u002F?param=hp\",\"image\":\"\\u002F\\u002Fimages.ctfassets.net\\u002F55tpbg0qcsp4\\u002F1VSwBQmmggOwukqGK0GiI0\\u002F808414eb40bf9078033993665abaafe8\\u002F1000x700-search.jpg\",\"description\":\"\"},{\"title\":\"What Does It Mean To Be Electable?\",\"url\":\"https:\\u002F\\u002Fwww.dictionary.com\\u002Fe\\u002Felectable\\u002F?param=HP\",\"image\":\"\\u002F\\u002Fimages.ctfassets.net\\u002F55tpbg0qcsp4\\u002F2LeZIgMPoZt36AYVbuaDZT\\u002F4564f9466ecda5cbb0a976a7f8a77854\\u002F1000x700-what-makes-electable.jpg\",\"description\":\"\"},{\"title\":\"Can You Translate These Famous Phrases From Emoji?\",\"url\":\"https:\\u002F\\u002Fwww.dictionary.com\\u002Fe\\u002Fs\\u002Femoji-quotes\\u002F?param=HP\",\"image\":\"\\u002F\\u002Fimages.ctfassets.net\\u002F55tpbg0qcsp4\\u002F4lkNvdcEb62AYAC0y6CQc4\\u002F27ccf91ff202a53f227d559dd54778aa\\u002Femoji_quotes3.jpg\",\"description\":\"\"},{\"title\":\"Yes, You Do Need That Comma: Why We Love The Serial Comma\",\"url\":\"https:\\u002F\\u002Fwww.dictionary.com\\u002Fe\\u002Fs\\u002Fserial-comma\\u002F?param=HP\",\"image\":\"\\u002F\\u002Fimages.ctfassets.net\\u002F55tpbg0qcsp4\\u002F5TPCz8ZLkkeWMQGa4GCyQQ\\u002Fb698d7b4d6296cefadd9d55b93dc0722\\u002F1000x700-oxford-comma-1.jpg\",\"description\":\"\"}],\"main\":[{\"title\":\"Study Help\",\"feed\":[{\"title\":\"2 Nerdy Steps to Improving Your Vocabulary\",\"url\":\"https:\\u002F\\u002Fwww.dictionary.com\\u002Fe\\u002Fvideo\\u002Ftwo-nerdy-steps-to-take-to-improve-your-vocabulary\\u002F?param=HP\",\"image\":\"\\u002F\\u002Fimages.ctfassets.net\\u002F55tpbg0qcsp4\\u002F6qtNHciY7YiAYGoAu4cQEo\\u002Fb95238cbe96214ed776df247069af14f\\u002Flay_vs_lie_1000x700.jpg\",\"description\":\"\"},{\"title\":\"5 Historical Events That Changed Language Forever\",\"url\":\"https:\\u002F\\u002Fwww.dictionary.com\\u002Fe\\u002Fs\\u002F5-important-historical-events-that-changed-language\\u002F?param=HP\",\"image\":\"\\u002F\\u002Fimages.ctfassets.net\\u002F55tpbg0qcsp4\\u002F14FO04IfJOCAMyiggaK20G\\u002Fc177a71c6c4f23af3bc596a8767abb6d\\u002Fhistorical-events7.jpg\",\"description\":\"\"},{\"title\":\"Don't Let These Commonly Confused Words Mess You Up\",\"url\":\"https:\\u002F\\u002Fwww.dictionary.com\\u002Fe\\u002Fvideo\\u002Fpore-over-or-pour-over\\u002F?param=HP\",\"image\":\"\\u002F\\u002Fimages.ctfassets.net\\u002F55tpbg0qcsp4\\u002F6al01SyEzCKeIUGIQAoUME\\u002Fdab66c59d9f1d9e28f7eb000d91ec8a3\\u002Fpore_over3.jpg\",\"description\":\"\"}]},{\"title\":\"Weird Word Facts\",\"feed\":[{\"title\":\"The Looooongest Words in English\",\"url\":\"https:\\u002F\\u002Fwww.dictionary.com\\u002Fe\\u002Fs\\u002Flongest-english-words\\u002F?param=HP\",\"image\":\"\\u002F\\u002Fimages.ctfassets.net\\u002F55tpbg0qcsp4\\u002FobI5ipgkKW6KoCu6kyggq\\u002Ff37d37e05c1f102a4e0c9988f2299028\\u002Flong_words3_1000x700.jpg\",\"description\":\"\"},{\"title\":\"When a Cat is so Cute You Want to Bite its Face? There's a Word for That.\",\"url\":\"https:\\u002F\\u002Fwww.dictionary.com\\u002Fe\\u002Fs\\u002Fweird-words-crazy-urges-weve\\u002F?param=HP\",\"image\":\"\\u002F\\u002Fimages.ctfassets.net\\u002F55tpbg0qcsp4\\u002F5JYHYEvRiEMsSe0qscGI8s\\u002Fcfe90f0ea0f85120e475a11a4cb1d164\\u002Fcute_aggression_1000x700.jpg\",\"description\":\"\"},{\"title\":\"These Words Are Good and Bad at the Same Time.\",\"url\":\"https:\\u002F\\u002Fwww.dictionary.com\\u002Fe\\u002Fs\\u002Fwords-that-have-turned\\u002F?param=HP\",\"image\":\"\\u002F\\u002Fimages.ctfassets.net\\u002F55tpbg0qcsp4\\u002F3LRtSCKiHSI0qmICYSGeKk\\u002Fdb675d80f2556955dbb8a2ecfd5e59cf\\u002Fopposites_fun23.jpg\",\"description\":\"\"}]},{\"title\":\"Pop Culture\",\"feed\":[{\"title\":\"10 Popular Acronyms That Will Make Your Life Easier\",\"url\":\"https:\\u002F\\u002Fwww.dictionary.com\\u002Fe\\u002Fs\\u002Fatw-slideshow-acronyms\\u002F?param=HP\",\"image\":\"\\u002F\\u002Fimages.ctfassets.net\\u002F55tpbg0qcsp4\\u002F61BpbsPJ1SGmGm48iUIyk0\\u002F08bbc67b43ce04c882753ef578919d31\\u002F1000x700-10acronyms_1.jpg\",\"description\":\"\"},{\"title\":\" How is Pansexuality Different from Bisexuality?\",\"url\":\"https:\\u002F\\u002Fwww.dictionary.com\\u002Fe\\u002Fgender-sexuality\\u002Fpansexual\\u002F?param=HP\",\"image\":\"\\u002F\\u002Fimages.ctfassets.net\\u002F55tpbg0qcsp4\\u002F2BwgiiZIuMUmwoQoSQU040\\u002Fda4614f78ad99814efc719aca2663a7f\\u002Fatw_pansexual_1000x700.jpg\",\"description\":\"\"},{\"title\":\"You've Heard of the Glass Ceiling, But What About the Glass Cliff?\",\"url\":\"https:\\u002F\\u002Fwww.dictionary.com\\u002Fe\\u002Fpop-culture\\u002Fglass-cliff\\u002F?param=HP\",\"image\":\"\\u002F\\u002Fimages.ctfassets.net\\u002F55tpbg0qcsp4\\u002F15kN1OIGeIM2K6GcgeCW2w\\u002F3b8c6e79fa954d11ed75fd6d0fdd907f\\u002Fatw_glass-ceiling_1000x700.jpg\",\"description\":\"\"}]}]}},\"wotdData\":{\"isFetching\":false,\"data\":{\"term\":\"bootstrap\",\"audioSourceLink\":\"https:\\u002F\\u002Fstatic.sfdict.com\\u002Faudio\\u002FB05\\u002FB0504700.mp3\",\"wotdPageLink\":\"http:\\u002F\\u002Fwww.dictionary.com\\u002Fwordoftheday\\u002F\",\"date\":\"2019-01-30\",\"pos\":\"verb\",\"pronunciation\":\"\\u003Cstrong\\u003Eboot\\u003C\\u002Fstrong\\u003E-strap\"}},\"detectedDevice\":{\"isMobile\":false},\"routing\":{\"pageName\":\"home\"},\"mup\":{\"isFetching\":false,\"data\":\"1171\"},\"detectedApplication\":{\"app\":\"dcom\"},\"listAZ\":null};</script>\n",
      "        \n",
      "        \n",
      "      </body>\n",
      "    </html>\n"
     ]
    }
   ],
   "source": [
    "import urllib\n",
    "import json\n",
    "\n",
    "url = 'https://www.dictionary.com/'\n",
    "values = {\n",
    "            \"abc\":\"XXXXX\",\n",
    "            \"efg\":\"XXXXX\"\n",
    "            }\n",
    "\n",
    "headers = {'Content-Type': 'application/json'} # 设置请求头 告诉服务器请求携带的是json格式的数据\n",
    "request = urllib.request.Request(url=url, headers=headers, data=json.dumps(values).encode(encoding='UTF8')) # 需要通过encode设置编码 要不会报错\n",
    "\n",
    "response = urllib.request.urlopen(request) # 发送请求\n",
    "\n",
    "logInfo = response.read().decode() # 读取对象 将返回的二进制数据转成string类型\n",
    "print(logInfo)"
   ]
  },
  {
   "cell_type": "markdown",
   "metadata": {},
   "source": [
    "# 作业"
   ]
  },
  {
   "cell_type": "markdown",
   "metadata": {},
   "source": [
    "1、请用户输入一个时间，输出选项所对应的现在时间，告诉用户这两个时间相隔的天数，小时数，分钟数和秒数。\n"
   ]
  },
  {
   "cell_type": "code",
   "execution_count": 1,
   "metadata": {},
   "outputs": [
    {
     "name": "stdout",
     "output_type": "stream",
     "text": [
      "请按照yyyy-mm-dd hh:mm:ss 的格式输入公式：2019-01-20 19:34:06\n",
      "输入时间： \n",
      " 2019-01-20 19:34:06\n",
      "当前时间： \n",
      " 2019-01-30 19:34:46.994565\n",
      "时间间隔10天0小时0分钟40秒\n"
     ]
    }
   ],
   "source": [
    "from datetime import datetime,timedelta\n",
    "\n",
    "dt_input = input('请按照yyyy-mm-dd hh:mm:ss 的格式输入公式：')\n",
    "dt_input = datetime.strptime(dt_input,'%Y-%m-%d %H:%M:%S')\n",
    "dt_now = datetime.now()\n",
    "time_diff = dt_now - dt_input\n",
    "\n",
    "print('输入时间：','\\n',dt_input)\n",
    "print('当前时间：','\\n',dt_now)\n",
    "print('时间间隔{}天{}小时{}分钟{}秒'.format(time_diff.days,time_diff.seconds//(60*60),time_diff.seconds%(60*60)//60,time_diff.seconds%(60*60)%60))"
   ]
  },
  {
   "cell_type": "markdown",
   "metadata": {},
   "source": [
    "2、请用户输入电话及邮箱，判断用户输入是否合法。\n"
   ]
  },
  {
   "cell_type": "code",
   "execution_count": 12,
   "metadata": {},
   "outputs": [
    {
     "name": "stdout",
     "output_type": "stream",
     "text": [
      "请输入您的电话号码：25356\n",
      "号码输入有错，请重新输入。\n",
      "请输入您的电话号码：12345678965\n",
      "格式正确！您输入的是手机，且号码为：12345678965\n",
      "请输入您的电子邮箱地址,形如 xxxxxxx@xxx.com：ccc@525com\n",
      "邮箱输入有错，请重新输入。\n",
      "请输入您的电子邮箱地址,形如 xxxxxxx@xxx.com：ccc@2523.com\n",
      "格式正确！您输入的邮箱是:ccc@2523.com\n"
     ]
    }
   ],
   "source": [
    "import re\n",
    "\n",
    "\n",
    "pattern1_1 = re.compile(r'^1\\d{10}$')\n",
    "pattern1_2 = re.compile(r'(^\\d{3,4})(\\W|_)*(\\d{7,8})$')\n",
    "while True:\n",
    "    num = input('请输入您的电话号码：')\n",
    "    if len(num) == 11 and re.match(pattern1_1,num):\n",
    "        print('格式正确！您输入的是手机，且号码为：{}'.format(num))\n",
    "        break\n",
    "    elif re.match(pattern1_2,num):\n",
    "        print('格式正确！您输入的是固定电话，且号码为：{}'.format(num))\n",
    "        break\n",
    "    else:\n",
    "        print('号码输入有错，请重新输入。')\n",
    "        continue\n",
    "\n",
    "\n",
    "pattern2 = re.compile(r'^[A-Za-z0-9_-]+@[A-Za-z0-9_-]+\\.com$')\n",
    "while True: \n",
    "    mail = input('请输入您的电子邮箱地址,形如 xxxxxxx@xxx.com：')\n",
    "    if re.match(pattern2,mail):\n",
    "        print('格式正确！您输入的邮箱是:{}'.format(mail))\n",
    "        break\n",
    "    else:\n",
    "        print('邮箱输入有错，请重新输入。')\n",
    "        continue\n"
   ]
  },
  {
   "cell_type": "markdown",
   "metadata": {},
   "source": [
    "3、对http://www.baidu.com 进行请求，并用正则化匹配图片内容。将百度图标爬取下来保存至本地。\n"
   ]
  },
  {
   "cell_type": "code",
   "execution_count": 14,
   "metadata": {},
   "outputs": [
    {
     "data": {
      "text/plain": [
       "('0.png', <http.client.HTTPMessage at 0x1a9b817c2e8>)"
      ]
     },
     "execution_count": 14,
     "metadata": {},
     "output_type": "execute_result"
    }
   ],
   "source": [
    "#对http://www.baidu.com 进行请求，并用正则化匹配图片内容。将百度图标爬取下来保存至本地\n",
    "import re\n",
    "import urllib\n",
    "\n",
    "response = urllib.request.urlopen(\"http://www.baidu.com\")\n",
    "response = response.read()\n",
    "response = response.decode('utf-8') #python3\n",
    "reg = r'src=\"(.+\\.png)\"'    #正则表达式，得到图片地址\n",
    "imgre = re.compile(reg)      #re.compile() 可以把正则表达式编译成一个正则表达式对象.   \n",
    "imglist = re.findall(imgre,response)      #re.findall() 方法读取response 中包含 imgre（正则表达式）的数据\n",
    "x = 0\n",
    "for imgurl in imglist:\n",
    "    imgurl='https:'+ imgurl\n",
    "    urllib.request.urlretrieve(imgurl,'%s.png' % x)\n",
    "    x += 1"
   ]
  }
 ],
 "metadata": {
  "kernelspec": {
   "display_name": "Python 3",
   "language": "python",
   "name": "python3"
  },
  "language_info": {
   "codemirror_mode": {
    "name": "ipython",
    "version": 3
   },
   "file_extension": ".py",
   "mimetype": "text/x-python",
   "name": "python",
   "nbconvert_exporter": "python",
   "pygments_lexer": "ipython3",
   "version": "3.6.7"
  }
 },
 "nbformat": 4,
 "nbformat_minor": 2
}
