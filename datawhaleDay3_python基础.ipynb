{
 "cells": [
  {
   "cell_type": "code",
   "execution_count": null,
   "metadata": {
    "collapsed": true
   },
   "outputs": [],
   "source": [
    "# -*- coding:utf-8 -*-"
   ]
  },
  {
   "cell_type": "markdown",
   "metadata": {
    "heading_collapsed": true
   },
   "source": [
    "# 字典：dict"
   ]
  },
  {
   "cell_type": "markdown",
   "metadata": {
    "hidden": true
   },
   "source": [
    "1、字典是另一种可变容器模型，且可存储任意类型对象。\n",
    "2、字典的每个键值(key=>value)对用冒号(:)分割，每个对之间用逗号(,)分割，整个字典包括在花括号({})中 ,格式如下所示：\n",
    "  d = {key1 : value1, key2 : value2 }\n",
    "3、键必须是唯一的，但值则不必。\n",
    "4、值可以取任何数据类型，但键必须是不可变的，如字符串，数字或元组。"
   ]
  },
  {
   "cell_type": "code",
   "execution_count": 1,
   "metadata": {
    "hidden": true
   },
   "outputs": [
    {
     "name": "stdout",
     "output_type": "stream",
     "text": [
      "{'Alice': '2341', 'Beth': '9102', 'Cecil': '3258'}\n",
      "{'abc': 456}\n",
      "{'abc': 123, 98.6: 37}\n"
     ]
    }
   ],
   "source": [
    "# 创建字典\n",
    "dict1 = {'Alice': '2341', 'Beth': '9102', 'Cecil': '3258'}\n",
    "dict2 = { 'abc': 456 }\n",
    "dict3 = { 'abc': 123, 98.6: 37 }\n",
    "\n",
    "print(dict1)\n",
    "print(dict2)\n",
    "print(dict3)"
   ]
  },
  {
   "cell_type": "code",
   "execution_count": 23,
   "metadata": {
    "hidden": true
   },
   "outputs": [
    {
     "name": "stdout",
     "output_type": "stream",
     "text": [
      "{}\n",
      "{}\n"
     ]
    }
   ],
   "source": [
    "# 创建空字典\n",
    "dict1 = {}\n",
    "dict2 = dict()\n",
    "print(dict1)\n",
    "print(dict2)"
   ]
  },
  {
   "cell_type": "markdown",
   "metadata": {
    "hidden": true
   },
   "source": [
    "访问字典里的值:\n",
    "1、把相应的键放入到方括号中;\n",
    "2、如果用字典里没有的键访问数据，会输出错误。"
   ]
  },
  {
   "cell_type": "code",
   "execution_count": 2,
   "metadata": {
    "hidden": true
   },
   "outputs": [
    {
     "name": "stdout",
     "output_type": "stream",
     "text": [
      "dict1['Name']:  Runoob\n",
      "dict1['Age']:  7\n"
     ]
    }
   ],
   "source": [
    "# 用[键] 访问字典里的值\n",
    "dict1 = {'Name': 'Runoob', 'Age': 7, 'Class': 'First'}\n",
    " \n",
    "print (\"dict1['Name']: \", dict1['Name'])\n",
    "print (\"dict1['Age']: \", dict1['Age'])"
   ]
  },
  {
   "cell_type": "code",
   "execution_count": 3,
   "metadata": {
    "hidden": true
   },
   "outputs": [
    {
     "ename": "KeyError",
     "evalue": "'Alice'",
     "output_type": "error",
     "traceback": [
      "\u001b[1;31m---------------------------------------------------------------------------\u001b[0m",
      "\u001b[1;31mKeyError\u001b[0m                                  Traceback (most recent call last)",
      "\u001b[1;32m<ipython-input-3-e4e762e65981>\u001b[0m in \u001b[0;36m<module>\u001b[1;34m()\u001b[0m\n\u001b[0;32m      2\u001b[0m \u001b[0mdict1\u001b[0m \u001b[1;33m=\u001b[0m \u001b[1;33m{\u001b[0m\u001b[1;34m'Name'\u001b[0m\u001b[1;33m:\u001b[0m \u001b[1;34m'Runoob'\u001b[0m\u001b[1;33m,\u001b[0m \u001b[1;34m'Age'\u001b[0m\u001b[1;33m:\u001b[0m \u001b[1;36m7\u001b[0m\u001b[1;33m,\u001b[0m \u001b[1;34m'Class'\u001b[0m\u001b[1;33m:\u001b[0m \u001b[1;34m'First'\u001b[0m\u001b[1;33m}\u001b[0m\u001b[1;33m;\u001b[0m\u001b[1;33m\u001b[0m\u001b[1;33m\u001b[0m\u001b[0m\n\u001b[0;32m      3\u001b[0m \u001b[1;33m\u001b[0m\u001b[0m\n\u001b[1;32m----> 4\u001b[1;33m \u001b[0mprint\u001b[0m \u001b[1;33m(\u001b[0m\u001b[1;34m\"dict1['Alice']: \"\u001b[0m\u001b[1;33m,\u001b[0m \u001b[0mdict1\u001b[0m\u001b[1;33m[\u001b[0m\u001b[1;34m'Alice'\u001b[0m\u001b[1;33m]\u001b[0m\u001b[1;33m)\u001b[0m\u001b[1;33m\u001b[0m\u001b[1;33m\u001b[0m\u001b[0m\n\u001b[0m",
      "\u001b[1;31mKeyError\u001b[0m: 'Alice'"
     ]
    }
   ],
   "source": [
    "# 字典里无对应键，会报错： KeyError: XXX\n",
    "dict1 = {'Name': 'Runoob', 'Age': 7, 'Class': 'First'}\n",
    " \n",
    "print (\"dict1['Alice']: \", dict1['Alice'])  "
   ]
  },
  {
   "cell_type": "markdown",
   "metadata": {
    "hidden": true
   },
   "source": [
    "修改字典：向字典添加新内容的方法是增加新的键/值对，修改或删除已有键/值对。"
   ]
  },
  {
   "cell_type": "code",
   "execution_count": 4,
   "metadata": {
    "hidden": true
   },
   "outputs": [
    {
     "name": "stdout",
     "output_type": "stream",
     "text": [
      "更新前dict： {'Name': 'Runoob', 'Age': 7, 'Class': 'First'}\n",
      "dict1['Age']:  8\n",
      "dict1['School']:  菜鸟教程\n",
      "更新后dict： {'Name': 'Runoob', 'Age': 8, 'Class': 'First', 'School': '菜鸟教程'}\n"
     ]
    }
   ],
   "source": [
    "# 修改字典\n",
    "dict1 = {'Name': 'Runoob', 'Age': 7, 'Class': 'First'}\n",
    "print('更新前dict：',dict1)\n",
    " \n",
    "dict1['Age'] = 8              # 更新 Age\n",
    "dict1['School'] = \"菜鸟教程\"  # 添加信息\n",
    "\n",
    "print(\"dict1['Age']: \", dict1['Age'])\n",
    "print(\"dict1['School']: \", dict1['School'])\n",
    "print('更新后dict：',dict1)"
   ]
  },
  {
   "cell_type": "markdown",
   "metadata": {
    "hidden": true
   },
   "source": [
    "删除字典元素：\n",
    "1、能删单一的元素，也能清空字典。\n",
    "2、显式删除一个字典用del命令。"
   ]
  },
  {
   "cell_type": "code",
   "execution_count": 5,
   "metadata": {
    "hidden": true
   },
   "outputs": [
    {
     "name": "stdout",
     "output_type": "stream",
     "text": [
      "删除前: {'Name': 'Runoob', 'Age': 7, 'Class': 'First'}\n",
      "删除后： {'Age': 7, 'Class': 'First'}\n"
     ]
    }
   ],
   "source": [
    "# 删除字典单一元素\n",
    "dict1 = {'Name': 'Runoob', 'Age': 7, 'Class': 'First'}\n",
    "print('删除前:',dict1)\n",
    "\n",
    "del dict1['Name']  # 删除键 'Name'\n",
    "print('删除后：',dict1)"
   ]
  },
  {
   "cell_type": "code",
   "execution_count": 6,
   "metadata": {
    "hidden": true
   },
   "outputs": [
    {
     "name": "stdout",
     "output_type": "stream",
     "text": [
      "{}\n"
     ]
    }
   ],
   "source": [
    "# 清空字典\n",
    "dict1.clear()       # 清空字典\n",
    "print(dict1)  # 字典元素清空，但字典仍存在"
   ]
  },
  {
   "cell_type": "code",
   "execution_count": 7,
   "metadata": {
    "hidden": true
   },
   "outputs": [
    {
     "ename": "NameError",
     "evalue": "name 'dict1' is not defined",
     "output_type": "error",
     "traceback": [
      "\u001b[1;31m---------------------------------------------------------------------------\u001b[0m",
      "\u001b[1;31mNameError\u001b[0m                                 Traceback (most recent call last)",
      "\u001b[1;32m<ipython-input-7-c01d8a2ac57e>\u001b[0m in \u001b[0;36m<module>\u001b[1;34m()\u001b[0m\n\u001b[0;32m      1\u001b[0m \u001b[1;31m# 显式删除字典\u001b[0m\u001b[1;33m\u001b[0m\u001b[1;33m\u001b[0m\u001b[1;33m\u001b[0m\u001b[0m\n\u001b[0;32m      2\u001b[0m \u001b[1;32mdel\u001b[0m \u001b[0mdict1\u001b[0m          \u001b[1;31m# 删除字典\u001b[0m\u001b[1;33m\u001b[0m\u001b[1;33m\u001b[0m\u001b[0m\n\u001b[1;32m----> 3\u001b[1;33m \u001b[0mprint\u001b[0m\u001b[1;33m(\u001b[0m\u001b[0mdict1\u001b[0m\u001b[1;33m)\u001b[0m\u001b[1;33m\u001b[0m\u001b[1;33m\u001b[0m\u001b[0m\n\u001b[0m",
      "\u001b[1;31mNameError\u001b[0m: name 'dict1' is not defined"
     ]
    }
   ],
   "source": [
    "# 显式删除字典\n",
    "del dict1          # 删除字典\n",
    "print(dict1)   # 字典已被删除，会报错：NameError: name 'dict1' is not defined   区别于clear()方法。"
   ]
  },
  {
   "cell_type": "markdown",
   "metadata": {
    "hidden": true
   },
   "source": [
    "字典键的特性：字典值可以是任何的 python 对象，既可以是标准的对象，也可以是用户定义的，但键不行。\n",
    "两个重要的点要记住："
   ]
  },
  {
   "cell_type": "markdown",
   "metadata": {
    "hidden": true
   },
   "source": [
    "1、不允许同一个键出现两次。创建时如果同一个键被赋值两次，后一个值会被记住。"
   ]
  },
  {
   "cell_type": "code",
   "execution_count": 8,
   "metadata": {
    "hidden": true
   },
   "outputs": [
    {
     "name": "stdout",
     "output_type": "stream",
     "text": [
      "dict1['Name']: 小菜鸟\n"
     ]
    }
   ],
   "source": [
    "dict1 = {'Name': 'Runoob', 'Age': 7, 'Name': '小菜鸟'}\n",
    "print(\"dict1['Name']:\",dict1['Name'])"
   ]
  },
  {
   "cell_type": "markdown",
   "metadata": {
    "collapsed": true,
    "hidden": true
   },
   "source": [
    "2、键必须不可变，所以可以用数字，字符串或元组充当，而用列表就不行。"
   ]
  },
  {
   "cell_type": "code",
   "execution_count": 9,
   "metadata": {
    "hidden": true
   },
   "outputs": [
    {
     "ename": "TypeError",
     "evalue": "unhashable type: 'list'",
     "output_type": "error",
     "traceback": [
      "\u001b[1;31m---------------------------------------------------------------------------\u001b[0m",
      "\u001b[1;31mTypeError\u001b[0m                                 Traceback (most recent call last)",
      "\u001b[1;32m<ipython-input-9-5a8eb8991c09>\u001b[0m in \u001b[0;36m<module>\u001b[1;34m()\u001b[0m\n\u001b[1;32m----> 1\u001b[1;33m \u001b[0mdict1\u001b[0m \u001b[1;33m=\u001b[0m \u001b[1;33m{\u001b[0m\u001b[1;33m[\u001b[0m\u001b[1;34m'Name'\u001b[0m\u001b[1;33m]\u001b[0m\u001b[1;33m:\u001b[0m \u001b[1;34m'Runoob'\u001b[0m\u001b[1;33m,\u001b[0m \u001b[1;34m'Age'\u001b[0m\u001b[1;33m:\u001b[0m \u001b[1;36m7\u001b[0m\u001b[1;33m}\u001b[0m\u001b[1;33m\u001b[0m\u001b[1;33m\u001b[0m\u001b[0m\n\u001b[0m\u001b[0;32m      2\u001b[0m \u001b[0mprint\u001b[0m\u001b[1;33m(\u001b[0m\u001b[1;34m\"dict1['Name']: \"\u001b[0m\u001b[1;33m,\u001b[0m \u001b[0mdict1\u001b[0m\u001b[1;33m[\u001b[0m\u001b[1;34m'Name'\u001b[0m\u001b[1;33m]\u001b[0m\u001b[1;33m)\u001b[0m\u001b[1;33m\u001b[0m\u001b[1;33m\u001b[0m\u001b[0m\n",
      "\u001b[1;31mTypeError\u001b[0m: unhashable type: 'list'"
     ]
    }
   ],
   "source": [
    "dict1 = {['Name']: 'Runoob', 'Age': 7}\n",
    "print(\"dict1['Name']: \", dict1['Name'])  # TypeError: unhashable type: 'list'"
   ]
  },
  {
   "attachments": {},
   "cell_type": "markdown",
   "metadata": {
    "hidden": true
   },
   "source": [
    "### Python字典包含了以下内置函数：\n",
    "\n",
    "1、len(dict)\n",
    "计算字典元素个数，即键的总数。\n",
    "\n",
    "2、str(dict)\n",
    "输出字典，以可打印的字符串表示。\n",
    "\n",
    "3、type(variable)\n",
    "返回输入的变量类型，如果变量是字典就返回字典类型。"
   ]
  },
  {
   "cell_type": "code",
   "execution_count": 10,
   "metadata": {
    "hidden": true
   },
   "outputs": [
    {
     "name": "stdout",
     "output_type": "stream",
     "text": [
      "3 <class 'dict'>\n",
      "{'Name': 'Runoob', 'Age': 7, 'Class': 'First'} <class 'str'>\n"
     ]
    }
   ],
   "source": [
    "dict1 = {'Name': 'Runoob', 'Age': 7, 'Class': 'First'}\n",
    "\n",
    "print(len(dict1),type(dict1))\n",
    "print(str(dict1),type(str(dict1)))"
   ]
  },
  {
   "attachments": {},
   "cell_type": "markdown",
   "metadata": {
    "hidden": true
   },
   "source": [
    "### Python字典包含了以下内置方法：\n",
    "\n",
    "1、\tradiansdict.clear()\n",
    "删除字典内所有元素\n",
    "\n",
    "2、\tradiansdict.copy()\n",
    "返回一个字典的浅复制\n",
    "\n",
    "3、\tradiansdict.fromkeys()\n",
    "创建一个新字典，以序列seq中元素做字典的键，val为字典所有键对应的初始值\n",
    "\n",
    "4、radiansdict.get(key, default=None)\n",
    "返回指定键的值，如果值不在字典中返回default值\n",
    "\n",
    "5、key in dict\n",
    "如果键在字典dict里返回true，否则返回false\n",
    "\n",
    "6、\tradiansdict.items()\n",
    "以列表返回可遍历的(键, 值) 元组数组\n",
    "\n",
    "7、radiansdict.keys()\n",
    "返回一个迭代器，可以使用 list() 来转换为列表\n",
    "\n",
    "8、radiansdict.setdefault(key, default=None)\n",
    "和get()类似, 但如果键不存在于字典中，将会添加键并将值设为default\n",
    "\n",
    "9、radiansdict.update(dict2)\n",
    "把字典dict2的键/值对更新到dict里\n",
    "\n",
    "10、\tradiansdict.values()\n",
    "返回一个迭代器，可以使用 list() 来转换为列表\n",
    "\n",
    "11、pop(key[,default])\n",
    "删除字典给定键 key 所对应的值，返回值为被删除的值。key值必须给出。 否则，返回default值。\n",
    "\n",
    "12、popitem()\n",
    "随机返回并删除字典中的一对键和值(一般删除末尾对)。"
   ]
  },
  {
   "cell_type": "code",
   "execution_count": 11,
   "metadata": {
    "hidden": true
   },
   "outputs": [
    {
     "name": "stdout",
     "output_type": "stream",
     "text": [
      "{}\n",
      "{'Name': 'Runoob', 'Age': 7, 'Class': 'First'} 1976690179384\n",
      "{'Name': 'Runoob', 'Age': 7, 'Class': 'First'} 1976690178304\n"
     ]
    }
   ],
   "source": [
    "dict1.clear()  # 清空字典\n",
    "print(dict1)\n",
    "\n",
    "dict1 = {'Name': 'Runoob', 'Age': 7, 'Class': 'First'}\n",
    "dict2 = dict1.copy()  # 字典的浅复制，内存地址会不同\n",
    "print(dict1,id(dict1))\n",
    "print(dict2,id(dict2))"
   ]
  },
  {
   "cell_type": "code",
   "execution_count": 12,
   "metadata": {
    "hidden": true
   },
   "outputs": [
    {
     "name": "stdout",
     "output_type": "stream",
     "text": [
      "{'name': None, 'age': None, 'class': None}\n"
     ]
    }
   ],
   "source": [
    "# 创建一个新字典，以序列seq中元素做字典的键，val为字典所有键对应的初始值\n",
    "dict3 = dict1.fromkeys(['name','age','class'])  # dict1.fromkeys(iterable, value=None, /)\n",
    "print(dict3)"
   ]
  },
  {
   "cell_type": "code",
   "execution_count": 13,
   "metadata": {
    "hidden": true
   },
   "outputs": [
    {
     "name": "stdout",
     "output_type": "stream",
     "text": [
      "7\n",
      "None\n",
      "BD\n"
     ]
    }
   ],
   "source": [
    "# get() 和setdefault() 方法\n",
    "print(dict1.get('Age'))  #  D.get(k[,d]) -> D[k] if k in D, else d.  d defaults to None.\n",
    "print(dict1.get('School'))  # None\n",
    "\n",
    "print(dict1.setdefault('School','BD'))  #  D.setdefault(k[,d]) -> D.get(k,d), also set D[k]=d if k not in D  输出结果：BD"
   ]
  },
  {
   "cell_type": "code",
   "execution_count": 14,
   "metadata": {
    "hidden": true
   },
   "outputs": [
    {
     "name": "stdout",
     "output_type": "stream",
     "text": [
      "{'Name': 'Runoob', 'Age': 7, 'Class': 'First', 'School': 'BD'}\n",
      "True\n",
      "dict_items([('Name', 'Runoob'), ('Age', 7), ('Class', 'First'), ('School', 'BD')])\n",
      "dict_keys(['Name', 'Age', 'Class', 'School'])\n",
      "dict_values(['Runoob', 7, 'First', 'BD'])\n"
     ]
    }
   ],
   "source": [
    "print(dict1)\n",
    "\n",
    "print('School' in dict1)  # 如果键在字典dict里返回true，否则返回false\n",
    "\n",
    "print(dict1.items())  # 以列表返回可遍历的(键, 值) 元组数组\n",
    "print(dict1.keys())  # 返回一个由键组成的迭代器，通过list（）输出为列表\n",
    "print(dict1.values())  # 返回一个由字典的值组成的迭代器，通过list（）输出为列表"
   ]
  },
  {
   "cell_type": "code",
   "execution_count": 18,
   "metadata": {
    "hidden": true
   },
   "outputs": [
    {
     "data": {
      "text/plain": [
       "dict_keys"
      ]
     },
     "execution_count": 18,
     "metadata": {},
     "output_type": "execute_result"
    },
    {
     "data": {
      "text/plain": [
       "dict_values"
      ]
     },
     "execution_count": 18,
     "metadata": {},
     "output_type": "execute_result"
    },
    {
     "name": "stdout",
     "output_type": "stream",
     "text": [
      "['Name', 'Age', 'Class', 'School'] \n",
      " ['Runoob', 7, 'First', 'BD']\n"
     ]
    }
   ],
   "source": [
    "# 通过list（）对keys（）和values（）返回的迭代器 转换为列表输出\n",
    "type(dict1.keys())\n",
    "type(dict1.values())\n",
    "\n",
    "print(list(dict1.keys()),'\\n',list(dict1.values()))"
   ]
  },
  {
   "cell_type": "code",
   "execution_count": 19,
   "metadata": {
    "hidden": true
   },
   "outputs": [
    {
     "name": "stdout",
     "output_type": "stream",
     "text": [
      "None\n",
      "{'name': 'Run', 'age': 5, 'class': 'first', 'school': 'Young'}\n"
     ]
    }
   ],
   "source": [
    "dict1 = {'name':'Run','age':5,'class':'first','school':'Young'}\n",
    "dict2 = {'name':'Runoob','age':7,'class':'first','school':'BD'}\n",
    "\n",
    "print(dict2.update(dict1))  # 无返回值，直接就地修改\n",
    "print(dict2)"
   ]
  },
  {
   "cell_type": "code",
   "execution_count": 21,
   "metadata": {
    "hidden": true
   },
   "outputs": [
    {
     "name": "stdout",
     "output_type": "stream",
     "text": [
      "Young\n",
      "{'name': 'Run', 'age': 5, 'class': 'first'}\n"
     ]
    }
   ],
   "source": [
    "# pop() 删除\n",
    "print(dict2.pop('school'))  # 删除字典对应键的值,直接就地修改\n",
    "print(dict2)"
   ]
  },
  {
   "cell_type": "code",
   "execution_count": 22,
   "metadata": {
    "hidden": true
   },
   "outputs": [
    {
     "name": "stdout",
     "output_type": "stream",
     "text": [
      "{'name': 'Run', 'age': 5, 'class': 'first', 'school': 'Young'}\n",
      "('school', 'Young')\n",
      "{'name': 'Run', 'age': 5, 'class': 'first'}\n"
     ]
    }
   ],
   "source": [
    "# popitem()：随机返回并删除字典中的一对键和值(一般删除末尾对)。\n",
    "print(dict1)\n",
    "\n",
    "print(dict1.popitem())  # (键，值)  元组\n",
    "print(dict1)"
   ]
  },
  {
   "cell_type": "markdown",
   "metadata": {
    "heading_collapsed": true
   },
   "source": [
    "# 集合：set"
   ]
  },
  {
   "cell_type": "markdown",
   "metadata": {
    "hidden": true
   },
   "source": [
    "1、集合（set）是一个无序的不重复元素序列。\n",
    "2、可以使用大括号 { } 或者 set() 函数创建集合，注意：创建一个空集合必须用 set() 而不是 { }，因为 { } 是用来创建一个空字典。\n",
    "创建格式：\n",
    "    parame = {value01,value02,...}\n",
    "或者\n",
    "    set(value)"
   ]
  },
  {
   "cell_type": "code",
   "execution_count": 24,
   "metadata": {
    "hidden": true
   },
   "outputs": [
    {
     "name": "stdout",
     "output_type": "stream",
     "text": [
      "<class 'set'> {'pear', 'banana', 'apple', 'pine_apple', 'orange'}\n",
      "{'banana'}\n",
      "set()\n"
     ]
    }
   ],
   "source": [
    "# 创建集合(无序排列)\n",
    "set1 = {'banana','apple','pear','orange','pine_apple'}\n",
    "print(type(set1),set1)\n",
    "\n",
    "set2 = {'banana'}  # 单个元素\n",
    "set3 = set()  # 空集合\n",
    "print(set2)\n",
    "print(set3)"
   ]
  },
  {
   "cell_type": "code",
   "execution_count": 25,
   "metadata": {
    "hidden": true
   },
   "outputs": [
    {
     "name": "stdout",
     "output_type": "stream",
     "text": [
      "<class 'set'> {'orange', 'pear', 'banana', 'apple'}\n"
     ]
    }
   ],
   "source": [
    "# 集合去重：无序的不重复元素序列\n",
    "basket = {'apple', 'orange', 'apple', 'pear', 'orange', 'banana'}\n",
    "print(type(basket),basket)  # 这里演示的是去重功能  集合里重复的apple\\orange去重后只保留一个"
   ]
  },
  {
   "cell_type": "markdown",
   "metadata": {
    "hidden": true
   },
   "source": [
    "集合的基本操作:"
   ]
  },
  {
   "cell_type": "markdown",
   "metadata": {
    "hidden": true
   },
   "source": [
    "1、添加元素\n",
    "\n",
    "语法格式如下：\n",
    "    s.add( x )\n",
    "将元素 x 添加到集合 s 中，如果元素已存在，则不进行任何操作。\n",
    "\n",
    "还有一个方法，也可以添加元素，且参数可以是列表，元组，字典等，语法格式如下：\n",
    "    s.update( x )\n",
    "x 可以有多个，用逗号分开。"
   ]
  },
  {
   "cell_type": "code",
   "execution_count": 26,
   "metadata": {
    "hidden": true
   },
   "outputs": [
    {
     "name": "stdout",
     "output_type": "stream",
     "text": [
      "set1: {'pear', 'banana', 'apple'}\n",
      "{'orange', 'pear', 'banana', 'apple'}\n",
      "{'orange', 'pear', 'banana', 'apple'}\n",
      "{1, 2, 3, '_', 'pear', 'i', 'l', 4, 5, 6, 'banana', 'apple', 'n', 'orange', 'e', 'a', 'p'}\n"
     ]
    }
   ],
   "source": [
    "set1 = {'banana','apple','pear'}\n",
    "print('set1:',set1)\n",
    "\n",
    "# 添加不存在的元素\n",
    "set1.add('orange')\n",
    "print(set1)\n",
    "\n",
    "# 添加已存在的元素\n",
    "set1.add('apple')\n",
    "print(set1)\n",
    "\n",
    "# update()\n",
    "set1.update('pine_apple')  # 字符串的每个字符都被分解当成set的一个元素\n",
    "set1.update([1,2])  \n",
    "set1.update([3,4],[5,6])\n",
    "print(set1)  # {1, 2, 3, '_', 'pear', 'i', 'l', 4, 5, 6, 'banana', 'apple', 'n', 'orange', 'e', 'a', 'p'}"
   ]
  },
  {
   "cell_type": "code",
   "execution_count": 27,
   "metadata": {
    "hidden": true
   },
   "outputs": [
    {
     "name": "stdout",
     "output_type": "stream",
     "text": [
      "{1, 2, 3, '_', 'pear', 'i', 'l', 4, 5, 6, 'name', 'banana', 'apple', 'n', 'orange', 'e', 'a', 'p'}\n"
     ]
    }
   ],
   "source": [
    "set1.update({'name':'Run'})  # 字典的key被当成set的一个元素，value不入set\n",
    "print(set1)  # {1, 2, 3, '_', 'pear', 'i', 'l', 4, 5, 6, 'name', 'banana', 'apple', 'n', 'orange', 'e', 'a', 'p'}"
   ]
  },
  {
   "cell_type": "markdown",
   "metadata": {
    "hidden": true
   },
   "source": [
    "2、移除元素\n",
    "\n",
    "语法格式如下：\n",
    "    s.remove( x )\n",
    "将元素 x 从集合 s 中移除，如果元素不存在，则会发生错误。\n",
    "\n",
    "还有一个方法也是移除集合中的元素，且如果元素不存在，不会发生错误。格式如下所示：\n",
    "    s.discard( x )\n",
    "\n",
    "我们也可以设置随机删除集合中的一个元素，语法格式如下：\n",
    "    s.pop() "
   ]
  },
  {
   "cell_type": "code",
   "execution_count": 29,
   "metadata": {
    "hidden": true
   },
   "outputs": [
    {
     "name": "stdout",
     "output_type": "stream",
     "text": [
      "{'Google', 'Runoob'}\n",
      "{'Google', 'Runoob'}\n"
     ]
    }
   ],
   "source": [
    "thisset = set((\"Google\", \"Runoob\", \"Taobao\"))\n",
    "\n",
    "# 移除存在的元素\n",
    "thisset.remove(\"Taobao\")\n",
    "print(thisset)\n",
    "\n",
    "# 移除不存在的元素,会报错：KeyError: XXX\n",
    "# thisset.remove('Wechat')  # KeyError: 'Wechat'\n",
    "# print(thisset)\n",
    "\n",
    "# 移除不存在的元素,不会报错\n",
    "thisset.discard('Wechat')\n",
    "print(thisset)\n"
   ]
  },
  {
   "cell_type": "code",
   "execution_count": 31,
   "metadata": {
    "hidden": true
   },
   "outputs": [
    {
     "data": {
      "text/plain": [
       "'Taobao'"
      ]
     },
     "execution_count": 31,
     "metadata": {},
     "output_type": "execute_result"
    },
    {
     "name": "stdout",
     "output_type": "stream",
     "text": [
      "{'Google', 'Wechat', 'Runoob'}\n"
     ]
    }
   ],
   "source": [
    "# Remove and return an arbitrary set element.\n",
    "thisset = set((\"Google\", \"Runoob\", \"Taobao\",\"Wechat\"))\n",
    "thisset.pop()  # 删除set的任一一个元素\n",
    "print(thisset)"
   ]
  },
  {
   "cell_type": "markdown",
   "metadata": {
    "hidden": true
   },
   "source": [
    "3、计算集合元素个数\n",
    "语法格式如下：\n",
    "    len(s)\n",
    "计算集合 s 元素个数。"
   ]
  },
  {
   "cell_type": "code",
   "execution_count": 32,
   "metadata": {
    "hidden": true
   },
   "outputs": [
    {
     "name": "stdout",
     "output_type": "stream",
     "text": [
      "3\n"
     ]
    }
   ],
   "source": [
    "thisset = set((\"Google\", \"Runoob\", \"Taobao\"))\n",
    "print(len(thisset))"
   ]
  },
  {
   "cell_type": "markdown",
   "metadata": {
    "hidden": true
   },
   "source": [
    "4、清空集合\n",
    "语法格式如下：\n",
    "    s.clear()\n",
    "清空集合 s。"
   ]
  },
  {
   "cell_type": "code",
   "execution_count": 33,
   "metadata": {
    "hidden": true
   },
   "outputs": [
    {
     "name": "stdout",
     "output_type": "stream",
     "text": [
      "{'Taobao', 'Google', 'Runoob'}\n",
      "set()\n"
     ]
    }
   ],
   "source": [
    "thisset = set((\"Google\", \"Runoob\", \"Taobao\"))\n",
    "print(thisset)\n",
    "\n",
    "thisset.clear()  # 清空集合，集合仍存在\n",
    "print(thisset)"
   ]
  },
  {
   "cell_type": "markdown",
   "metadata": {
    "hidden": true
   },
   "source": [
    "4、判断元素是否在集合中存在\n",
    "语法格式如下：\n",
    "    x in s\n",
    "判断元素 x 是否在集合 s 中，存在返回 True，不存在返回 False。"
   ]
  },
  {
   "cell_type": "code",
   "execution_count": 34,
   "metadata": {
    "hidden": true
   },
   "outputs": [
    {
     "name": "stdout",
     "output_type": "stream",
     "text": [
      "True\n",
      "False\n"
     ]
    }
   ],
   "source": [
    "thisset = set((\"Google\", \"Runoob\", \"Taobao\"))\n",
    "\n",
    "print(\"Runoob\" in thisset)\n",
    "print(\"Wechat\" in thisset)"
   ]
  },
  {
   "cell_type": "markdown",
   "metadata": {
    "hidden": true
   },
   "source": [
    "5、两个集合间的运算"
   ]
  },
  {
   "cell_type": "code",
   "execution_count": 37,
   "metadata": {
    "hidden": true
   },
   "outputs": [
    {
     "name": "stdout",
     "output_type": "stream",
     "text": [
      "a: {'b', 'r', 'd', 'a', 'c'}\n",
      "b: {'m', 'l', 'z', 'a', 'c'}\n",
      "{'r', 'd', 'b'}\n",
      "{'m', 'l', 'b', 'z', 'r', 'd', 'a', 'c'}\n",
      "{'a', 'c'}\n",
      "{'b', 'r', 'm', 'l', 'd', 'z'}\n"
     ]
    }
   ],
   "source": [
    "a = set('abracadabra')\n",
    "b = set('alacazam')\n",
    "print('a:',a)\n",
    "print('b:',b)\n",
    "\n",
    "print(a - b)  # 集合a中包含而集合b中不包含的元素\n",
    "print(a | b)   # 集合a或b中包含的所有元素\n",
    "print(a & b)   # 集合a和b中都包含了的元素\n",
    "print(a ^ b)   # 不同时包含于a和b的元素"
   ]
  },
  {
   "cell_type": "markdown",
   "metadata": {
    "hidden": true
   },
   "source": [
    "6、列表和集合推导式:类似列表推导式，同样集合支持集合推导式(Set comprehension)"
   ]
  },
  {
   "cell_type": "code",
   "execution_count": 38,
   "metadata": {
    "hidden": true
   },
   "outputs": [
    {
     "name": "stdout",
     "output_type": "stream",
     "text": [
      "{'r', 'd'}\n"
     ]
    }
   ],
   "source": [
    "a = {x for x in 'abracadabra' if x not in 'abc'}\n",
    "print(a)"
   ]
  },
  {
   "attachments": {},
   "cell_type": "markdown",
   "metadata": {
    "hidden": true
   },
   "source": [
    "### 集合内置方法完整列表\n",
    "\n",
    "add()\t为集合添加元素\n",
    "\n",
    "clear()\t移除集合中的所有元素\n",
    "\n",
    "copy()\t拷贝一个集合\n",
    "\n",
    "difference()\t返回多个集合的差集\n",
    "\n",
    "difference_update()\t移除集合中的元素，该元素在指定的集合也存在。\n",
    "\n",
    "discard()\t删除集合中指定的元素\n",
    "\n",
    "intersection()\t返回集合的交集\n",
    "\n",
    "intersection_update()\t删除集合中的元素，该元素在指定的集合中不存在。\n",
    "\n",
    "isdisjoint()\t判断两个集合是否包含相同的元素，如果没有返回 True，否则返回 False。\n",
    "\n",
    "issubset()\t判断指定集合是否为该方法参数集合的子集。\n",
    "\n",
    "issuperset()\t判断该方法的参数集合是否为指定集合的子集\n",
    "\n",
    "pop()\t随机移除元素\n",
    "\n",
    "remove()\t移除指定元素\n",
    "\n",
    "symmetric_difference()\t返回两个集合中不重复的元素集合。\n",
    "\n",
    "symmetric_difference_update()\t移除当前集合中在另外一个指定集合相同的元素，并将另外一个指定集合中不同的元素插入到当前集合中。\n",
    "\n",
    "union()\t返回两个集合的并集\n",
    "\n",
    "update()\t给集合添加元素"
   ]
  },
  {
   "cell_type": "code",
   "execution_count": null,
   "metadata": {
    "collapsed": true,
    "hidden": true
   },
   "outputs": [],
   "source": [
    "set1 = {2,3,0,1,2,4}\n",
    "print(set1)\n",
    "\n",
    "set2 = set1.copy()  # 浅复制\n",
    "print('id(set1)=',id(set1))\n",
    "print('id(set2)=',id(set2))\n",
    "\n",
    "set2 = set(3,4,6,8,0,8)\n",
    "print(set2)"
   ]
  },
  {
   "cell_type": "code",
   "execution_count": 42,
   "metadata": {
    "hidden": true
   },
   "outputs": [
    {
     "name": "stdout",
     "output_type": "stream",
     "text": [
      "{0, 1, 2, 3, 4} {0, 3, 4, 6, 8}\n",
      "{1, 2}\n",
      "使用difference后的set1= {0, 1, 2, 3, 4}\n",
      "使用difference_update前的set_tmp= {0, 1, 2, 3, 4}\n",
      "None\n",
      "使用difference_update后的set_tmp= {1, 2}\n",
      "{0, 3, 4}\n",
      "None\n",
      "{0, 1, 2, 3, 4, 6, 8}\n"
     ]
    }
   ],
   "source": [
    "set1 = {2,3,0,1,2,4}\n",
    "set2 = {3,4,6,8,0,8}  # 一开始用set(3,4,6,8,0,8)报错：TypeError: set expected at most 1 arguments, got 6 ;\n",
    "                    # 用set（346808）报错，set的参数必须是迭代器，int非迭代器，转成str后集合的元素的数据类型是集合，无法进行下一步操作。\n",
    "print(set1,set2)\n",
    "\n",
    "# difference() vs difference_update() 区别： 前者是返回一个新集合，后者是直接就地修改，原始集合已改变\n",
    "print(set1.difference(set2))  # 返回集合的差集\n",
    "print('使用difference后的set1=',set1)\n",
    "set_tmp = set1.copy()\n",
    "print('使用difference_update前的set_tmp=',set_tmp)\n",
    "print(set_tmp.difference_update(set2))  # 无返回值，在原始的集合上移除重叠的元素。\n",
    "print('使用difference_update后的set_tmp=',set_tmp)\n",
    "\n",
    "# intersection() vs intersection_update()区别：前者是返回一个新集合，后者是直接就地修改，原始集合已修改。\n",
    "print(set1.intersection(set2))  # 返回集合的交集\n",
    "set_tmp = set1.copy()\n",
    "print(set_tmp.intersection_update(set2))  # 无返回值，在原始的集合上移除不重叠的元素。\n",
    "\n",
    "# union():返回集合的并集\n",
    "print(set1.union(set2))"
   ]
  },
  {
   "cell_type": "code",
   "execution_count": 44,
   "metadata": {
    "hidden": true
   },
   "outputs": [
    {
     "name": "stdout",
     "output_type": "stream",
     "text": [
      "{0, 1, 2, 3, 4} {0, 3, 4, 6, 8}\n",
      "{1, 2, 6, 8}\n",
      "None\n",
      "{1, 2, 6, 8}\n"
     ]
    }
   ],
   "source": [
    "# symmetric_difference()：返回两个集合中不重复的元素集合，即会移除两个集合中都存在的元素。\n",
    "print(set1,set2)\n",
    "print(set1.symmetric_difference(set2))  # {1,2,6,8}\n",
    "\n",
    "# symmetric_difference_update():移除当前集合中在另外一个指定集合相同的元素，并将另外一个指定集合中不同的元素插入到当前集合中。 无返回值，直接就地修改\n",
    "print(set1.symmetric_difference_update(set2))  # 无返回值，在原始的集合上移除重叠的元素。\n",
    "print(set1)  # {1, 2, 6, 8}"
   ]
  },
  {
   "cell_type": "code",
   "execution_count": 46,
   "metadata": {
    "hidden": true
   },
   "outputs": [
    {
     "name": "stdout",
     "output_type": "stream",
     "text": [
      "False\n",
      "True\n"
     ]
    }
   ],
   "source": [
    "# isdisjoint() 方法用于判断两个集合是否包含相同的元素，如果没有返回 True，否则返回 False。\n",
    "print(set1.isdisjoint(set2))  # 有共同的元素，故返回False\n",
    "\n",
    "x = {\"apple\", \"banana\", \"cherry\"}\n",
    "y = {\"google\", \"runoob\", \"facebook\"}\n",
    "z = x.isdisjoint(y) \n",
    "print(z)  # 无共同的元素，故返回True"
   ]
  },
  {
   "cell_type": "code",
   "execution_count": 47,
   "metadata": {
    "hidden": true
   },
   "outputs": [
    {
     "name": "stdout",
     "output_type": "stream",
     "text": [
      "True\n",
      "True\n"
     ]
    }
   ],
   "source": [
    "# issubset() 方法用于判断集合的所有元素是否都包含在指定集合中，如果是则返回 True，否则返回 False。\n",
    "# 判断集合 x 的所有元素是否都包含在集合 y 中：\n",
    "x = {\"a\", \"b\", \"c\"}\n",
    "y = {\"f\", \"e\", \"d\", \"c\", \"b\", \"a\"}\n",
    "z = x.issubset(y)\n",
    "print(z)\n",
    "\n",
    "# issuperset() 方法用于判断指定集合的所有元素是否都包含在原始的集合中，如果是则返回 True，否则返回 False\n",
    "# 判断集合 y 的所有元素是否都包含在集合 x 中：\n",
    "x = {\"f\", \"e\", \"d\", \"c\", \"b\", \"a\"}\n",
    "y = {\"a\", \"b\", \"c\"} \n",
    "z = x.issuperset(y)  \n",
    "print(z)"
   ]
  },
  {
   "cell_type": "markdown",
   "metadata": {
    "heading_collapsed": true
   },
   "source": [
    "# file文件的读写"
   ]
  },
  {
   "cell_type": "markdown",
   "metadata": {
    "hidden": true
   },
   "source": [
    "   读写文件前，我们先必须了解一下，在磁盘上读写文件的功能都是由操作系统提供的，现代操作系统不允许普通的程序直接操作磁盘，所以，读写文件就是请求操作系统打开一个文件对象（通常称为文件描述符），然后，通过操作系统提供的接口从这个文件对象中读取数据（读文件），或者把数据写入这个文件对象（写文件）。\n",
    "   主要以廖雪峰课程为主进行学习。\n",
    "link：https://www.liaoxuefeng.com/wiki/0014316089557264a6b348958f449949df42a6d3a2e542c000/001431917715991ef1ebc19d15a4afdace1169a464eecc2000"
   ]
  },
  {
   "cell_type": "markdown",
   "metadata": {
    "hidden": true
   },
   "source": [
    "### open() 方法\n",
    "\n",
    "1、Python open() 方法用于打开一个文件，并返回文件对象，在对文件进行处理过程都需要使用到这个函数，如果该文件无法被打开，会抛出 OSError。\n",
    "\n",
    "注意：使用 open() 方法一定要保证关闭文件对象，即调用 close() 方法。\n",
    "\n",
    "2、open() 函数常用形式是接收两个参数：文件名(file)和模式(mode)。\n",
    "\n",
    "3、完整的语法格式为：\n",
    "\n",
    "    open(file, mode='r', buffering=-1, encoding=None, errors=None, newline=None, closefd=True, opener=None)\n",
    "    \n",
    "参数说明:\n",
    "\n",
    "file: 必需，文件路径（相对或者绝对路径）。\n",
    "\n",
    "mode: 可选，文件打开模式\n",
    "\n",
    "buffering: 设置缓冲\n",
    "\n",
    "encoding: 一般使用utf8\n",
    "\n",
    "errors: 报错级别\n",
    "\n",
    "newline: 区分换行符\n",
    "\n",
    "closefd: 传入的file参数类型\n",
    "\n",
    "opener:默认None\n"
   ]
  },
  {
   "attachments": {},
   "cell_type": "markdown",
   "metadata": {
    "hidden": true
   },
   "source": [
    "- mode参数：默认为文本模式。\n",
    "\n",
    "    t\t文本模式 (默认)\n",
    "\n",
    "    x\t写模式，新建一个文件，如果该文件已存在则会报错。\n",
    "\n",
    "    b\t二进制模式。\n",
    "\n",
    "    `+` 打开一个文件进行更新(可读可写)。\n",
    "\n",
    "    U\t通用换行模式（不推荐）。\n",
    "\n",
    "    r\t以只读方式打开文件。文件的指针将会放在文件的开头。这是默认模式。\n",
    "\n",
    "    rb\t以二进制格式打开一个文件用于只读。文件指针将会放在文件的开头。这是默认模式。一般用于非文本文件如图片等。\n",
    "\n",
    "    r+\t打开一个文件用于读写。文件指针将会放在文件的开头。\n",
    "\n",
    "    rb+\t以二进制格式打开一个文件用于读写。文件指针将会放在文件的开头。一般用于非文本文件如图片等。\n",
    "\n",
    "    w\t打开一个文件只用于写入。如果该文件已存在则打开文件，并从开头开始编辑，即原有内容会被删除。如果该文件不存在，创建新文件。\n",
    "\n",
    "    wb\t以二进制格式打开一个文件只用于写入。如果该文件已存在则打开文件，并从开头开始编辑，即原有内容会被删除。如果该文件不存在，创建新文件。一般用于非文本文件如图片等。\n",
    "\n",
    "    w+\t打开一个文件用于读写。如果该文件已存在则打开文件，并从开头开始编辑，即原有内容会被删除。如果该文件不存在，创建新文件。\n",
    "\n",
    "    wb+\t以二进制格式打开一个文件用于读写。如果该文件已存在则打开文件，并从开头开始编辑，即原有内容会被删除。如果该文件不存在，创建新文件。一般用于非文本文件如图片等。\n",
    "\n",
    "    a\t打开一个文件用于追加。如果该文件已存在，文件指针将会放在文件的结尾。也就是说，新的内容将会被写入到已有内容之后。如果该文件不存在，创建新文件进行写入。\n",
    "\n",
    "    ab\t以二进制格式打开一个文件用于追加。如果该文件已存在，文件指针将会放在文件的结尾。也就是说，新的内容将会被写入到已有内容之后。如果该文件不存在，创建新文件进行写入。\n",
    "\n",
    "    a+\t打开一个文件用于读写。如果该文件已存在，文件指针将会放在文件的结尾。文件打开时会是追加模式。如果该文件不存在，创建新文件用于读写。\n",
    "\n",
    "    ab+\t以二进制格式打开一个文件用于追加。如果该文件已存在，文件指针将会放在文件的结尾。如果该文件不存在，创建新文件用于读写。"
   ]
  },
  {
   "attachments": {},
   "cell_type": "markdown",
   "metadata": {
    "hidden": true
   },
   "source": [
    "- file 对象使用 open 函数来创建，下表列出了 file 对象常用的函数：\n",
    "\n",
    "\n",
    "序号\t方法及描述\n",
    "\n",
    "1\tfile.close()  关闭文件。关闭后文件不能再进行读写操作。\n",
    "\n",
    "2\tfile.flush()  刷新文件内部缓冲，直接把内部缓冲区的数据立刻写入文件, 而不是被动的等待输出缓冲区写入。\n",
    "\n",
    "3\tfile.fileno() 返回一个整型的文件描述符(file descriptor FD 整型), 可以用在如os模块的read方法等一些底层操作上。\n",
    "\n",
    "4\tfile.isatty() 如果文件连接到一个终端设备返回 True，否则返回 False。\n",
    "\n",
    "5\tfile.next()  返回文件下一行。\n",
    "\n",
    "6\tfile.read([size]) 从文件读取指定的字节数，如果未给定或为负则读取所有。\n",
    "\n",
    "7\tfile.readline([size]) 读取整行，包括 \"\\n\" 字符。\n",
    "\n",
    "8\tfile.readlines([sizeint]) 读取所有行并返回列表，若给定sizeint>0，返回总和大约为sizeint字节的行, 实际读取值可能比 sizeint 较大, 因为需要填充缓冲区。\n",
    "\n",
    "9\tfile.seek(offset[, whence])  设置文件当前位置\n",
    "\n",
    "10\tfile.tell()  返回文件当前位置。\n",
    "\n",
    "11\tfile.truncate([size])  从文件的首行首字符开始截断，截断文件为 size 个字符，无 size 表示从当前位置截断；截断之后后面的所有字符被删除，其中 Widnows 系统下的换行代表2个字符大小。\n",
    "\n",
    "12\tfile.write(str)  将字符串写入文件，返回的是写入的字符长度。\n",
    "\n",
    "13\tfile.writelines(sequence)  向文件写入一个序列字符串列表，如果需要换行则要自己加入每行的换行符。\n"
   ]
  },
  {
   "cell_type": "code",
   "execution_count": 56,
   "metadata": {
    "collapsed": true,
    "hidden": true
   },
   "outputs": [],
   "source": [
    "# open() \n",
    "# 打开一个已存在的文件\n",
    "f = open(r'C:\\Users\\DELL\\Desktop\\D3 test.txt', 'r')\n",
    "f.close()\n",
    "\n",
    "# 文件不存在，open()函数就会抛出一个IOError的错误，并且给出错误码和详细的信息告诉你文件不存在  FileNotFoundError:\n",
    "# f2 = open(r'C:\\Users\\DELL\\Desktop\\test.txt', 'r')"
   ]
  },
  {
   "cell_type": "code",
   "execution_count": 59,
   "metadata": {
    "hidden": true
   },
   "outputs": [
    {
     "name": "stdout",
     "output_type": "stream",
     "text": [
      "Merry X'mas!\n",
      "Happy New Year!\n",
      "python,java,c++,sql\n",
      "\n"
     ]
    }
   ],
   "source": [
    "# 文件打开成功，则调用f.read()方法:可以一次读取文件的全部内容，Python把内容读到内存，用一个str对象表示。\n",
    "f = open(r'C:\\Users\\DELL\\Desktop\\D3 test.txt', 'r')\n",
    "print(f.read())\n",
    "f.close()  #  文件使用完毕后必须关闭"
   ]
  },
  {
   "cell_type": "code",
   "execution_count": 64,
   "metadata": {
    "hidden": true
   },
   "outputs": [
    {
     "data": {
      "text/plain": [
       "'文件读取方法1：\\ntry...finally...\\n为了保证无论是否出错都能正确地关闭文件，我们可以使用try ... finally来实现：\\n'"
      ]
     },
     "execution_count": 64,
     "metadata": {},
     "output_type": "execute_result"
    },
    {
     "name": "stdout",
     "output_type": "stream",
     "text": [
      "Merry X'mas!\n",
      "Happy New Year!\n",
      "python,java,c++,sql\n",
      "\n"
     ]
    },
    {
     "data": {
      "text/plain": [
       "'文件读取方法2：\\n但是每次都这么写实在太繁琐，所以，Python引入了with语句来自动帮我们调用close()方法：\\n'"
      ]
     },
     "execution_count": 64,
     "metadata": {},
     "output_type": "execute_result"
    },
    {
     "name": "stdout",
     "output_type": "stream",
     "text": [
      "Merry X'mas!\n",
      "Happy New Year!\n",
      "python,java,c++,sql\n",
      "\n"
     ]
    }
   ],
   "source": [
    "'''文件读取方法1：\n",
    "try...finally...\n",
    "为了保证无论是否出错都能正确地关闭文件，我们可以使用try ... finally来实现：\n",
    "'''\n",
    "try:\n",
    "    f = open(r'C:\\Users\\DELL\\Desktop\\D3 test.txt', 'r')\n",
    "    print(f.read())\n",
    "finally:\n",
    "    if f:\n",
    "        f.close()\n",
    "\n",
    "'''文件读取方法2：\n",
    "但是每次都这么写实在太繁琐，所以，Python引入了with语句来自动帮我们调用close()方法：\n",
    "'''\n",
    "with open(r'C:\\Users\\DELL\\Desktop\\D3 test.txt', 'r') as f:\n",
    "    print(f.read())"
   ]
  },
  {
   "cell_type": "code",
   "execution_count": 68,
   "metadata": {
    "hidden": true
   },
   "outputs": [
    {
     "data": {
      "text/plain": [
       "'read()  read(size)  readline()  readlines()'"
      ]
     },
     "execution_count": 68,
     "metadata": {},
     "output_type": "execute_result"
    },
    {
     "name": "stdout",
     "output_type": "stream",
     "text": [
      "[\"Merry X'mas!\\n\", 'Happy New Year!\\n', 'python,java,c++,sql\\n']\n",
      "Merry X'mas!\n",
      "Happy New Year!\n",
      "python,java,c++,sql\n"
     ]
    }
   ],
   "source": [
    "\"read()  read(size)  readline()  readlines()\"\n",
    "# 调用read()会一次性读取文件的全部内容；可以反复调用read(size)方法，每次最多读取size个字节的内容\n",
    "# 另外，调用readline()可以每次读取一行内容，调用readlines()一次读取所有内容并按行返回list。\n",
    "# 如果文件很小，read()一次性读取最方便；如果不能确定文件大小，反复调用read(size)比较保险；如果是配置文件，调用readlines()最方便。\n",
    "with open(r'C:\\Users\\DELL\\Desktop\\D3 test.txt', 'r') as f:\n",
    "    print(f.readlines())\n",
    "    \n",
    "with open(r'C:\\Users\\DELL\\Desktop\\D3 test.txt', 'r') as f:\n",
    "    for line in f.readlines():\n",
    "        print(line.strip()) # 把末尾的'\\n'删掉"
   ]
  },
  {
   "cell_type": "markdown",
   "metadata": {
    "hidden": true
   },
   "source": [
    "写文件：\n",
    "写文件和读文件是一样的，唯一区别是调用open()函数时，传入标识符'w'或者'wb'表示写文本文件或写二进制文件："
   ]
  },
  {
   "cell_type": "code",
   "execution_count": 71,
   "metadata": {
    "hidden": true
   },
   "outputs": [
    {
     "data": {
      "text/plain": [
       "13"
      ]
     },
     "execution_count": 71,
     "metadata": {},
     "output_type": "execute_result"
    }
   ],
   "source": [
    "f = open(r'C:\\Users\\DELL\\Desktop\\D3 test.txt', 'w')\n",
    "f.write('Hello, world!')\n",
    "f.close()  # 务必要调用f.close()来关闭文件"
   ]
  },
  {
   "cell_type": "code",
   "execution_count": 72,
   "metadata": {
    "hidden": true
   },
   "outputs": [
    {
     "name": "stdout",
     "output_type": "stream",
     "text": [
      "Hello, world!\n"
     ]
    }
   ],
   "source": [
    "with open(r'C:\\Users\\DELL\\Desktop\\D3 test.txt', 'r') as f:\n",
    "    print(f.read())"
   ]
  },
  {
   "cell_type": "code",
   "execution_count": 74,
   "metadata": {
    "hidden": true
   },
   "outputs": [
    {
     "data": {
      "text/plain": [
       "17"
      ]
     },
     "execution_count": 74,
     "metadata": {},
     "output_type": "execute_result"
    },
    {
     "name": "stdout",
     "output_type": "stream",
     "text": [
      "Hello, everybody!\n"
     ]
    }
   ],
   "source": [
    "# 当我们写文件时，操作系统往往不会立刻把数据写入磁盘，而是放到内存缓存起来，空闲的时候再慢慢写入。\n",
    "# 只有调用close()方法时，操作系统才保证把没有写入的数据全部写入磁盘。忘记调用close()的后果是数据可能只写了一部分到磁盘，剩下的丢失了。\n",
    "# 所以，还是用with语句来得保险：\n",
    "with open(r'C:\\Users\\DELL\\Desktop\\D3 test.txt', 'w') as f:\n",
    "    f.write('Hello, everybody!')\n",
    "\n",
    "with open(r'C:\\Users\\DELL\\Desktop\\D3 test.txt', 'r') as f:\n",
    "    print(f.read())"
   ]
  },
  {
   "cell_type": "markdown",
   "metadata": {
    "hidden": true
   },
   "source": [
    "补充：\n",
    "1、要写入特定编码的文本文件，请给open()函数传入encoding参数，将字符串自动转换成指定编码。\n",
    "2、以'w'模式写入文件时，如果文件已存在，会直接覆盖（相当于删掉后新写入一个文件）。如果我们希望追加到文件末尾，可以传入'a'以追加（append）模式写入。如文件不存在，会创建一个文件并写入对应内容。"
   ]
  },
  {
   "cell_type": "code",
   "execution_count": 75,
   "metadata": {
    "hidden": true
   },
   "outputs": [
    {
     "data": {
      "text/plain": [
       "13"
      ]
     },
     "execution_count": 75,
     "metadata": {},
     "output_type": "execute_result"
    },
    {
     "name": "stdout",
     "output_type": "stream",
     "text": [
      "Hello, world!\n"
     ]
    }
   ],
   "source": [
    "# 使用write（）时，如文件不存在，会创建一个文件并写入对应内容:\n",
    "with open(r'C:\\Users\\DELL\\Desktop\\test.txt', 'w') as f:\n",
    "    f.write('Hello, world!')\n",
    "    \n",
    "with open(r'C:\\Users\\DELL\\Desktop\\test.txt', 'r') as f:\n",
    "    print(f.read())"
   ]
  },
  {
   "cell_type": "code",
   "execution_count": 77,
   "metadata": {
    "hidden": true
   },
   "outputs": [
    {
     "name": "stdout",
     "output_type": "stream",
     "text": [
      "追加前： Hello, everybody!\n",
      "Hello, python!\n",
      "Hello, java!\n"
     ]
    },
    {
     "data": {
      "text/plain": [
       "13"
      ]
     },
     "execution_count": 77,
     "metadata": {},
     "output_type": "execute_result"
    },
    {
     "name": "stdout",
     "output_type": "stream",
     "text": [
      "追加后： Hello, everybody!\n",
      "Hello, python!\n",
      "Hello, java!Hello, world!\n"
     ]
    }
   ],
   "source": [
    "# 往已存在的文件末尾添加内容\n",
    "with open(r'C:\\Users\\DELL\\Desktop\\D3 test.txt', 'r') as f:\n",
    "    print('追加前：',f.read())\n",
    "    \n",
    "with open(r'C:\\Users\\DELL\\Desktop\\D3 test.txt', 'a') as f:\n",
    "    f.write('Hello, world!')\n",
    "with open(r'C:\\Users\\DELL\\Desktop\\D3 test.txt', 'r') as f:\n",
    "    print('追加后：',f.read())"
   ]
  },
  {
   "cell_type": "markdown",
   "metadata": {
    "heading_collapsed": true
   },
   "source": [
    "# python 对excel操作用法详解"
   ]
  },
  {
   "cell_type": "markdown",
   "metadata": {
    "hidden": true
   },
   "source": [
    "写的很详细，也有相关代码，可参考链接：\n",
    "\n",
    "1、https://blog.csdn.net/lmj19851117/article/details/78814721\n",
    "\n",
    "2、https://www.cnblogs.com/nancyzhu/p/8401552.html"
   ]
  },
  {
   "cell_type": "markdown",
   "metadata": {
    "heading_collapsed": true
   },
   "source": [
    "# python 对csv操作用法详解"
   ]
  },
  {
   "cell_type": "markdown",
   "metadata": {
    "hidden": true
   },
   "source": [
    "写的很详细，也有想过代码，可参考链接：\n",
    "\n",
    "1、https://www.cnblogs.com/peixu/p/8042165.html\n",
    "\n",
    "2、https://www.cnblogs.com/mayi0312/p/6840931.html"
   ]
  },
  {
   "cell_type": "markdown",
   "metadata": {
    "heading_collapsed": true
   },
   "source": [
    "# 作业"
   ]
  },
  {
   "cell_type": "markdown",
   "metadata": {
    "hidden": true
   },
   "source": [
    "学习代码200-300行 读取一个文件，将文件中转换为字典，key值为学习项目，value值为一个负责人列表，并判断字典中是否有负责人负责多个学习项目。"
   ]
  },
  {
   "cell_type": "code",
   "execution_count": 111,
   "metadata": {
    "hidden": true
   },
   "outputs": [
    {
     "name": "stdout",
     "output_type": "stream",
     "text": [
      "{'ML项目实践': ['杨冰楠', '孙涛'],\n",
      " 'leetcode刷题': ['老表', '陈焕森'],\n",
      " 'python学习': ['咖喱', '胡骞'],\n",
      " '基础算法梳理': ['sm1les', '钱令武'],\n",
      " '学习群': ['咖喱', '排骨'],\n",
      " '知乎小组': ['李严', '黑桃'],\n",
      " '统计学': ['李奇峰', '蓝昔'],\n",
      " '编程集训': ['孙超', '小熊'],\n",
      " '高级算法梳理': ['于鸿飞', '小雪']}\n"
     ]
    }
   ],
   "source": [
    "# 读取文件，将文件转化为字典：key值为学习项目，value值为一个负责人列表\n",
    "from pprint import pprint\n",
    "\n",
    "words = {}\n",
    "with open(r'C:\\Users\\DELL\\Desktop\\DAY3 homework.txt','r',encoding='utf-8') as f:\n",
    "    for line in f.readlines():\n",
    "        line = line.strip()  # 把末尾的'\\n'删掉\n",
    "        key = line.split(' ')[0]\n",
    "        value = [ line.split(' ')[1] , line.split(' ')[-1] ]\n",
    "        words[key] = value\n",
    "\n",
    "pprint(words)"
   ]
  },
  {
   "cell_type": "code",
   "execution_count": 112,
   "metadata": {
    "hidden": true
   },
   "outputs": [
    {
     "name": "stdout",
     "output_type": "stream",
     "text": [
      "有负责人负责多个项目\n"
     ]
    }
   ],
   "source": [
    "# 判断字典中是否有负责人负责多个学习项目\n",
    "list1 = []\n",
    "for v in words.values():\n",
    "    list1.extend(v)\n",
    "\n",
    "set1 = set(list1)\n",
    "if len(list1)>len(set1):\n",
    "    print('有负责人负责多个项目')\n",
    "else:\n",
    "    print('无负责人负责多个项目')"
   ]
  },
  {
   "cell_type": "code",
   "execution_count": 119,
   "metadata": {
    "hidden": true
   },
   "outputs": [
    {
     "name": "stdout",
     "output_type": "stream",
     "text": [
      "{'sm1les': 1,\n",
      " '于鸿飞': 1,\n",
      " '咖喱': 2,\n",
      " '孙涛': 1,\n",
      " '孙超': 1,\n",
      " '小熊': 1,\n",
      " '小雪': 1,\n",
      " '排骨': 1,\n",
      " '李严': 1,\n",
      " '李奇峰': 1,\n",
      " '杨冰楠': 1,\n",
      " '老表': 1,\n",
      " '胡骞': 1,\n",
      " '蓝昔': 1,\n",
      " '钱令武': 1,\n",
      " '陈焕森': 1,\n",
      " '黑桃': 1}\n",
      "负责多个学习项目的有：咖喱\n"
     ]
    }
   ],
   "source": [
    "# 判断字典中是否有负责人负责多个学习项目，并打印出负责人的名字\n",
    "result = {}\n",
    "for key,value in words.items():\n",
    "    for val in value:\n",
    "        if result.get(val) == None:\n",
    "            result[val] = 1\n",
    "        else:\n",
    "            result[val] += 1\n",
    "pprint(result)\n",
    "\n",
    "print('负责多个学习项目的有：',end='')\n",
    "for key,value in result.items():\n",
    "    if value > 1:\n",
    "        print(key)\n",
    "    else:\n",
    "        pass"
   ]
  }
 ],
 "metadata": {
  "kernelspec": {
   "display_name": "Python 3",
   "language": "python",
   "name": "python3"
  },
  "language_info": {
   "codemirror_mode": {
    "name": "ipython",
    "version": 3
   },
   "file_extension": ".py",
   "mimetype": "text/x-python",
   "name": "python",
   "nbconvert_exporter": "python",
   "pygments_lexer": "ipython3",
   "version": "3.6.7"
  }
 },
 "nbformat": 4,
 "nbformat_minor": 2
}
