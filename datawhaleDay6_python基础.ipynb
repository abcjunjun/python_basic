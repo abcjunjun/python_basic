{
 "cells": [
  {
   "cell_type": "markdown",
   "metadata": {},
   "source": [
    "# 函数  \n",
    "函数是组织好的，可重复使用的，用来实现单一，或相关联功能的代码段。\n",
    "函数能提高应用的模块性，和代码的重复利用率。你已经知道Python提供了许多内建函数，比如print()。但你也可以自己创建函数，这被叫做用户自定义函数。"
   ]
  },
  {
   "cell_type": "markdown",
   "metadata": {},
   "source": [
    "## 函数关键字"
   ]
  },
  {
   "cell_type": "markdown",
   "metadata": {
    "heading_collapsed": true
   },
   "source": [
    "## 函数的定义  \n",
    "- 函数代码块以 def 关键词开头，后接函数标识符名称和圆括号 ()。  \n",
    "- 任何传入参数和自变量必须放在圆括号中间，圆括号之间可以用于定义参数。  \n",
    "- 函数的第一行语句可以选择性地使用文档字符串—用于存放函数说明。  \n",
    "- 函数内容以冒号起始，并且缩进。  \n",
    "- return [表达式] 结束函数，选择性地返回一个值给调用方。不带表达式的return相当于返回 None。  \n",
    "- 一般格式如下：  \n",
    "        def 函数名（参数列表）:  \n",
    "            函数体\n",
    "> 默认情况下，参数值和参数名称是按函数声明中定义的顺序匹配起来的。"
   ]
  },
  {
   "cell_type": "code",
   "execution_count": 4,
   "metadata": {
    "hidden": true
   },
   "outputs": [
    {
     "name": "stdout",
     "output_type": "stream",
     "text": [
      "Hello world!\n"
     ]
    }
   ],
   "source": [
    "# 实例一：简单的函数定义，不带参数\n",
    "def hello():\n",
    "    print(\"Hello world!\")\n",
    "    \n",
    "hello()"
   ]
  },
  {
   "cell_type": "code",
   "execution_count": 5,
   "metadata": {
    "hidden": true
   },
   "outputs": [
    {
     "name": "stdout",
     "output_type": "stream",
     "text": [
      "Welcome Runoob\n",
      "width = 4  height = 5  area = 20\n"
     ]
    }
   ],
   "source": [
    "# 实例二：带参数的函数定义\n",
    "# 计算面积函数\n",
    "def area(width, height):\n",
    "    return width * height\n",
    " \n",
    "def print_welcome(name):\n",
    "    print(\"Welcome\", name)\n",
    "\n",
    "print_welcome(\"Runoob\")\n",
    "w = 4\n",
    "h = 5\n",
    "print(\"width =\", w, \" height =\", h, \" area =\", area(w, h))"
   ]
  },
  {
   "cell_type": "code",
   "execution_count": 6,
   "metadata": {
    "hidden": true
   },
   "outputs": [
    {
     "name": "stdout",
     "output_type": "stream",
     "text": [
      "我要调用用户自定义函数!\n",
      "再次调用同一函数\n"
     ]
    }
   ],
   "source": [
    "# 实例三：\n",
    "# 定义函数\n",
    "def printme( str ):\n",
    "   # 打印任何传入的字符串\n",
    "    print(str)\n",
    "    return\n",
    " \n",
    "# 调用函数\n",
    "printme(\"我要调用用户自定义函数!\")\n",
    "printme(\"再次调用同一函数\")"
   ]
  },
  {
   "cell_type": "markdown",
   "metadata": {},
   "source": [
    "## 函数参数与作用域"
   ]
  },
  {
   "cell_type": "markdown",
   "metadata": {
    "heading_collapsed": true
   },
   "source": [
    "### 参数传递  \n",
    "- **在 python 中，类型属于对象，变量是没有类型的：  **\n",
    "        a=[1,2,3]  \n",
    "        a=\"Runoob\"  \n",
    "> 以上代码中，[1,2,3] 是 List 类型，\"Runoob\" 是 String 类型，而**变量 a 是没有类型，她仅仅是一个对象的引用（一个指针）**，可以是指向 List 类型对象，也可以是指向 String 类型对象。"
   ]
  },
  {
   "cell_type": "markdown",
   "metadata": {
    "heading_collapsed": true
   },
   "source": [
    "### 可更改(mutable)与不可更改(immutable)对象\n",
    "- 在 python 中，strings, tuples, 和 numbers 是不可更改的对象，而 list,dict 等则是可以修改的对象。  \n",
    "  - 不可变类型：变量赋值 a=5 后再赋值 a=10，这里实际是新生成一个 int 值对象 10，再让 a 指向它，而 5 被丢弃，不是改变a的值，相当于新生成了a。\n",
    "  - 可变类型：变量赋值 la=[1,2,3,4] 后再赋值 la[2]=5 则是将 list la 的第三个元素值更改，本身la没有动，只是其内部的一部分值被修改了。"
   ]
  },
  {
   "cell_type": "code",
   "execution_count": 8,
   "metadata": {
    "hidden": true
   },
   "outputs": [
    {
     "name": "stdout",
     "output_type": "stream",
     "text": [
      "a= 5 id(a)= 1798471888\n",
      "a= 10 id(a)= 1798472048\n"
     ]
    }
   ],
   "source": [
    "# 不可变对象（类型）：新生成一个对象，变量指向新对象，二者的id不同\n",
    "a = 5\n",
    "print('a=',a,'id(a)=',id(a))\n",
    "\n",
    "a = 10\n",
    "print('a=',a,'id(a)=',id(a))"
   ]
  },
  {
   "cell_type": "code",
   "execution_count": 9,
   "metadata": {
    "hidden": true
   },
   "outputs": [
    {
     "name": "stdout",
     "output_type": "stream",
     "text": [
      "la= [1, 2, 3, 4] id(la)= 1840442523592\n",
      "la= [1, 2, 5, 4] id(la)= 1840442523592\n"
     ]
    }
   ],
   "source": [
    "# 可变对象（类型）：对原对象的值直接修改，id相同\n",
    "la = [1,2,3,4]\n",
    "print('la=',la,'id(la)=',id(la))\n",
    "\n",
    "la[2] = 5\n",
    "print('la=',la,'id(la)=',id(la))"
   ]
  },
  {
   "cell_type": "markdown",
   "metadata": {
    "heading_collapsed": true
   },
   "source": [
    "### python 函数的参数传递：\n",
    "- 不可变类型：类似 c++ 的值传递，如 整数、字符串、元组。如fun（a），传递的只是a的值，没有影响a对象本身。比如在 fun（a）内部修改 a 的值，只是修改另一个复制的对象，不会影响 a 本身。\n",
    "- 可变类型：类似 c++ 的引用传递，如 列表，字典。如 fun（la），则是将 la 真正的传过去，修改后fun外部的la也会受影响 \n",
    "> python 中一切都是对象，严格意义我们不能说值传递还是引用传递，我们应该说传不可变对象和传可变对象。"
   ]
  },
  {
   "cell_type": "code",
   "execution_count": 13,
   "metadata": {
    "hidden": true
   },
   "outputs": [
    {
     "name": "stdout",
     "output_type": "stream",
     "text": [
      "2 1798471792\n",
      "10 1798472048\n",
      "2 1798471792\n"
     ]
    }
   ],
   "source": [
    "# python 传不可变对象实例\n",
    "def ChangeInt( a ):\n",
    "    print(a,id(a))\n",
    "    a = 10\n",
    "    print(a,id(a))\n",
    "\n",
    "b = 2\n",
    "ChangeInt(b)  # 结果为2 1798471792 ; 10 1798472048\n",
    "print( b ,id(b))  # 结果为2 1798471792"
   ]
  },
  {
   "cell_type": "markdown",
   "metadata": {
    "hidden": true
   },
   "source": [
    "> 实例中有 int 对象 2，指向它的变量是 b，在传递给 ChangeInt 函数时，**按传值的方式复制了变量 b，a 和 b 都指向了同一个 Int 对象**，在 a=10 时，则新生成一个 int 值对象 10，并让 a 指向它。"
   ]
  },
  {
   "cell_type": "code",
   "execution_count": 15,
   "metadata": {
    "hidden": true
   },
   "outputs": [
    {
     "name": "stdout",
     "output_type": "stream",
     "text": [
      "函数内取值:  [10, 20, 30, [1, 2, 3, 4]] 1840443456072\n",
      "函数外取值:  [10, 20, 30, [1, 2, 3, 4]] 1840443456072\n"
     ]
    }
   ],
   "source": [
    "# 传可变对象实例\n",
    "# 可写函数说明\n",
    "def changeme( mylist ):\n",
    "    \"修改传入的列表\"\n",
    "    mylist.append([1,2,3,4])\n",
    "    print(\"函数内取值: \", mylist,id(mylist))\n",
    "    return\n",
    "\n",
    "# 调用changeme函数\n",
    "mylist = [10,20,30]\n",
    "changeme( mylist )\n",
    "print (\"函数外取值: \", mylist,id(mylist))\n",
    "\n",
    "# 注意：传入函数的和在末尾添加新内容的对象用的是同一个引用。"
   ]
  },
  {
   "cell_type": "markdown",
   "metadata": {
    "hidden": true
   },
   "source": [
    "> 可变对象在函数里修改了参数，那么在调用这个函数的函数里，原始的参数也被改变了。"
   ]
  },
  {
   "cell_type": "markdown",
   "metadata": {
    "heading_collapsed": true
   },
   "source": [
    "### 参数  \n",
    "- 以下是调用函数时可使用的正式参数类型：  \n",
    "    必需参数  \n",
    "    关键字参数  \n",
    "    默认参数  \n",
    "    不定长参数  \n",
    "\n",
    "\n",
    "- **必需参数**   \n",
    " 必需参数须以正确的顺序传入函数。调用时的数量必须和声明时的一样。  \n",
    " \n",
    " \n",
    "- **关键字参数**  \n",
    " 关键字参数和函数调用关系紧密，函数调用使用关键字参数来确定传入的参数值。  \n",
    " 使用关键字参数允许函数调用时参数的顺序与声明时不一致，因为 Python 解释器能够用参数名匹配参数值。  \n",
    "\n",
    "\n",
    "- **默认参数**  \n",
    " 调用函数时，如果没有传递参数，则会使用默认参数。  \n",
    "\n",
    "\n",
    "- **不定长参数**  \n",
    "\n",
    "1、你可能需要一个函数能处理比当初声明时更多的参数。这些参数叫做不定长参数，和上述 参数不同，声明时不会命名。基本语法如下：\n",
    "\n",
    "        def functionname([formal_args,] *var_args_tuple ):\n",
    "           \"函数_文档字符串\"\n",
    "           function_suite\n",
    "           return [expression]\n",
    "           \n",
    "> - 加了星号 * 的参数会以元组(tuple)的形式导入，存放所有未命名的变量参数。  \n",
    "> - 如果在函数调用时没有指定参数，它就是一个空元组。我们也可以不向函数传递未命名的变量。  \n",
    "\n",
    "\n",
    " 2、还有一种就是参数带两个星号 `**`基本语法如下：\n",
    " \n",
    "            def functionname([formal_args,] **var_args_dict ):  \n",
    "               \"函数_文档字符串\"  \n",
    "               function_suite  \n",
    "               return [expression]  \n",
    "               \n",
    "> - 加了两个星号 `**` 的参数会以字典的形式导入。  \n",
    "\n",
    " 3、声明函数时，参数中星号 * 可以单独出现。如果单独出现星号 * 后的参数必须用关键字传入。"
   ]
  },
  {
   "cell_type": "code",
   "execution_count": 16,
   "metadata": {
    "hidden": true
   },
   "outputs": [
    {
     "ename": "TypeError",
     "evalue": "printme() missing 1 required positional argument: 'str'",
     "output_type": "error",
     "traceback": [
      "\u001b[1;31m---------------------------------------------------------------------------\u001b[0m",
      "\u001b[1;31mTypeError\u001b[0m                                 Traceback (most recent call last)",
      "\u001b[1;32m<ipython-input-16-cb22358412bb>\u001b[0m in \u001b[0;36m<module>\u001b[1;34m()\u001b[0m\n\u001b[0;32m      6\u001b[0m \u001b[1;33m\u001b[0m\u001b[0m\n\u001b[0;32m      7\u001b[0m \u001b[1;31m#调用printme函数\u001b[0m\u001b[1;33m\u001b[0m\u001b[1;33m\u001b[0m\u001b[1;33m\u001b[0m\u001b[0m\n\u001b[1;32m----> 8\u001b[1;33m \u001b[0mprintme\u001b[0m\u001b[1;33m(\u001b[0m\u001b[1;33m)\u001b[0m\u001b[1;33m\u001b[0m\u001b[1;33m\u001b[0m\u001b[0m\n\u001b[0m",
      "\u001b[1;31mTypeError\u001b[0m: printme() missing 1 required positional argument: 'str'"
     ]
    }
   ],
   "source": [
    "# 实例一：必需参数：调用printme()函数，你必须传入一个参数，不然会出现语法错误：\n",
    "def printme( str ):\n",
    "    \"打印任何传入的字符串\"\n",
    "    print (str)\n",
    "    return\n",
    "\n",
    "#调用printme函数\n",
    "printme()"
   ]
  },
  {
   "cell_type": "code",
   "execution_count": 17,
   "metadata": {
    "hidden": true
   },
   "outputs": [
    {
     "name": "stdout",
     "output_type": "stream",
     "text": [
      "菜鸟教程\n"
     ]
    }
   ],
   "source": [
    "# 实例二：关键字参数\n",
    "def printme( str ):\n",
    "    \"打印任何传入的字符串\"\n",
    "    print (str)\n",
    "    return\n",
    "\n",
    "#调用printme函数\n",
    "printme( str = \"菜鸟教程\")"
   ]
  },
  {
   "cell_type": "code",
   "execution_count": 18,
   "metadata": {
    "hidden": true
   },
   "outputs": [
    {
     "name": "stdout",
     "output_type": "stream",
     "text": [
      "名字:  runoob\n",
      "年龄:  50\n"
     ]
    }
   ],
   "source": [
    "# 实例三：关键字参数，传入不需按照定义的给定顺序\n",
    "def printinfo( name, age ):\n",
    "    \"打印任何传入的字符串\"\n",
    "    print (\"名字: \", name)\n",
    "    print (\"年龄: \", age)\n",
    "    return\n",
    " \n",
    "#调用printinfo函数\n",
    "printinfo( age=50, name=\"runoob\" )"
   ]
  },
  {
   "cell_type": "code",
   "execution_count": 19,
   "metadata": {
    "hidden": true
   },
   "outputs": [
    {
     "name": "stdout",
     "output_type": "stream",
     "text": [
      "名字:  runoob\n",
      "年龄:  50\n",
      "------------------------\n",
      "名字:  runoob\n",
      "年龄:  35\n"
     ]
    }
   ],
   "source": [
    "# 实例四：默认参数\n",
    "def printinfo( name, age = 35 ):\n",
    "    \"打印任何传入的字符串\"\n",
    "    print (\"名字: \", name)\n",
    "    print (\"年龄: \", age)\n",
    "    return\n",
    " \n",
    "#调用printinfo函数\n",
    "printinfo( age=50, name=\"runoob\" )\n",
    "print (\"------------------------\")\n",
    "printinfo( name=\"runoob\" )  # 无传入age参数，则使用函数定义的默认参数值"
   ]
  },
  {
   "cell_type": "code",
   "execution_count": 21,
   "metadata": {
    "hidden": true
   },
   "outputs": [
    {
     "name": "stdout",
     "output_type": "stream",
     "text": [
      "输出: \n",
      "70\n",
      "(60, 50)\n",
      "输出: \n",
      "70\n",
      "((60, 50),)\n"
     ]
    }
   ],
   "source": [
    "# 实例五：不定长参数-- *\n",
    "def printinfo( arg1, *vartuple ):\n",
    "    \"打印任何传入的参数\"\n",
    "    print (\"输出: \")\n",
    "    print (arg1)\n",
    "    print (vartuple)\n",
    "\n",
    "# 调用printinfo 函数\n",
    "printinfo( 70, 60, 50 )\n",
    "\n",
    "printinfo( 70,( 60, 50 ))"
   ]
  },
  {
   "cell_type": "code",
   "execution_count": 22,
   "metadata": {
    "hidden": true
   },
   "outputs": [
    {
     "name": "stdout",
     "output_type": "stream",
     "text": [
      "输出: \n",
      "10\n",
      "输出: \n",
      "70\n",
      "60\n",
      "50\n"
     ]
    }
   ],
   "source": [
    "# 实例六：不定长参数-- *：如果在函数调用时没有指定参数，它就是一个空元组。我们也可以不向函数传递未命名的变量。\n",
    "def printinfo( arg1, *vartuple ):\n",
    "    \"打印任何传入的参数\"\n",
    "    print (\"输出: \")\n",
    "    print (arg1)\n",
    "    for var in vartuple:\n",
    "        print (var)\n",
    "    return\n",
    " \n",
    "# 调用printinfo 函数\n",
    "printinfo( 10 )\n",
    "printinfo( 70, 60, 50 )"
   ]
  },
  {
   "cell_type": "code",
   "execution_count": 23,
   "metadata": {
    "hidden": true
   },
   "outputs": [
    {
     "name": "stdout",
     "output_type": "stream",
     "text": [
      "输出: \n",
      "1\n",
      "{'a': 2, 'b': 3}\n"
     ]
    }
   ],
   "source": [
    "# 实例七：不定长参数-- ** \n",
    "# 可写函数说明\n",
    "def printinfo( arg1, **vardict ):\n",
    "    \"打印任何传入的参数\"\n",
    "    print (\"输出: \")\n",
    "    print (arg1)\n",
    "    print (vardict)\n",
    "\n",
    "# 调用printinfo 函数\n",
    "printinfo(1, a=2,b=3)"
   ]
  },
  {
   "cell_type": "code",
   "execution_count": 24,
   "metadata": {
    "hidden": true
   },
   "outputs": [
    {
     "data": {
      "text/plain": [
       "6"
      ]
     },
     "execution_count": 24,
     "metadata": {},
     "output_type": "execute_result"
    },
    {
     "ename": "TypeError",
     "evalue": "f() takes 2 positional arguments but 3 were given",
     "output_type": "error",
     "traceback": [
      "\u001b[1;31m---------------------------------------------------------------------------\u001b[0m",
      "\u001b[1;31mTypeError\u001b[0m                                 Traceback (most recent call last)",
      "\u001b[1;32m<ipython-input-24-b78002730bb0>\u001b[0m in \u001b[0;36m<module>\u001b[1;34m()\u001b[0m\n\u001b[0;32m      5\u001b[0m \u001b[0mf\u001b[0m\u001b[1;33m(\u001b[0m\u001b[1;36m1\u001b[0m\u001b[1;33m,\u001b[0m\u001b[1;36m2\u001b[0m\u001b[1;33m,\u001b[0m\u001b[0mc\u001b[0m\u001b[1;33m=\u001b[0m\u001b[1;36m3\u001b[0m\u001b[1;33m)\u001b[0m \u001b[1;31m# 正常\u001b[0m\u001b[1;33m\u001b[0m\u001b[1;33m\u001b[0m\u001b[0m\n\u001b[0;32m      6\u001b[0m \u001b[1;33m\u001b[0m\u001b[0m\n\u001b[1;32m----> 7\u001b[1;33m \u001b[0mf\u001b[0m\u001b[1;33m(\u001b[0m\u001b[1;36m1\u001b[0m\u001b[1;33m,\u001b[0m\u001b[1;36m2\u001b[0m\u001b[1;33m,\u001b[0m\u001b[1;36m3\u001b[0m\u001b[1;33m)\u001b[0m  \u001b[1;31m# 报错\u001b[0m\u001b[1;33m\u001b[0m\u001b[1;33m\u001b[0m\u001b[0m\n\u001b[0m\u001b[0;32m      8\u001b[0m \u001b[1;33m\u001b[0m\u001b[0m\n",
      "\u001b[1;31mTypeError\u001b[0m: f() takes 2 positional arguments but 3 were given"
     ]
    }
   ],
   "source": [
    "# 实例八：参数里单独出现 * 号：\n",
    "def f(a,b,*,c):\n",
    "    return a+b+c\n",
    "\n",
    "f(1,2,c=3) # 正常，结果为6\n",
    "\n",
    "f(1,2,3)  # 报错"
   ]
  },
  {
   "cell_type": "markdown",
   "metadata": {},
   "source": [
    "### 匿名函数\n",
    "\n",
    "- python 使用 lambda 来创建匿名函数。\n",
    "\n",
    "- 所谓匿名，意即不再使用 def 语句这样标准的形式定义一个函数。\n",
    "\n",
    "- lambda 只是一个表达式，函数体比 def 简单很多。  \n",
    "- lambda的主体是一个表达式，而不是一个代码块。仅仅能在lambda表达式中封装有限的逻辑进去。  \n",
    "- lambda 函数拥有自己的命名空间，且不能访问自己参数列表之外或全局命名空间里的参数。  \n",
    "- 虽然lambda函数看起来只能写一行，却不等同于C或C++的内联函数，后者的目的是调用小函数时不占用栈内存从而增加运行效率。  \n",
    "\n",
    "- 语法  \n",
    "lambda 函数的语法只包含一个语句，如下：\n",
    "\n",
    "        lambda [arg1 [,arg2,.....argn]]:expression"
   ]
  },
  {
   "cell_type": "code",
   "execution_count": 25,
   "metadata": {},
   "outputs": [
    {
     "name": "stdout",
     "output_type": "stream",
     "text": [
      "相加后的值为 :  30\n",
      "相加后的值为 :  40\n"
     ]
    }
   ],
   "source": [
    "# 可写函数说明\n",
    "sum = lambda arg1, arg2: arg1 + arg2\n",
    " \n",
    "# 调用sum函数\n",
    "print (\"相加后的值为 : \", sum( 10, 20 ))\n",
    "print (\"相加后的值为 : \", sum( 20, 20 ))"
   ]
  },
  {
   "cell_type": "markdown",
   "metadata": {},
   "source": [
    "### 变量作用域\n",
    "\n",
    "- Python 中，程序的变量并不是在哪个位置都可以访问的，访问权限决定于这个变量是在哪里赋值的。\n",
    "\n",
    "- 变量的作用域决定了在哪一部分程序可以访问哪个特定的变量名称。Python的作用域一共有4种，分别是：\n",
    "\n",
    "        L （Local） 局部作用域  \n",
    "        E （Enclosing） 闭包函数外的函数中  \n",
    "        G （Global） 全局作用域  \n",
    "        B （Built-in） 内建作用域  \n",
    "\n",
    "- 以 L –> E –> G –>B 的规则查找，即：在局部找不到，便会去局部外的局部找（例如闭包），再找不到就会去全局找，再者去内建中找。\n",
    "\n",
    "\n",
    "- Python 中只有模块（module），类（class）以及函数（def、lambda）才会引入新的作用域，其它的代码块（如 if/elif/else/、try/except、for/while等）是不会引入新的作用域的，也就是说这些语句内定义的变量，外部也可以访问。"
   ]
  },
  {
   "cell_type": "code",
   "execution_count": null,
   "metadata": {
    "collapsed": true
   },
   "outputs": [],
   "source": [
    "x = int(2.9)  # 内建作用域\n",
    " \n",
    "g_count = 0  # 全局作用域\n",
    "def outer():\n",
    "    o_count = 1  # 闭包函数外的函数中\n",
    "    def inner():\n",
    "        i_count = 2  # 局部作用域"
   ]
  },
  {
   "cell_type": "markdown",
   "metadata": {},
   "source": [
    "- Python 中只有模块（module），类（class）以及函数（def、lambda）才会引入新的作用域，其它的代码块（如 if/elif/else/、try/except、for/while等）是不会引入新的作用域的，也就是说这些语句内定义的变量，外部也可以访问。"
   ]
  },
  {
   "cell_type": "code",
   "execution_count": 26,
   "metadata": {},
   "outputs": [
    {
     "name": "stdout",
     "output_type": "stream",
     "text": [
      "I am from Runoob\n"
     ]
    }
   ],
   "source": [
    "# 实例一：msg 变量定义在 if 语句块中，但外部还是可以访问的。\n",
    "if True:\n",
    "    msg = 'I am from Runoob'  # 在if内的变量\n",
    "\n",
    "print(msg)  # 外部也可以访问if内的变量"
   ]
  },
  {
   "cell_type": "code",
   "execution_count": 27,
   "metadata": {},
   "outputs": [
    {
     "ename": "NameError",
     "evalue": "name 'msg_inner' is not defined",
     "output_type": "error",
     "traceback": [
      "\u001b[1;31m---------------------------------------------------------------------------\u001b[0m",
      "\u001b[1;31mNameError\u001b[0m                                 Traceback (most recent call last)",
      "\u001b[1;32m<ipython-input-27-a75a38ad98d2>\u001b[0m in \u001b[0;36m<module>\u001b[1;34m()\u001b[0m\n\u001b[0;32m      3\u001b[0m     \u001b[0mmsg_inner\u001b[0m \u001b[1;33m=\u001b[0m \u001b[1;34m'I am from Runoob'\u001b[0m  \u001b[1;31m# 变量定义在函数内\u001b[0m\u001b[1;33m\u001b[0m\u001b[1;33m\u001b[0m\u001b[0m\n\u001b[0;32m      4\u001b[0m \u001b[1;33m\u001b[0m\u001b[0m\n\u001b[1;32m----> 5\u001b[1;33m \u001b[0mprint\u001b[0m\u001b[1;33m(\u001b[0m\u001b[0mmsg_inner\u001b[0m\u001b[1;33m)\u001b[0m  \u001b[1;31m# 函数外无法访问函数def内的变量\u001b[0m\u001b[1;33m\u001b[0m\u001b[1;33m\u001b[0m\u001b[0m\n\u001b[0m",
      "\u001b[1;31mNameError\u001b[0m: name 'msg_inner' is not defined"
     ]
    }
   ],
   "source": [
    "# 实例二：将 msg 定义在函数中，则它就是局部变量，外部不能访问。\n",
    "def test():\n",
    "    msg_inner = 'I am from Runoob'  # 变量定义在函数内\n",
    "\n",
    "print(msg_inner)  # 函数外无法访问函数def内的变量"
   ]
  },
  {
   "cell_type": "markdown",
   "metadata": {},
   "source": [
    "### 全局变量和局部变量\n",
    "\n",
    "- 定义在函数内部的变量拥有一个局部作用域，定义在函数外的拥有全局作用域。  \n",
    "- 局部变量只能在其被声明的函数内部访问，而全局变量可以在整个程序范围内访问。  \n",
    "- 调用函数时，所有在函数内声明的变量名称都将被加入到作用域中。"
   ]
  },
  {
   "cell_type": "code",
   "execution_count": 28,
   "metadata": {},
   "outputs": [
    {
     "name": "stdout",
     "output_type": "stream",
     "text": [
      "函数内是局部变量 :  30\n"
     ]
    },
    {
     "data": {
      "text/plain": [
       "30"
      ]
     },
     "execution_count": 28,
     "metadata": {},
     "output_type": "execute_result"
    },
    {
     "name": "stdout",
     "output_type": "stream",
     "text": [
      "函数外是全局变量 :  0\n"
     ]
    }
   ],
   "source": [
    "total = 0 # 这是一个全局变量\n",
    "\n",
    "def add( arg1, arg2 ):\n",
    "    #返回2个参数的和.\"\n",
    "    total = arg1 + arg2 # total在这里是局部变量.\n",
    "    print (\"函数内是局部变量 : \", total)\n",
    "    return total\n",
    " \n",
    "#调用add函数\n",
    "add( 10, 20 )  # 函数内是局部变量 :  30\n",
    "print (\"函数外是全局变量 : \", total)  # 函数外是全局变量 :  0"
   ]
  },
  {
   "cell_type": "markdown",
   "metadata": {},
   "source": [
    "### global 和 nonlocal关键字\n",
    "\n",
    "- 当内部作用域想修改外部作用域的变量时，就要用到global和nonlocal关键字了。"
   ]
  },
  {
   "cell_type": "markdown",
   "metadata": {},
   "source": [
    "- 修改全局变量，使用global关键字。"
   ]
  },
  {
   "cell_type": "code",
   "execution_count": 29,
   "metadata": {},
   "outputs": [
    {
     "name": "stdout",
     "output_type": "stream",
     "text": [
      "1、 1\n",
      "2、 123\n",
      "3、 123\n"
     ]
    }
   ],
   "source": [
    "# 实例：使用global关键字\n",
    "num = 1\n",
    "def fun1():\n",
    "    global num  # 需要使用 global 关键字声明\n",
    "    print('1、',num) \n",
    "    num = 123\n",
    "    print('2、',num)\n",
    "\n",
    "fun1()\n",
    "print('3、',num)"
   ]
  },
  {
   "cell_type": "markdown",
   "metadata": {},
   "source": [
    "- 如果要修改嵌套作用域（enclosing 作用域，外层非全局作用域）中的变量则需要 nonlocal 关键字了。"
   ]
  },
  {
   "cell_type": "code",
   "execution_count": 30,
   "metadata": {},
   "outputs": [
    {
     "name": "stdout",
     "output_type": "stream",
     "text": [
      "1、 10\n",
      "2、 100\n",
      "3、 100\n"
     ]
    }
   ],
   "source": [
    "# 实例：使用nonlocal关键字\n",
    "def outer():\n",
    "    num = 10\n",
    "    print('1、',num)\n",
    "    def inner():\n",
    "        nonlocal num   # nonlocal关键字声明\n",
    "        num = 100\n",
    "        print('2、',num)\n",
    "    inner()\n",
    "    print('3、',num)\n",
    "\n",
    "outer()"
   ]
  },
  {
   "cell_type": "markdown",
   "metadata": {},
   "source": [
    "- 另外一种特殊情况："
   ]
  },
  {
   "cell_type": "code",
   "execution_count": 31,
   "metadata": {},
   "outputs": [
    {
     "ename": "UnboundLocalError",
     "evalue": "local variable 'a' referenced before assignment",
     "output_type": "error",
     "traceback": [
      "\u001b[1;31m---------------------------------------------------------------------------\u001b[0m",
      "\u001b[1;31mUnboundLocalError\u001b[0m                         Traceback (most recent call last)",
      "\u001b[1;32m<ipython-input-31-2cd3c75f97f8>\u001b[0m in \u001b[0;36m<module>\u001b[1;34m()\u001b[0m\n\u001b[0;32m      4\u001b[0m     \u001b[0ma\u001b[0m \u001b[1;33m=\u001b[0m \u001b[0ma\u001b[0m \u001b[1;33m+\u001b[0m \u001b[1;36m1\u001b[0m\u001b[1;33m\u001b[0m\u001b[1;33m\u001b[0m\u001b[0m\n\u001b[0;32m      5\u001b[0m     \u001b[0mprint\u001b[0m\u001b[1;33m(\u001b[0m\u001b[0ma\u001b[0m\u001b[1;33m)\u001b[0m\u001b[1;33m\u001b[0m\u001b[1;33m\u001b[0m\u001b[0m\n\u001b[1;32m----> 6\u001b[1;33m \u001b[0mtest\u001b[0m\u001b[1;33m(\u001b[0m\u001b[1;33m)\u001b[0m\u001b[1;33m\u001b[0m\u001b[1;33m\u001b[0m\u001b[0m\n\u001b[0m",
      "\u001b[1;32m<ipython-input-31-2cd3c75f97f8>\u001b[0m in \u001b[0;36mtest\u001b[1;34m()\u001b[0m\n\u001b[0;32m      2\u001b[0m \u001b[0ma\u001b[0m \u001b[1;33m=\u001b[0m \u001b[1;36m10\u001b[0m\u001b[1;33m\u001b[0m\u001b[1;33m\u001b[0m\u001b[0m\n\u001b[0;32m      3\u001b[0m \u001b[1;32mdef\u001b[0m \u001b[0mtest\u001b[0m\u001b[1;33m(\u001b[0m\u001b[1;33m)\u001b[0m\u001b[1;33m:\u001b[0m\u001b[1;33m\u001b[0m\u001b[1;33m\u001b[0m\u001b[0m\n\u001b[1;32m----> 4\u001b[1;33m     \u001b[0ma\u001b[0m \u001b[1;33m=\u001b[0m \u001b[0ma\u001b[0m \u001b[1;33m+\u001b[0m \u001b[1;36m1\u001b[0m\u001b[1;33m\u001b[0m\u001b[1;33m\u001b[0m\u001b[0m\n\u001b[0m\u001b[0;32m      5\u001b[0m     \u001b[0mprint\u001b[0m\u001b[1;33m(\u001b[0m\u001b[0ma\u001b[0m\u001b[1;33m)\u001b[0m\u001b[1;33m\u001b[0m\u001b[1;33m\u001b[0m\u001b[0m\n\u001b[0;32m      6\u001b[0m \u001b[0mtest\u001b[0m\u001b[1;33m(\u001b[0m\u001b[1;33m)\u001b[0m\u001b[1;33m\u001b[0m\u001b[1;33m\u001b[0m\u001b[0m\n",
      "\u001b[1;31mUnboundLocalError\u001b[0m: local variable 'a' referenced before assignment"
     ]
    }
   ],
   "source": [
    "# 实例：错误信息为局部作用域引用错误，因为 test 函数中的 a 使用的是局部，未定义，无法修改。\n",
    "a = 10\n",
    "def test():\n",
    "    a = a + 1\n",
    "    print(a)\n",
    "test()"
   ]
  },
  {
   "cell_type": "code",
   "execution_count": 34,
   "metadata": {},
   "outputs": [
    {
     "name": "stdout",
     "output_type": "stream",
     "text": [
      "11\n",
      "10\n"
     ]
    }
   ],
   "source": [
    "# 对上面报错的实例进行修改：修改 a 为全局变量，通过函数参数传递，可以正常执行输出结果。\n",
    "a = 10\n",
    "def test(a):\n",
    "    a = a + 1\n",
    "    print(a)\n",
    "test(a)  # 结果为11，在函数内重新生成一个新的对象\n",
    "print(a)  # 结果为10，因为是不可变对象"
   ]
  },
  {
   "cell_type": "markdown",
   "metadata": {},
   "source": [
    "## 函数返回值 : return语句\n",
    "\n",
    "- return [表达式] 语句用于退出函数，选择性地向调用方返回一个表达式。不带参数值的return语句返回None。"
   ]
  },
  {
   "cell_type": "code",
   "execution_count": 35,
   "metadata": {},
   "outputs": [
    {
     "name": "stdout",
     "output_type": "stream",
     "text": [
      "函数内 :  30\n",
      "函数外 :  30\n"
     ]
    }
   ],
   "source": [
    "# 有返回值\n",
    "def sum( arg1, arg2 ):\n",
    "   # 返回2个参数的和.\"\n",
    "    total = arg1 + arg2\n",
    "    print (\"函数内 : \", total)\n",
    "    return total\n",
    "\n",
    "# 调用sum函数\n",
    "total = sum( 10, 20 )\n",
    "print (\"函数外 : \", total)"
   ]
  },
  {
   "cell_type": "code",
   "execution_count": 36,
   "metadata": {},
   "outputs": [
    {
     "name": "stdout",
     "output_type": "stream",
     "text": [
      "函数内 :  30\n",
      "函数外 :  None\n"
     ]
    }
   ],
   "source": [
    "# 无返回值\n",
    "def sum( arg1, arg2 ):\n",
    "   # 返回2个参数的和.\"\n",
    "    total = arg1 + arg2\n",
    "    print (\"函数内 : \", total)\n",
    "    return\n",
    "\n",
    "# 调用sum函数\n",
    "total = sum( 10, 20 )\n",
    "print (\"函数外 : \", total)"
   ]
  },
  {
   "cell_type": "markdown",
   "metadata": {},
   "source": [
    "# 作业"
   ]
  },
  {
   "cell_type": "code",
   "execution_count": 3,
   "metadata": {},
   "outputs": [
    {
     "data": {
      "text/plain": [
       "'1、实现random.sample方法'"
      ]
     },
     "execution_count": 3,
     "metadata": {},
     "output_type": "execute_result"
    },
    {
     "name": "stdout",
     "output_type": "stream",
     "text": [
      "[0, 18, 5, 14]\n"
     ]
    }
   ],
   "source": [
    "'1、实现random.sample方法'\n",
    "import random\n",
    "\n",
    "def get_random_sample(population, k):\n",
    "    temp = []\n",
    "    for i in range(k*3):\n",
    "        x = random.randint(0,len(population))\n",
    "        temp.append(x)\n",
    "        temp2 = list(set(temp))\n",
    "        if len(temp2) >= k:\n",
    "            break\n",
    "    return temp2\n",
    "\n",
    "print(get_random_sample(range(20),4))"
   ]
  },
  {
   "cell_type": "code",
   "execution_count": 41,
   "metadata": {},
   "outputs": [
    {
     "name": "stdout",
     "output_type": "stream",
     "text": [
      "x=[3, 6, 2, 3, 0, 5],x的max_value = 6\n"
     ]
    }
   ],
   "source": [
    "'2、实现Max方法'\n",
    "def get_max(x):\n",
    "    \"查找参数x的最大值\"\n",
    "    Len = len(x)\n",
    "    max_value = x[0]\n",
    "    for i in range(1,Len):\n",
    "        if x[i]>= max_value:\n",
    "            max_value = x[i]\n",
    "    print(\"x={},x的max_value = {}\".format(x,max_value))\n",
    "    return max_value\n",
    "\n",
    "x = [3,6,2,3,0,5]\n",
    "max_value = get_max(x)"
   ]
  },
  {
   "cell_type": "code",
   "execution_count": 45,
   "metadata": {},
   "outputs": [
    {
     "name": "stdout",
     "output_type": "stream",
     "text": [
      "str1=abcdDeg,str2=abcddeg,字符串不相等。\n"
     ]
    },
    {
     "data": {
      "text/plain": [
       "False"
      ]
     },
     "execution_count": 45,
     "metadata": {},
     "output_type": "execute_result"
    },
    {
     "name": "stdout",
     "output_type": "stream",
     "text": [
      "str1=abcddeg,str2=abcddeg,字符串相等。\n"
     ]
    },
    {
     "data": {
      "text/plain": [
       "True"
      ]
     },
     "execution_count": 45,
     "metadata": {},
     "output_type": "execute_result"
    }
   ],
   "source": [
    "'3、实现判断两个字符串是否相等的方法'\n",
    "def get_equal(str1,str2):\n",
    "    Len1 = len(str1)\n",
    "    Len2 = len(str2)\n",
    "    if Len1 != Len2:\n",
    "        print('str1={},str2={},字符串不相等。'.format(str1,str2))\n",
    "        return False\n",
    "    \n",
    "    for i in range(Len1):\n",
    "        if str1[i] != str2[i]:\n",
    "            print('str1={},str2={},字符串不相等。'.format(str1,str2))\n",
    "            return False\n",
    "\n",
    "    print('str1={},str2={},字符串相等。'.format(str1,str2))\n",
    "    return True\n",
    "\n",
    "str1 = 'abcdDeg'\n",
    "str2 = 'abcddeg'\n",
    "get_equal(str1,str2)\n",
    "\n",
    "str1 = 'abcddeg'\n",
    "str2 = 'abcddeg'\n",
    "get_equal(str1,str2)"
   ]
  }
 ],
 "metadata": {
  "kernelspec": {
   "display_name": "Python 3",
   "language": "python",
   "name": "python3"
  },
  "language_info": {
   "codemirror_mode": {
    "name": "ipython",
    "version": 3
   },
   "file_extension": ".py",
   "mimetype": "text/x-python",
   "name": "python",
   "nbconvert_exporter": "python",
   "pygments_lexer": "ipython3",
   "version": "3.6.7"
  }
 },
 "nbformat": 4,
 "nbformat_minor": 2
}
