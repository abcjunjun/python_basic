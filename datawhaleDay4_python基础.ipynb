{
 "cells": [
  {
   "cell_type": "markdown",
   "metadata": {
    "heading_collapsed": true
   },
   "source": [
    "# 条件判断语句\n",
    "Python中if语句的一般形式如下所示：\n",
    "\n",
    "    if condition_1:\n",
    "        statement_block_1\n",
    "    elif condition_2:\n",
    "        statement_block_2\n",
    "    else:\n",
    "        statement_block_3\n",
    "\n",
    "注意：\n",
    "\n",
    "1、Python 中用 elif 代替了 else if，所以if语句的关键字为：if – elif – else。\n",
    "\n",
    "2、每个条件后面要使用冒号 :，表示接下来是满足条件后要执行的语句块。\n",
    "\n",
    "3、使用缩进来划分语句块，相同缩进数的语句在一起组成一个语句块。\n",
    "\n",
    "4、在Python中没有switch – case语句。\n",
    "\n",
    "5、如果只有一层判断，且只需要if后面条件为真，执行相关代码块即可，则else...可以不写出。"
   ]
  },
  {
   "cell_type": "code",
   "execution_count": 2,
   "metadata": {
    "hidden": true
   },
   "outputs": [
    {
     "name": "stdout",
     "output_type": "stream",
     "text": [
      "已经是成年人。\n"
     ]
    }
   ],
   "source": [
    "age = 18\n",
    "if age >= 16:\n",
    "    print('已经是成年人。')\n",
    "else:\n",
    "    print('未成年人。')"
   ]
  },
  {
   "cell_type": "code",
   "execution_count": 3,
   "metadata": {
    "hidden": true
   },
   "outputs": [
    {
     "name": "stdout",
     "output_type": "stream",
     "text": [
      "请输入分数：84\n",
      "成绩良好\n"
     ]
    }
   ],
   "source": [
    "# 多层判断\n",
    "score = float(input('请输入分数：'))\n",
    "if score < 60:\n",
    "    print('成绩不及格')\n",
    "elif score <= 75:\n",
    "    print('成绩一般')\n",
    "elif score <= 90:\n",
    "    print('成绩良好')\n",
    "else:\n",
    "    print('成绩优秀')"
   ]
  },
  {
   "cell_type": "code",
   "execution_count": null,
   "metadata": {
    "collapsed": true,
    "hidden": true
   },
   "outputs": [],
   "source": [
    "'''以下为if中常用的操作运算符:\n",
    "\n",
    "<：小于\n",
    "\n",
    "<=：小于等于\n",
    "\n",
    ">：大于\n",
    "\n",
    ">=：大于等于\n",
    "\n",
    "==：等于，比较对象是否相等\n",
    "\n",
    "!=：不等于'''"
   ]
  },
  {
   "cell_type": "code",
   "execution_count": 4,
   "metadata": {
    "hidden": true
   },
   "outputs": [
    {
     "name": "stdout",
     "output_type": "stream",
     "text": [
      "数字猜谜游戏!\n",
      "请输入你猜的数字：1\n",
      "猜的数字小了...\n",
      "请输入你猜的数字：9\n",
      "猜的数字大了...\n",
      "请输入你猜的数字：7\n",
      "恭喜，你猜对了！\n"
     ]
    }
   ],
   "source": [
    "number = 7\n",
    "guess = -1\n",
    "print(\"数字猜谜游戏!\")\n",
    "while guess != number:\n",
    "    guess = int(input(\"请输入你猜的数字：\"))\n",
    " \n",
    "    if guess == number:\n",
    "        print(\"恭喜，你猜对了！\")\n",
    "    elif guess < number:\n",
    "        print(\"猜的数字小了...\")\n",
    "    elif guess > number:\n",
    "        print(\"猜的数字大了...\")"
   ]
  },
  {
   "cell_type": "markdown",
   "metadata": {
    "hidden": true
   },
   "source": [
    "## if嵌套\n",
    "\n",
    "在嵌套 if 语句中，可以把 if...elif...else 结构放在另外一个 if...elif...else 结构中。\n",
    "\n",
    "    if 表达式1:\n",
    "        语句\n",
    "        if 表达式2:\n",
    "            语句\n",
    "        elif 表达式3:\n",
    "            语句\n",
    "        else:\n",
    "            语句\n",
    "    elif 表达式4:\n",
    "        语句\n",
    "    else:\n",
    "        语句"
   ]
  },
  {
   "cell_type": "code",
   "execution_count": 5,
   "metadata": {
    "hidden": true
   },
   "outputs": [
    {
     "name": "stdout",
     "output_type": "stream",
     "text": [
      "输入一个数字：12\n",
      "你输入的数字可以整除 2 和 3\n"
     ]
    }
   ],
   "source": [
    "num = int(input(\"输入一个数字：\"))\n",
    "if num % 2 == 0:\n",
    "    if num % 3 == 0:\n",
    "        print (\"你输入的数字可以整除 2 和 3\")\n",
    "    else:\n",
    "        print (\"你输入的数字可以整除 2，但不能整除 3\")\n",
    "else:\n",
    "    if num % 3 == 0:\n",
    "        print (\"你输入的数字可以整除 3，但不能整除 2\")\n",
    "    else:\n",
    "        print  (\"你输入的数字不能整除 2 和 3\")"
   ]
  },
  {
   "cell_type": "markdown",
   "metadata": {
    "heading_collapsed": true
   },
   "source": [
    "# 循环语句\n",
    "\n",
    "Python中的循环语句有 for 和 while。"
   ]
  },
  {
   "cell_type": "markdown",
   "metadata": {
    "hidden": true
   },
   "source": [
    "## while 循环\n",
    "\n",
    "\n",
    "    while 判断条件：\n",
    "        语句\n",
    "        \n",
    "注意：\n",
    "\n",
    "1、同样需要注意冒号和缩进。\n",
    "\n",
    "2、另外，在Python中没有do..while循环。"
   ]
  },
  {
   "cell_type": "code",
   "execution_count": 6,
   "metadata": {
    "hidden": true
   },
   "outputs": [
    {
     "name": "stdout",
     "output_type": "stream",
     "text": [
      "1 到 100 之和为: 5050\n"
     ]
    }
   ],
   "source": [
    "# 使用了 while 来计算 1 到 100 的总和：\n",
    "n = 100\n",
    "\n",
    "sum = 0\n",
    "counter = 1\n",
    "while counter <= n:\n",
    "    sum = sum + counter\n",
    "    counter += 1\n",
    " \n",
    "print(\"1 到 %d 之和为: %d\" % (n,sum))"
   ]
  },
  {
   "cell_type": "code",
   "execution_count": null,
   "metadata": {
    "collapsed": true,
    "hidden": true
   },
   "outputs": [],
   "source": [
    "# 无限循环:可以通过设置条件表达式永远不为 false 来实现无限循环.  可以使用 CTRL+C 来退出当前的无限循环.\n",
    "# var = 1\n",
    "# while var == 1 :  # 表达式永远为 true\n",
    "#    num = int(input(\"输入一个数字  :\"))\n",
    "#    print (\"你输入的数字是: \", num)\n",
    " \n",
    "# print(\"Good bye!\")"
   ]
  },
  {
   "cell_type": "markdown",
   "metadata": {
    "hidden": true
   },
   "source": [
    "### while 循环使用 else 语句\n",
    "\n",
    "在 while … else 在条件语句为 false 时执行 else 的语句块."
   ]
  },
  {
   "cell_type": "code",
   "execution_count": 7,
   "metadata": {
    "hidden": true
   },
   "outputs": [
    {
     "name": "stdout",
     "output_type": "stream",
     "text": [
      "0  小于 5\n",
      "1  小于 5\n",
      "2  小于 5\n",
      "3  小于 5\n",
      "4  小于 5\n",
      "5  大于或等于 5\n"
     ]
    }
   ],
   "source": [
    "count = 0\n",
    "while count < 5:\n",
    "   print(count, \" 小于 5\")\n",
    "   count = count + 1\n",
    "else:\n",
    "   print(count, \" 大于或等于 5\")"
   ]
  },
  {
   "cell_type": "markdown",
   "metadata": {
    "collapsed": true,
    "hidden": true
   },
   "source": [
    "简单语句组：类似if语句的语法，如果你的while循环体中只有一条语句，你可以将该语句与while写在同一行中。如：\n",
    "\n",
    "flag = 1\n",
    "\n",
    "while flag <= 5: print(flag)\n",
    "\n",
    "print('goodbye!')"
   ]
  },
  {
   "cell_type": "markdown",
   "metadata": {
    "hidden": true
   },
   "source": [
    "## for 语句\n",
    "\n",
    "Python for循环可以遍历任何序列的项目，如一个列表或者一个字符串。\n",
    "\n",
    "for循环的一般格式如下：\n",
    "\n",
    "    for <variable> in <sequence>:\n",
    "        <statements>\n",
    "    else:\n",
    "        <statements>"
   ]
  },
  {
   "cell_type": "code",
   "execution_count": 1,
   "metadata": {
    "hidden": true
   },
   "outputs": [
    {
     "name": "stdout",
     "output_type": "stream",
     "text": [
      "C\n",
      "C++\n",
      "Perl\n",
      "Python\n"
     ]
    }
   ],
   "source": [
    "languages = [\"C\", \"C++\", \"Perl\", \"Python\"] \n",
    "for x in languages:\n",
    "    print(x)"
   ]
  },
  {
   "cell_type": "code",
   "execution_count": 2,
   "metadata": {
    "hidden": true
   },
   "outputs": [
    {
     "name": "stdout",
     "output_type": "stream",
     "text": [
      "循环数据 Baidu\n",
      "循环数据 Google\n",
      "菜鸟教程!\n",
      "完成循环!\n"
     ]
    }
   ],
   "source": [
    "# 以下 for 实例中使用了 break 语句，break 语句用于跳出当前循环体：执行脚本后，在循环到 \"Runoob\"时会跳出循环体：\n",
    "sites = [\"Baidu\", \"Google\",\"Runoob\",\"Taobao\"]\n",
    "for site in sites:\n",
    "    if site == \"Runoob\":\n",
    "        print(\"菜鸟教程!\")\n",
    "        break\n",
    "    print(\"循环数据 \" + site)\n",
    "else:\n",
    "    print(\"没有循环数据!\")\n",
    "\n",
    "print(\"完成循环!\")"
   ]
  },
  {
   "cell_type": "markdown",
   "metadata": {
    "heading_collapsed": true,
    "hidden": true
   },
   "source": [
    "## range()函数\n",
    "\n",
    "如果你需要遍历数字序列，可以使用内置range()函数。它会生成数列."
   ]
  },
  {
   "cell_type": "code",
   "execution_count": 3,
   "metadata": {
    "hidden": true
   },
   "outputs": [
    {
     "name": "stdout",
     "output_type": "stream",
     "text": [
      "0\n",
      "1\n",
      "2\n",
      "3\n",
      "4\n"
     ]
    }
   ],
   "source": [
    "for i in range(5):   # range(5) 遵循左闭右开\n",
    "    print(i)"
   ]
  },
  {
   "cell_type": "code",
   "execution_count": 4,
   "metadata": {
    "hidden": true
   },
   "outputs": [
    {
     "name": "stdout",
     "output_type": "stream",
     "text": [
      "5\n",
      "6\n",
      "7\n",
      "8\n"
     ]
    }
   ],
   "source": [
    "# 也可以使用range指定区间的值：\n",
    "for i in range(5,9):\n",
    "    print(i)"
   ]
  },
  {
   "cell_type": "code",
   "execution_count": 5,
   "metadata": {
    "hidden": true
   },
   "outputs": [
    {
     "name": "stdout",
     "output_type": "stream",
     "text": [
      "0\n",
      "3\n",
      "6\n",
      "9\n",
      "-10\n",
      "-40\n",
      "-70\n"
     ]
    }
   ],
   "source": [
    "# 也可以使range以指定数字开始并指定不同的增量(甚至可以是负数，有时这也叫做'步长'):\n",
    "for i in range(0, 10, 3):\n",
    "    print(i)\n",
    "    \n",
    "for i in range(-10, -100, -30):\n",
    "    print(i)"
   ]
  },
  {
   "cell_type": "code",
   "execution_count": 6,
   "metadata": {
    "hidden": true
   },
   "outputs": [
    {
     "name": "stdout",
     "output_type": "stream",
     "text": [
      "0 Google\n",
      "1 Baidu\n",
      "2 Runoob\n",
      "3 Taobao\n",
      "4 QQ\n"
     ]
    }
   ],
   "source": [
    "# 可以结合range()和len()函数以遍历一个序列的索引\n",
    "a = ['Google', 'Baidu', 'Runoob', 'Taobao', 'QQ']\n",
    "for i in range(len(a)):\n",
    "    print(i, a[i])"
   ]
  },
  {
   "cell_type": "code",
   "execution_count": 7,
   "metadata": {
    "hidden": true
   },
   "outputs": [
    {
     "name": "stdout",
     "output_type": "stream",
     "text": [
      "[0, 1, 2, 3, 4]\n"
     ]
    }
   ],
   "source": [
    "# 还可以使用range()函数来创建一个列表：\n",
    "print(list(range(5)))"
   ]
  },
  {
   "cell_type": "markdown",
   "metadata": {
    "heading_collapsed": true
   },
   "source": [
    "# break和continue语句及循环中的else子句\n",
    "\n",
    "1、break 语句可以跳出 for 和 while 的循环体。如果你从 for 或 while 循环中终止，任何对应的循环 else 块将不执行。\n",
    "\n",
    "2、continue语句被用来告诉Python跳过当前循环块中的剩余语句，然后继续进行下一轮循环。"
   ]
  },
  {
   "cell_type": "code",
   "execution_count": 8,
   "metadata": {
    "hidden": true
   },
   "outputs": [
    {
     "name": "stdout",
     "output_type": "stream",
     "text": [
      "当前字母为 : R\n",
      "当前字母为 : u\n",
      "当前字母为 : n\n",
      "当前字母为 : o\n",
      "当前字母为 : o\n"
     ]
    }
   ],
   "source": [
    "# break语句\n",
    "for letter in 'Runoob':     # 第一个实例\n",
    "    if letter == 'b':\n",
    "        break\n",
    "    print ('当前字母为 :', letter)"
   ]
  },
  {
   "cell_type": "code",
   "execution_count": 9,
   "metadata": {
    "hidden": true
   },
   "outputs": [
    {
     "name": "stdout",
     "output_type": "stream",
     "text": [
      "当期变量值为 : 10\n",
      "当期变量值为 : 9\n",
      "当期变量值为 : 8\n",
      "当期变量值为 : 7\n",
      "当期变量值为 : 6\n",
      "Good bye!\n"
     ]
    }
   ],
   "source": [
    "var = 10                    # 第二个实例\n",
    "while var > 0:              \n",
    "    print ('当期变量值为 :', var)\n",
    "    var = var - 1\n",
    "    if var == 5:\n",
    "        break\n",
    "\n",
    "print (\"Good bye!\")"
   ]
  },
  {
   "cell_type": "code",
   "execution_count": 10,
   "metadata": {
    "hidden": true
   },
   "outputs": [
    {
     "name": "stdout",
     "output_type": "stream",
     "text": [
      "当前字母 : R\n",
      "当前字母 : u\n",
      "当前字母 : n\n",
      "当前字母 : b\n"
     ]
    }
   ],
   "source": [
    "# continue语句\n",
    "for letter in 'Runoob':     # 第一个实例\n",
    "    if letter == 'o':        # 字母为 o 时跳过输出\n",
    "        continue\n",
    "    print ('当前字母 :', letter)"
   ]
  },
  {
   "cell_type": "code",
   "execution_count": 11,
   "metadata": {
    "hidden": true
   },
   "outputs": [
    {
     "name": "stdout",
     "output_type": "stream",
     "text": [
      "当前变量值 : 9\n",
      "当前变量值 : 8\n",
      "当前变量值 : 7\n",
      "当前变量值 : 6\n",
      "当前变量值 : 4\n",
      "当前变量值 : 3\n",
      "当前变量值 : 2\n",
      "当前变量值 : 1\n",
      "当前变量值 : 0\n",
      "Good bye!\n"
     ]
    }
   ],
   "source": [
    "var = 10                    # 第二个实例\n",
    "while var > 0:              \n",
    "    var = var -1\n",
    "    if var == 5:             # 变量为 5 时跳过输出\n",
    "        continue\n",
    "    print ('当前变量值 :', var)\n",
    "    \n",
    "print (\"Good bye!\")"
   ]
  },
  {
   "cell_type": "code",
   "execution_count": 12,
   "metadata": {
    "hidden": true
   },
   "outputs": [
    {
     "name": "stdout",
     "output_type": "stream",
     "text": [
      "2  是质数\n",
      "3  是质数\n",
      "4 等于 2 * 2\n",
      "5  是质数\n",
      "6 等于 2 * 3\n",
      "7  是质数\n",
      "8 等于 2 * 4\n",
      "9 等于 3 * 3\n"
     ]
    }
   ],
   "source": [
    "# 循环语句可以有 else 子句，它在穷尽列表(以for循环)或条件变为 false (以while循环)导致循环终止时被执行,但循环被break终止时不执行。\n",
    "for n in range(2, 10):\n",
    "    for x in range(2, n):\n",
    "        if n % x == 0:\n",
    "            print(n, '等于', x, '*', n//x)\n",
    "            break\n",
    "    else:\n",
    "        # 循环中没有找到元素\n",
    "        print(n, ' 是质数')"
   ]
  },
  {
   "cell_type": "markdown",
   "metadata": {
    "heading_collapsed": true
   },
   "source": [
    "# pass 语句\n",
    "\n",
    "Python pass是空语句，是为了保持程序结构的完整性。\n",
    "\n",
    "pass 不做任何事情，一般用做占位语句."
   ]
  },
  {
   "cell_type": "code",
   "execution_count": 13,
   "metadata": {
    "hidden": true
   },
   "outputs": [
    {
     "name": "stdout",
     "output_type": "stream",
     "text": [
      "当前字母 : R\n",
      "当前字母 : u\n",
      "当前字母 : n\n",
      "执行 pass 块\n",
      "当前字母 : o\n",
      "执行 pass 块\n",
      "当前字母 : o\n",
      "当前字母 : b\n",
      "Good bye!\n"
     ]
    }
   ],
   "source": [
    "for letter in 'Runoob': \n",
    "    if letter == 'o':\n",
    "        pass\n",
    "        print ('执行 pass 块')\n",
    "    print ('当前字母 :', letter)\n",
    " \n",
    "print(\"Good bye!\")"
   ]
  },
  {
   "cell_type": "markdown",
   "metadata": {},
   "source": [
    "# 三目表达式\n",
    "\n",
    "一般语法格式：\n",
    "\n",
    "    条件为真时的结果 if 判断的条件 else 条件为假时的结果 "
   ]
  },
  {
   "cell_type": "code",
   "execution_count": 17,
   "metadata": {},
   "outputs": [
    {
     "name": "stdout",
     "output_type": "stream",
     "text": [
      "please enter first integer:6\n",
      "please enter second integer:6\n",
      "两数相同！\n",
      "6\n"
     ]
    }
   ],
   "source": [
    "# 实例一：输入两个数，比较它们的大小并输出其中较大者。\n",
    "x = int(input(\"please enter first integer:\"))\n",
    "y = int(input(\"please enter second integer:\"))\n",
    "\n",
    "#一般的写法\n",
    "if (x == y):\n",
    "    print(\"两数相同！\")\n",
    "elif(x > y):\n",
    "    print(\"较大的数为：\",x)\n",
    "else:\n",
    "    print(\"较大的数为：\",y)\n",
    "            \n",
    "# 三目运算符写法\n",
    "print(x if(x > y) else y)"
   ]
  },
  {
   "cell_type": "code",
   "execution_count": 18,
   "metadata": {},
   "outputs": [
    {
     "name": "stdout",
     "output_type": "stream",
     "text": [
      "输入第一个数：5\n",
      "输入第二个数：8\n",
      "输入第三个数：6\n",
      "8\n",
      "8\n"
     ]
    }
   ],
   "source": [
    "# 实例二：输入三个数，输出其最大者。\n",
    "x = int(input(\"输入第一个数：\"))\n",
    "y = int(input(\"输入第二个数：\"))\n",
    "z = int(input(\"输入第三个数：\"))\n",
    "\n",
    "#三目运算符的第一种写法\n",
    "print((x if (x > y) else y) if ((x if (x > y) else y) > z) else z)\n",
    "\n",
    "#三目运算符的第二种写法\n",
    "a=(x if (x > y) else y)\n",
    "print(a if (a > z) else z)"
   ]
  },
  {
   "cell_type": "markdown",
   "metadata": {},
   "source": [
    "# 容器(container)\n",
    "\n",
    "容器是用来储存元素的一种数据结构，它支持隶属测试，容器将所有数据保存在内存中。\n",
    "\n",
    "在Python中典型的容器有：\n",
    "\n",
    "list， deque, …\n",
    "\n",
    "set，frozesets，…\n",
    "\n",
    "dict, defaultdict, OrderedDict, Counter, …\n",
    "\n",
    "tuple, namedtuple, …\n",
    "\n",
    "str\n",
    "\n",
    "容器相对来说很好理解，因为你可以把它当成生活中的箱子、房子、船等等。\n",
    "\n",
    "参考了：http://python.jobbole.com/86258/  。\n",
    "\n",
    "！！！注意：并非所有的容器都是可迭代对象。"
   ]
  },
  {
   "cell_type": "markdown",
   "metadata": {},
   "source": [
    "我们在对比和讨论容器的特性时，最常考虑的因素有：\n",
    "\n",
    "1、是否有序\n",
    "\n",
    "2、是否可重复\n",
    "\n",
    "3、如何访问其中的元素\n",
    "\n",
    "4、是否可以编辑\n",
    "\n",
    "5、如何遍历\n",
    "\n",
    "可参考 https://blog.csdn.net/xiangchi7/article/details/82942197 和 https://blog.csdn.net/lc574260570/article/details/81812162  有详细说明。\n"
   ]
  },
  {
   "cell_type": "code",
   "execution_count": 20,
   "metadata": {},
   "outputs": [
    {
     "name": "stdout",
     "output_type": "stream",
     "text": [
      "True\n",
      "True\n",
      "True\n",
      "True\n",
      "True\n",
      "True\n"
     ]
    }
   ],
   "source": [
    "# 一般的，通过判断一个对象是否包含某个元素来确定它是否为一个容器：\n",
    "print('a' in ['a','b','c'])  # list\n",
    "print('d' not in ['a','b','c'])\n",
    "\n",
    "print('a' in {'a','b','c'})  # set\n",
    "print('d' not in {'a','b','c'})\n",
    "\n",
    "print('a' in ('a','b','c'))  #tuple\n",
    "print('d' not in ('a','b','c'))"
   ]
  },
  {
   "cell_type": "code",
   "execution_count": 21,
   "metadata": {},
   "outputs": [
    {
     "name": "stdout",
     "output_type": "stream",
     "text": [
      "True\n",
      "True\n",
      "False\n"
     ]
    }
   ],
   "source": [
    "# 字典容器通过检查是否包含键来进行判断：\n",
    "d = {1:\"foo\", 2:\"bar\", 3:\"qux\"}\n",
    "print( 1 in d)\n",
    "print(4 not in d)\n",
    "print('foo' in d)  # False 因为‘foo’是字典d的values，非keys"
   ]
  },
  {
   "cell_type": "code",
   "execution_count": 22,
   "metadata": {},
   "outputs": [
    {
     "name": "stdout",
     "output_type": "stream",
     "text": [
      "True\n",
      "True\n",
      "True\n"
     ]
    }
   ],
   "source": [
    "# 字符串通过检查是否包含某个子串来判断\n",
    "s =\"foobar\"\n",
    "print('b' in s)\n",
    "print('u' not in s)\n",
    "print('foo' in s)"
   ]
  },
  {
   "cell_type": "markdown",
   "metadata": {},
   "source": [
    "# 可迭代对象\n",
    "\n",
    "大部分容器都是可迭代的，但是还有其他一些对象也可以迭代，例如，文件对象以及管道对象等等，容器一般来说存储的元素是有限的，同样的，可迭代对象也可以用来表示一个包含有限元素的数据结构。\n",
    "\n",
    "可迭代对象可以为任意对象，不一定非得是基本数据结构，只要这个对象可以返回一个iterator。\n",
    "\n",
    "参考链接：http://python.jobbole.com/86258/  。\n",
    "\n",
    "根据廖雪峰的课程说明，可以通过for循环来遍历这个list或tuple，这种遍历我们称为迭代（Iteration）。\n",
    "\n",
    "在Python中，迭代是通过for ... in来完成的。\n",
    "\n",
    "当我们使用for循环时，只要作用于一个可迭代对象，for循环就可以正常运行，而我们不太关心该对象究竟是list还是其他数据类型。\n",
    "\n",
    "\n",
    "如何判断一个对象是可迭代对象呢？方法是通过collections模块的Iterable类型判断。\n",
    "\n",
    "！！！小结：任何可迭代对象都可以作用于for循环，包括我们自定义的数据类型，只要符合迭代条件，就可以使用for循环。\n",
    "\n",
    "参考链接：https://www.liaoxuefeng.com/wiki/0014316089557264a6b348958f449949df42a6d3a2e542c000/0014317793224211f408912d9c04f2eac4d2af0d5d3d7b2000 。"
   ]
  },
  {
   "cell_type": "code",
   "execution_count": 25,
   "metadata": {},
   "outputs": [
    {
     "data": {
      "text/plain": [
       "1"
      ]
     },
     "execution_count": 25,
     "metadata": {},
     "output_type": "execute_result"
    },
    {
     "data": {
      "text/plain": [
       "1"
      ]
     },
     "execution_count": 25,
     "metadata": {},
     "output_type": "execute_result"
    },
    {
     "name": "stdout",
     "output_type": "stream",
     "text": [
      "<class 'list'>\n",
      "<class 'list_iterator'>\n"
     ]
    }
   ],
   "source": [
    "x = [1,2,3]\n",
    "y = iter(x)\n",
    "z = iter(x)\n",
    "next(y)\n",
    "next(z)\n",
    "\n",
    "print(type(x))   # <class 'list'>  是科迭代对象\n",
    "print(type(y))  # <class 'list_iterator'>  是迭代器"
   ]
  },
  {
   "cell_type": "code",
   "execution_count": 28,
   "metadata": {},
   "outputs": [
    {
     "name": "stdout",
     "output_type": "stream",
     "text": [
      "a\n",
      "b\n",
      "c\n"
     ]
    }
   ],
   "source": [
    "# 除了list和tuple可以使用for循环，dict也可以使用for循环。\n",
    "# 默认情况下，dict迭代的是key。如果要迭代value，可以用for value in d.values()，如果要同时迭代key和value，可以用for k, v in d.items()。\n",
    "d = {'a': 1, 'b': 2, 'c': 3}\n",
    "for key in d:\n",
    "    print(key)"
   ]
  },
  {
   "cell_type": "code",
   "execution_count": 29,
   "metadata": {},
   "outputs": [
    {
     "name": "stdout",
     "output_type": "stream",
     "text": [
      "A\n",
      "B\n",
      "C\n"
     ]
    }
   ],
   "source": [
    "# 由于字符串也是可迭代对象，因此，也可以作用于for循环：\n",
    "for ch in 'ABC':\n",
    "    print(ch)"
   ]
  },
  {
   "cell_type": "code",
   "execution_count": 26,
   "metadata": {},
   "outputs": [
    {
     "name": "stdout",
     "output_type": "stream",
     "text": [
      "True\n",
      "True\n",
      "False\n"
     ]
    }
   ],
   "source": [
    "# 判断是否为可迭代对象\n",
    "from collections import Iterable\n",
    "\n",
    "print(isinstance('abc', Iterable))  # str是否可迭代\n",
    "print(isinstance([1,2,3], Iterable))  # list是否可迭代\n",
    "print(isinstance(123, Iterable))  # 整数是否可迭代"
   ]
  },
  {
   "cell_type": "code",
   "execution_count": 30,
   "metadata": {},
   "outputs": [
    {
     "name": "stdout",
     "output_type": "stream",
     "text": [
      "<class 'list'> True\n",
      "0 A\n",
      "1 B\n",
      "2 C\n"
     ]
    }
   ],
   "source": [
    "# Python内置的enumerate函数可以把一个list变成 索引-元素对 ，这样就可以在for循环中同时迭代索引和元素本身：\n",
    "from collections import Iterable\n",
    "\n",
    "list1 = ['A', 'B', 'C']\n",
    "print(type(list1),isinstance(list1,Iterable))\n",
    "\n",
    "for i, value in enumerate(list1):\n",
    "    print(i,value)"
   ]
  },
  {
   "cell_type": "code",
   "execution_count": 31,
   "metadata": {},
   "outputs": [
    {
     "name": "stdout",
     "output_type": "stream",
     "text": [
      "1 1\n",
      "2 4\n",
      "3 9\n"
     ]
    }
   ],
   "source": [
    "# 上面的for循环里，同时引用了两个变量，在Python里是很常见的，比如:\n",
    "for x, y in [(1, 1), (2, 4), (3, 9)]:\n",
    "    print(x,y)"
   ]
  },
  {
   "cell_type": "markdown",
   "metadata": {},
   "source": [
    "# 迭代器\n",
    "\n",
    "迭代是Python最强大的功能之一，是访问集合元素的一种方式。\n",
    "\n",
    "1、迭代器是一个可以记住遍历的位置的对象。\n",
    "\n",
    "2、迭代器对象从集合的第一个元素开始访问，直到所有的元素被访问完结束。迭代器只能往前不会后退。\n",
    "\n",
    "3、迭代器有两个基本的方法：iter() 和 next()。\n",
    "\n",
    "4、迭代器对象可以使用常规for语句进行遍历。"
   ]
  },
  {
   "cell_type": "code",
   "execution_count": 32,
   "metadata": {},
   "outputs": [
    {
     "name": "stdout",
     "output_type": "stream",
     "text": [
      "1\n",
      "2\n"
     ]
    }
   ],
   "source": [
    "# 字符串，列表或元组对象都可用于创建迭代器：\n",
    "list1 = [1,2,3,4]\n",
    "it = iter(list1)\n",
    "\n",
    "print(next(it))   # 输出迭代器的下一个元素\n",
    "print(next(it))"
   ]
  },
  {
   "cell_type": "code",
   "execution_count": 34,
   "metadata": {},
   "outputs": [
    {
     "name": "stdout",
     "output_type": "stream",
     "text": [
      "1 2 3 4 "
     ]
    }
   ],
   "source": [
    "# 迭代器对象可以使用常规for语句进行遍历：\n",
    "list1 = [1,2,3,4]\n",
    "it = iter(list1)\n",
    "\n",
    "for x in it:\n",
    "    print(x, end=\" \")"
   ]
  },
  {
   "cell_type": "code",
   "execution_count": 36,
   "metadata": {},
   "outputs": [
    {
     "name": "stdout",
     "output_type": "stream",
     "text": [
      "1 2 3 4 "
     ]
    },
    {
     "ename": "SystemExit",
     "evalue": "",
     "output_type": "error",
     "traceback": [
      "An exception has occurred, use %tb to see the full traceback.\n",
      "\u001b[1;31mSystemExit\u001b[0m\n"
     ]
    },
    {
     "name": "stderr",
     "output_type": "stream",
     "text": [
      "C:\\Users\\DELL\\Anaconda3\\lib\\site-packages\\IPython\\core\\interactiveshell.py:2889: UserWarning: To exit: use 'exit', 'quit', or Ctrl-D.\n",
      "  warn(\"To exit: use 'exit', 'quit', or Ctrl-D.\", stacklevel=1)\n"
     ]
    }
   ],
   "source": [
    "# 也可以使用 next() 函数：\n",
    "import sys         # 引入 sys 模块\n",
    "\n",
    "list1 = [1,2,3,4]\n",
    "it = iter(list1)\n",
    "\n",
    "while True:\n",
    "    try:\n",
    "        print(next(it),end=' ')\n",
    "    except StopIteration:\n",
    "        sys.exit()"
   ]
  },
  {
   "cell_type": "markdown",
   "metadata": {},
   "source": [
    "补充：\n",
    "\n",
    "Python程序退出: os._exit()和sys.exit()\n",
    "\n",
    "1、Python程序有两种退出方式： os._exit() 和 sys.exit()。我查了一下这两种方式的区别。\n",
    "\n",
    "    os._exit() 会直接将python程序终止，之后的所有代码都不会执行。\n",
    "\n",
    "    sys.exit() 会抛出一个异常: SystemExit，如果这个异常没有被捕获，那么python解释器将会退出。如果有捕获该异常的代码，那么这些代码还是会执行。\n",
    "\n",
    "2、使用sys.exit()来退出程序比较优雅，调用它能引发SystemExit异常，然后我们可以捕获这个异常做些清理工作。而os._exit()将python解释器直接退出，后面的语句都不会执行。\n",
    "\n",
    "3、一般情况下用sys.exit()就行；os._exit()可以在os.fork()产生的子进程里使用。\n",
    "\n",
    "https://blog.csdn.net/index20001/article/details/74294945"
   ]
  },
  {
   "cell_type": "markdown",
   "metadata": {},
   "source": [
    "### 创建一个迭代器 和 StopIteration\n",
    "\n",
    "1、把一个类作为一个迭代器使用需要在类中实现两个方法 __iter__() 与 __next__() 。\n",
    "\n",
    "    __iter__() 方法返回一个特殊的迭代器对象， 这个迭代器对象实现了 __next__() 方法并通过 StopIteration 异常标识迭代的完成。\n",
    "    __next__() 方法（Python 2 里是 next()）会返回下一个迭代器对象。\n",
    "    \n",
    "2、StopIteration 异常用于标识迭代的完成，防止出现无限循环的情况，在 __next__() 方法中我们可以设置在完成指定循环次数后触发 StopIteration 异常来结束迭代。"
   ]
  },
  {
   "cell_type": "code",
   "execution_count": 39,
   "metadata": {},
   "outputs": [
    {
     "name": "stdout",
     "output_type": "stream",
     "text": [
      "1\n",
      "2\n",
      "3\n",
      "4\n",
      "5\n"
     ]
    }
   ],
   "source": [
    "class MyNumbers:\n",
    "    def __iter__(self):\n",
    "        self.a = 1\n",
    "        return self\n",
    "\n",
    "    def __next__(self):\n",
    "        x = self.a\n",
    "        self.a += 1\n",
    "        return x\n",
    "\n",
    "myclass = MyNumbers()\n",
    "myiter = iter(myclass)\n",
    " \n",
    "print(next(myiter))\n",
    "print(next(myiter))\n",
    "print(next(myiter))\n",
    "print(next(myiter))\n",
    "print(next(myiter))"
   ]
  },
  {
   "cell_type": "code",
   "execution_count": 40,
   "metadata": {},
   "outputs": [
    {
     "name": "stdout",
     "output_type": "stream",
     "text": [
      "1\n",
      "2\n",
      "3\n",
      "4\n",
      "5\n",
      "6\n",
      "7\n",
      "8\n",
      "9\n",
      "10\n",
      "11\n",
      "12\n",
      "13\n",
      "14\n",
      "15\n",
      "16\n",
      "17\n",
      "18\n",
      "19\n",
      "20\n"
     ]
    }
   ],
   "source": [
    "# 在 20 次迭代后停止执行：\n",
    "class MyNumbers:\n",
    "    def __iter__(self):\n",
    "        self.a = 1\n",
    "        return self\n",
    "\n",
    "    def __next__(self):\n",
    "        if self.a <= 20:\n",
    "            x = self.a\n",
    "            self.a += 1\n",
    "            return x\n",
    "        else:\n",
    "            raise StopIteration\n",
    "\n",
    "myclass = MyNumbers()\n",
    "myiter = iter(myclass)\n",
    " \n",
    "for x in myiter:\n",
    "    print(x)"
   ]
  },
  {
   "cell_type": "markdown",
   "metadata": {},
   "source": [
    "# 生成器\n",
    "\n",
    "在 Python 中，使用了 yield 的函数被称为生成器（generator）。\n",
    "\n",
    "跟普通函数不同的是，生成器是一个返回迭代器的函数，只能用于迭代操作，更简单点理解生成器就是一个迭代器。\n",
    "\n",
    "在调用生成器运行的过程中，每次遇到 yield 时函数会暂停并保存当前所有的运行信息，返回 yield 的值, 并在下一次执行 next() 方法时从当前位置继续运行。\n",
    "\n",
    "调用一个生成器函数，返回的是一个迭代器对象。"
   ]
  },
  {
   "cell_type": "code",
   "execution_count": 41,
   "metadata": {},
   "outputs": [
    {
     "name": "stdout",
     "output_type": "stream",
     "text": [
      "0 1 1 2 3 5 8 13 21 34 55 "
     ]
    },
    {
     "ename": "SystemExit",
     "evalue": "",
     "output_type": "error",
     "traceback": [
      "An exception has occurred, use %tb to see the full traceback.\n",
      "\u001b[1;31mSystemExit\u001b[0m\n"
     ]
    },
    {
     "name": "stderr",
     "output_type": "stream",
     "text": [
      "C:\\Users\\DELL\\Anaconda3\\lib\\site-packages\\IPython\\core\\interactiveshell.py:2889: UserWarning: To exit: use 'exit', 'quit', or Ctrl-D.\n",
      "  warn(\"To exit: use 'exit', 'quit', or Ctrl-D.\", stacklevel=1)\n"
     ]
    }
   ],
   "source": [
    "# 以下实例使用 yield 实现斐波那契数列：\n",
    "import sys\n",
    " \n",
    "def fibonacci(n): # 生成器函数 - 斐波那契\n",
    "    a, b, counter = 0, 1, 0\n",
    "    while True:\n",
    "        if (counter > n): \n",
    "            return\n",
    "        yield a\n",
    "        a, b = b, a + b\n",
    "        counter += 1\n",
    "f = fibonacci(10) # f 是一个迭代器，由生成器返回生成\n",
    " \n",
    "while True:\n",
    "    try:\n",
    "        print (next(f), end=\" \")\n",
    "    except StopIteration:\n",
    "        sys.exit()"
   ]
  },
  {
   "cell_type": "markdown",
   "metadata": {},
   "source": [
    "# 作业"
   ]
  },
  {
   "cell_type": "markdown",
   "metadata": {},
   "source": [
    "1、请对方输入一个0-9之间的数字，进行检查，若不是数字提示：您输入的不是数字，请输入0-9间的数字，若数字不在0-9范围内，提示用户输入0-9之间的数字，直至用户输入正确。"
   ]
  },
  {
   "cell_type": "code",
   "execution_count": 56,
   "metadata": {},
   "outputs": [
    {
     "name": "stdout",
     "output_type": "stream",
     "text": [
      "请输入一个0-9之间的数字：b\n",
      "您输入的不是数字，请输入0-9之间的数字。\n",
      "请输入一个0-9之间的数字：10\n",
      "数字不在0-9范围内，请输入0-9之间的数字。\n",
      "请输入一个0-9之间的数字：9\n",
      "Done\n"
     ]
    }
   ],
   "source": [
    "while True:\n",
    "    num = input('请输入一个0-9之间的数字：')\n",
    "    if num.isdigit():  # 判断是否输入数字\n",
    "        num = int(num)\n",
    "        if num in range(10):  # 判断数值是否在0-9范围内\n",
    "            print('Done')\n",
    "            break\n",
    "        else:\n",
    "            print('数字不在0-9范围内，请输入0-9之间的数字。')\n",
    "    else:\n",
    "        print('您输入的不是数字，请输入0-9之间的数字。')"
   ]
  },
  {
   "cell_type": "markdown",
   "metadata": {},
   "source": [
    "2、系统随机生成一个长度为3的数字列表，且列表中元素在0-9之间并且不相等。将用户输入与该列表进行比较，若为列表第一个元素，则荣获第一名，列表第二个元素，则荣获第二名，列表第三个名字，则荣获第三名，否则提示用户未得奖，输入1重新开始游戏，输入2则结束游戏。\n",
    "\n",
    "注意：每次游戏中列表中数字要求随机生成，每轮游戏都不相等。"
   ]
  },
  {
   "cell_type": "code",
   "execution_count": 1,
   "metadata": {},
   "outputs": [
    {
     "name": "stdout",
     "output_type": "stream",
     "text": [
      "请输入一个0-9之间的数字：a\n",
      "您输入的不是数字，请输入0-9之间的数字。\n",
      "请输入一个0-9之间的数字：15\n",
      "数字不在0-9范围内，请输入0-9之间的数字。\n",
      "请输入一个0-9之间的数字：6\n",
      "游戏开始！\n",
      "随机数：[4, 0, 3]\n",
      "很遗憾！您未中奖，继续加油！\n",
      "输入1重新开始游戏，输入2则结束游戏。请输入：1\n",
      "请输入一个0-9之间的数字：d\n",
      "您输入的不是数字，请输入0-9之间的数字。\n",
      "请输入一个0-9之间的数字：11\n",
      "数字不在0-9范围内，请输入0-9之间的数字。\n",
      "请输入一个0-9之间的数字：0\n",
      "游戏开始！\n",
      "随机数：[0, 2, 9]\n",
      "恭喜！荣获第一名。\n",
      "输入1重新开始游戏，输入2则结束游戏。请输入：2\n",
      "游戏结束。欢迎下次光临！\n"
     ]
    }
   ],
   "source": [
    "import random\n",
    "\n",
    "flag = 1\n",
    "while flag !=2:\n",
    "    while True:\n",
    "        num = input('请输入一个0-9之间的数字：')\n",
    "        if num.isdigit():  # 判断是否输入数字\n",
    "            num = int(num)\n",
    "            if num in range(10):  # 判断数值是否在0-9范围内\n",
    "                print('游戏开始！')\n",
    "                break\n",
    "            else:\n",
    "                print('数字不在0-9范围内，请输入0-9之间的数字。')\n",
    "        else:\n",
    "            print('您输入的不是数字，请输入0-9之间的数字。')\n",
    "            \n",
    "    list1 = random.sample(range(10),3)  \n",
    "#     \n",
    "#     random.sample(population, k):\n",
    "#     To choose a sample in a range of integers, use range as an argument.\n",
    "#     This is especially fast and space efficient for sampling from alarge population:  sample(range(10000000), 60)\n",
    "#     \n",
    "    print('随机数：{}'.format(list1))\n",
    "    \n",
    "    if num == list1[0]:\n",
    "        print('恭喜！荣获第一名。')\n",
    "    elif num == list1[1]:\n",
    "        print('恭喜！荣获第二名。')\n",
    "    elif num == list1[2]:\n",
    "        print('恭喜！荣获第三名。')\n",
    "    else:\n",
    "        print('很遗憾！您未中奖，继续加油！')\n",
    "    \n",
    "    while True:\n",
    "        flag = input('输入1重新开始游戏，输入2则结束游戏。请输入：')\n",
    "        if flag.isdigit():\n",
    "            flag = int(flag)\n",
    "            if flag in [1,2]:\n",
    "                break\n",
    "            else:\n",
    "                print('请按要求操作：输入1重新开始游戏，输入2则结束游戏。')\n",
    "        else:\n",
    "            print('请按要求操作：输入1重新开始游戏，输入2则结束游戏。')\n",
    "else:\n",
    "    print('游戏结束。欢迎下次光临！')"
   ]
  }
 ],
 "metadata": {
  "kernelspec": {
   "display_name": "Python 3",
   "language": "python",
   "name": "python3"
  },
  "language_info": {
   "codemirror_mode": {
    "name": "ipython",
    "version": 3
   },
   "file_extension": ".py",
   "mimetype": "text/x-python",
   "name": "python",
   "nbconvert_exporter": "python",
   "pygments_lexer": "ipython3",
   "version": "3.6.7"
  }
 },
 "nbformat": 4,
 "nbformat_minor": 2
}
