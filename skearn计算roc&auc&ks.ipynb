{
 "cells": [
  {
   "cell_type": "code",
   "execution_count": null,
   "metadata": {
    "collapsed": true
   },
   "outputs": [],
   "source": [
    "### 计算KS值\n",
    "def KS(df, score, target):\n",
    "    '''\n",
    "    :param df: 包含目标变量与预测值的数据集,dataframe\n",
    "    :param score: 得分或者概率,str\n",
    "    :param target: 目标变量,str\n",
    "    :return: KS值\n",
    "    '''\n",
    "    total = df.groupby([score])[target].count()\n",
    "    bad = df.groupby([score])[target].sum()\n",
    "    all = pd.DataFrame({'total':total, 'bad':bad})\n",
    "    all['good'] = all['total'] - all['bad']\n",
    "    all[score] = all.index\n",
    "    all = all.sort_values(by=score,ascending=False)\n",
    "    all.index = range(len(all))\n",
    "    all['badCumRate'] = all['bad'].cumsum() / all['bad'].sum()\n",
    "    all['goodCumRate'] = all['good'].cumsum() / all['good'].sum()\n",
    "    KS = all.apply(lambda x: x.badCumRate - x.goodCumRate, axis=1)\n",
    "    return max(KS)"
   ]
  },
  {
   "cell_type": "code",
   "execution_count": 7,
   "metadata": {},
   "outputs": [
    {
     "data": {
      "text/plain": [
       "[<matplotlib.lines.Line2D at 0x18fd7c6e710>]"
      ]
     },
     "execution_count": 7,
     "metadata": {},
     "output_type": "execute_result"
    },
    {
     "data": {
      "text/plain": [
       "Text(0.5, 1.0, 'Receiver Operating Characteristic')"
      ]
     },
     "execution_count": 7,
     "metadata": {},
     "output_type": "execute_result"
    },
    {
     "data": {
      "text/plain": [
       "[<matplotlib.lines.Line2D at 0x18fdad606a0>]"
      ]
     },
     "execution_count": 7,
     "metadata": {},
     "output_type": "execute_result"
    },
    {
     "data": {
      "text/plain": [
       "<matplotlib.legend.Legend at 0x18fda9dfcc0>"
      ]
     },
     "execution_count": 7,
     "metadata": {},
     "output_type": "execute_result"
    },
    {
     "name": "stderr",
     "output_type": "stream",
     "text": [
      "C:\\Users\\DELL\\Anaconda3\\lib\\site-packages\\matplotlib\\figure.py:445: UserWarning: Matplotlib is currently using module://ipykernel.pylab.backend_inline, which is a non-GUI backend, so cannot show the figure.\n",
      "  % get_backend())\n"
     ]
    },
    {
     "data": {
      "image/png": "[encoded data removed]",
      "text/plain": [
       "<Figure size 432x288 with 1 Axes>"
      ]
     },
     "metadata": {},
     "output_type": "display_data"
    }
   ],
   "source": [
    "### sklearn计算auc：\n",
    "# import numpy as np\n",
    "# from sklearn.metrics import roc_curve\n",
    "\n",
    "# y = np.array([1,1,2,2])   # 真实数据的标签\n",
    "# pred = np.array([0.1,0.4,0.35,0.8])  # 预测其分类的概率值\n",
    "# y\n",
    "# pred\n",
    "# fpr, tpr, thresholds = roc_curve(y, pred, pos_label=2)  # pos_label：设定为positive的label\n",
    "# print(fpr)  # 假阳性率 = false positive rate = fpr = FP/(FP+TN)\n",
    "# print(tpr)  # 真阳性率 = true positive rate = tpr = TP/(TP+FN)\n",
    "# print(thresholds)  # thresholds：从大到小排序取值\n",
    "# '''\n",
    "# sklearn.metrics.roc_curve(y_true,y_score,pos_label=None, sample_weight=None, drop_intermediate=True)\n",
    "# 样本：   1    1     2    2     THRESHOLDS    FPR       TPR   \n",
    "# 概率值：0.1  0.4  0.35  0.8\n",
    "# ACTUAL:  N    N     P    P\n",
    "# PREDICT1:N    N     N    P        0.8       0/(0+2)   1/(1+1)\n",
    "# PREDICT2:N    P     N    P        0.4       1/(1+1)   1/(1+1)\n",
    "# PREDICT3:N    P     P    P       0.35       1/(1+1)   2/(2+0)\n",
    "# PREDICT4:P    P     P    P        0.1       2/(2+0)   2/(2+0)\n",
    "# '''\n",
    "\n",
    "\n",
    "# from sklearn.metrics import auc\n",
    "# print(auc(fpr, tpr))\n",
    "\n",
    "# #绘制ROC曲线\n",
    "%matplotlib inline\n",
    "import matplotlib.pyplot as plt\n",
    "auc_score=auc(fpr,tpr)\n",
    "fig,ax=plt.subplots()\n",
    "ax.plot(fpr,tpr,label='AUC=%.5f'%auc_score)\n",
    "ax.set_title('Receiver Operating Characteristic')\n",
    "ax.plot([0, 1], [0, 1], '--', color=(0.6, 0.6, 0.6))\n",
    "ax.legend()\n",
    "fig.show()\n"
   ]
  }
 ],
 "metadata": {
  "kernelspec": {
   "display_name": "Python 3",
   "language": "python",
   "name": "python3"
  },
  "language_info": {
   "codemirror_mode": {
    "name": "ipython",
    "version": 3
   },
   "file_extension": ".py",
   "mimetype": "text/x-python",
   "name": "python",
   "nbconvert_exporter": "python",
   "pygments_lexer": "ipython3",
   "version": "3.6.7"
  }
 },
 "nbformat": 4,
 "nbformat_minor": 2
}
